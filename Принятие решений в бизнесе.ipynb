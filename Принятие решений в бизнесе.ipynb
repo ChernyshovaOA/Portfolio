{
 "cells": [
  {
   "cell_type": "markdown",
   "metadata": {},
   "source": [
    "# Проект: Принятие решений в бизнесе"
   ]
  },
  {
   "cell_type": "markdown",
   "metadata": {},
   "source": [
    "**Описание проекта:**                                                                                             \n",
    "\n",
    "В крупном интернет-магазине подготовлен список гипотез для увеличения выручки.\n",
    "Нужно приоритизовать гипотезы, запустить A/B-тест и проанализировать результаты.\n",
    "\n",
    "В распоряжении:\n",
    "\n",
    "- файл **/datasets/hypothesis.csv** - 9 гипотез по увеличению выручки интернет-магазина с указанными параметрами **Reach, Impact, Confidence, Effort**.\n",
    "\n",
    "- Результаты A/B-теста описаны в файлах **/datasets/orders.csv** и **/datasets/visitors.csv**.\n",
    "\n",
    "Цель исследования:\n",
    "\n",
    "Выяснить какая из гипотез приведет к наибольшему увеличению выручки.\n",
    "\n",
    "Ход исследования:\n",
    "\n",
    "Данные в:\n",
    "\n",
    "- /datasets/hypothesis.csv\n",
    "- /datasets/orders.csv\n",
    "- /datasets/visitors.csv\n",
    "\n",
    "Перед проверкой гипотез необходимо сделать обзор данных.\n",
    "Проверим данные на ошибки и оценим их влияние на исследование. Исправим ошибки данных.\n",
    "\n",
    "Этапы исследования:\n",
    "\n",
    "- Загрузка данных и подготовка их к анализу.\n",
    "\n",
    "- Приоритизация гипотез.\n",
    "\n",
    "- Анализ A/B-теста."
   ]
  },
  {
   "cell_type": "markdown",
   "metadata": {},
   "source": [
    "# 1.Загрузка данных и подготовка их к анализу"
   ]
  },
  {
   "cell_type": "markdown",
   "metadata": {},
   "source": [
    "Импортируем необходимые библиотеки, загрузим данные в переменные:"
   ]
  },
  {
   "cell_type": "code",
   "execution_count": 1,
   "metadata": {},
   "outputs": [],
   "source": [
    "#импортируем библиотеки\n",
    "import pandas as pd\n",
    "import numpy as np\n",
    "import matplotlib.pyplot as plt\n",
    "from scipy import stats as st\n",
    "import datetime as dt\n",
    "from datetime import datetime, timedelta\n",
    "import seaborn as sns\n",
    "from scipy import stats\n",
    "pd.options.display.max_colwidth = 1"
   ]
  },
  {
   "cell_type": "code",
   "execution_count": 2,
   "metadata": {
    "scrolled": false
   },
   "outputs": [],
   "source": [
    "# загрузка данных\n",
    "try:\n",
    "    hypothesis = pd.read_csv('C:/Users/Александр/Desktop/yandex_project/hypothesis.csv')\n",
    "    orders = pd.read_csv('C:/Users/Александр/Desktop/yandex_project/orders.csv')\n",
    "    visitors = pd.read_csv('C:/Users/Александр/Desktop/yandex_project/visitors.csv')\n",
    "\n",
    "except FileNotFoundError:\n",
    "    hypothesis = pd.read_csv('/datasets/hypothesis.csv')\n",
    "    orders = pd.read_csv('/datasets/orders.csv')\n",
    "    visitors = pd.read_csv('/datasets/visitors.csv')"
   ]
  },
  {
   "cell_type": "markdown",
   "metadata": {},
   "source": [
    "- Предобработка таблицы **hypothesis** - гипотезы:"
   ]
  },
  {
   "cell_type": "code",
   "execution_count": 3,
   "metadata": {},
   "outputs": [
    {
     "name": "stdout",
     "output_type": "stream",
     "text": [
      "<class 'pandas.core.frame.DataFrame'>\n",
      "RangeIndex: 9 entries, 0 to 8\n",
      "Data columns (total 5 columns):\n",
      " #   Column      Non-Null Count  Dtype \n",
      "---  ------      --------------  ----- \n",
      " 0   Hypothesis  9 non-null      object\n",
      " 1   Reach       9 non-null      int64 \n",
      " 2   Impact      9 non-null      int64 \n",
      " 3   Confidence  9 non-null      int64 \n",
      " 4   Efforts     9 non-null      int64 \n",
      "dtypes: int64(4), object(1)\n",
      "memory usage: 488.0+ bytes\n",
      "Кол-во дубликатов = 0\n"
     ]
    },
    {
     "data": {
      "text/html": [
       "<div>\n",
       "<style scoped>\n",
       "    .dataframe tbody tr th:only-of-type {\n",
       "        vertical-align: middle;\n",
       "    }\n",
       "\n",
       "    .dataframe tbody tr th {\n",
       "        vertical-align: top;\n",
       "    }\n",
       "\n",
       "    .dataframe thead th {\n",
       "        text-align: right;\n",
       "    }\n",
       "</style>\n",
       "<table border=\"1\" class=\"dataframe\">\n",
       "  <thead>\n",
       "    <tr style=\"text-align: right;\">\n",
       "      <th></th>\n",
       "      <th>Hypothesis</th>\n",
       "      <th>Reach</th>\n",
       "      <th>Impact</th>\n",
       "      <th>Confidence</th>\n",
       "      <th>Efforts</th>\n",
       "    </tr>\n",
       "  </thead>\n",
       "  <tbody>\n",
       "    <tr>\n",
       "      <th>0</th>\n",
       "      <td>Добавить два новых канала привлечения трафика, что позволит привлекать на 30% больше пользователей</td>\n",
       "      <td>3</td>\n",
       "      <td>10</td>\n",
       "      <td>8</td>\n",
       "      <td>6</td>\n",
       "    </tr>\n",
       "    <tr>\n",
       "      <th>1</th>\n",
       "      <td>Запустить собственную службу доставки, что сократит срок доставки заказов</td>\n",
       "      <td>2</td>\n",
       "      <td>5</td>\n",
       "      <td>4</td>\n",
       "      <td>10</td>\n",
       "    </tr>\n",
       "    <tr>\n",
       "      <th>2</th>\n",
       "      <td>Добавить блоки рекомендаций товаров на сайт интернет магазина, чтобы повысить конверсию и средний чек заказа</td>\n",
       "      <td>8</td>\n",
       "      <td>3</td>\n",
       "      <td>7</td>\n",
       "      <td>3</td>\n",
       "    </tr>\n",
       "    <tr>\n",
       "      <th>3</th>\n",
       "      <td>Изменить структура категорий, что увеличит конверсию, т.к. пользователи быстрее найдут нужный товар</td>\n",
       "      <td>8</td>\n",
       "      <td>3</td>\n",
       "      <td>3</td>\n",
       "      <td>8</td>\n",
       "    </tr>\n",
       "    <tr>\n",
       "      <th>4</th>\n",
       "      <td>Изменить цвет фона главной страницы, чтобы увеличить вовлеченность пользователей</td>\n",
       "      <td>3</td>\n",
       "      <td>1</td>\n",
       "      <td>1</td>\n",
       "      <td>1</td>\n",
       "    </tr>\n",
       "    <tr>\n",
       "      <th>5</th>\n",
       "      <td>Добавить страницу отзывов клиентов о магазине, что позволит увеличить количество заказов</td>\n",
       "      <td>3</td>\n",
       "      <td>2</td>\n",
       "      <td>2</td>\n",
       "      <td>3</td>\n",
       "    </tr>\n",
       "    <tr>\n",
       "      <th>6</th>\n",
       "      <td>Показать на главной странице баннеры с актуальными акциями и распродажами, чтобы увеличить конверсию</td>\n",
       "      <td>5</td>\n",
       "      <td>3</td>\n",
       "      <td>8</td>\n",
       "      <td>3</td>\n",
       "    </tr>\n",
       "    <tr>\n",
       "      <th>7</th>\n",
       "      <td>Добавить форму подписки на все основные страницы, чтобы собрать базу клиентов для email-рассылок</td>\n",
       "      <td>10</td>\n",
       "      <td>7</td>\n",
       "      <td>8</td>\n",
       "      <td>5</td>\n",
       "    </tr>\n",
       "    <tr>\n",
       "      <th>8</th>\n",
       "      <td>Запустить акцию, дающую скидку на товар в день рождения</td>\n",
       "      <td>1</td>\n",
       "      <td>9</td>\n",
       "      <td>9</td>\n",
       "      <td>5</td>\n",
       "    </tr>\n",
       "  </tbody>\n",
       "</table>\n",
       "</div>"
      ],
      "text/plain": [
       "                                                                                                     Hypothesis  \\\n",
       "0  Добавить два новых канала привлечения трафика, что позволит привлекать на 30% больше пользователей             \n",
       "1  Запустить собственную службу доставки, что сократит срок доставки заказов                                      \n",
       "2  Добавить блоки рекомендаций товаров на сайт интернет магазина, чтобы повысить конверсию и средний чек заказа   \n",
       "3  Изменить структура категорий, что увеличит конверсию, т.к. пользователи быстрее найдут нужный товар            \n",
       "4  Изменить цвет фона главной страницы, чтобы увеличить вовлеченность пользователей                               \n",
       "5  Добавить страницу отзывов клиентов о магазине, что позволит увеличить количество заказов                       \n",
       "6  Показать на главной странице баннеры с актуальными акциями и распродажами, чтобы увеличить конверсию           \n",
       "7  Добавить форму подписки на все основные страницы, чтобы собрать базу клиентов для email-рассылок               \n",
       "8  Запустить акцию, дающую скидку на товар в день рождения                                                        \n",
       "\n",
       "   Reach  Impact  Confidence  Efforts  \n",
       "0  3      10      8           6        \n",
       "1  2      5       4           10       \n",
       "2  8      3       7           3        \n",
       "3  8      3       3           8        \n",
       "4  3      1       1           1        \n",
       "5  3      2       2           3        \n",
       "6  5      3       8           3        \n",
       "7  10     7       8           5        \n",
       "8  1      9       9           5        "
      ]
     },
     "execution_count": 3,
     "metadata": {},
     "output_type": "execute_result"
    }
   ],
   "source": [
    "hypothesis.info()\n",
    "print(\"Кол-во дубликатов =\",orders.duplicated().sum())\n",
    "hypothesis.head(10)"
   ]
  },
  {
   "cell_type": "code",
   "execution_count": 4,
   "metadata": {},
   "outputs": [],
   "source": [
    "# приведем к нижнему регистру названия столбцов\n",
    "hypothesis.columns = map(str.lower, hypothesis.columns)"
   ]
  },
  {
   "cell_type": "code",
   "execution_count": 5,
   "metadata": {},
   "outputs": [
    {
     "data": {
      "text/plain": [
       "['hypothesis', 'reach', 'impact', 'confidence', 'efforts']"
      ]
     },
     "execution_count": 5,
     "metadata": {},
     "output_type": "execute_result"
    }
   ],
   "source": [
    "# проверим названия столбцов\n",
    "hypothesis.columns.to_list()"
   ]
  },
  {
   "cell_type": "markdown",
   "metadata": {},
   "source": [
    "Данные корректные, типы правильные, дубликатов нет, привели к нижнему регистру названия столбцов, таблица готова к анализу."
   ]
  },
  {
   "cell_type": "markdown",
   "metadata": {},
   "source": [
    "- Предобработка таблицы **orders** - заказы:"
   ]
  },
  {
   "cell_type": "code",
   "execution_count": 6,
   "metadata": {},
   "outputs": [
    {
     "name": "stdout",
     "output_type": "stream",
     "text": [
      "\n",
      "Начальная дата 2019-08-01, конечная дата 2019-08-31\n",
      "\n",
      "Кол-во дубликатов = 0\n",
      "<class 'pandas.core.frame.DataFrame'>\n",
      "RangeIndex: 1197 entries, 0 to 1196\n",
      "Data columns (total 5 columns):\n",
      " #   Column         Non-Null Count  Dtype         \n",
      "---  ------         --------------  -----         \n",
      " 0   transactionId  1197 non-null   int64         \n",
      " 1   visitorId      1197 non-null   int64         \n",
      " 2   date           1197 non-null   datetime64[ns]\n",
      " 3   revenue        1197 non-null   int64         \n",
      " 4   group          1197 non-null   object        \n",
      "dtypes: datetime64[ns](1), int64(3), object(1)\n",
      "memory usage: 46.9+ KB\n"
     ]
    },
    {
     "data": {
      "text/html": [
       "<div>\n",
       "<style scoped>\n",
       "    .dataframe tbody tr th:only-of-type {\n",
       "        vertical-align: middle;\n",
       "    }\n",
       "\n",
       "    .dataframe tbody tr th {\n",
       "        vertical-align: top;\n",
       "    }\n",
       "\n",
       "    .dataframe thead th {\n",
       "        text-align: right;\n",
       "    }\n",
       "</style>\n",
       "<table border=\"1\" class=\"dataframe\">\n",
       "  <thead>\n",
       "    <tr style=\"text-align: right;\">\n",
       "      <th></th>\n",
       "      <th>transactionId</th>\n",
       "      <th>visitorId</th>\n",
       "      <th>date</th>\n",
       "      <th>revenue</th>\n",
       "      <th>group</th>\n",
       "    </tr>\n",
       "  </thead>\n",
       "  <tbody>\n",
       "    <tr>\n",
       "      <th>0</th>\n",
       "      <td>3667963787</td>\n",
       "      <td>3312258926</td>\n",
       "      <td>2019-08-15</td>\n",
       "      <td>1650</td>\n",
       "      <td>B</td>\n",
       "    </tr>\n",
       "    <tr>\n",
       "      <th>1</th>\n",
       "      <td>2804400009</td>\n",
       "      <td>3642806036</td>\n",
       "      <td>2019-08-15</td>\n",
       "      <td>730</td>\n",
       "      <td>B</td>\n",
       "    </tr>\n",
       "    <tr>\n",
       "      <th>2</th>\n",
       "      <td>2961555356</td>\n",
       "      <td>4069496402</td>\n",
       "      <td>2019-08-15</td>\n",
       "      <td>400</td>\n",
       "      <td>A</td>\n",
       "    </tr>\n",
       "    <tr>\n",
       "      <th>3</th>\n",
       "      <td>3797467345</td>\n",
       "      <td>1196621759</td>\n",
       "      <td>2019-08-15</td>\n",
       "      <td>9759</td>\n",
       "      <td>B</td>\n",
       "    </tr>\n",
       "    <tr>\n",
       "      <th>4</th>\n",
       "      <td>2282983706</td>\n",
       "      <td>2322279887</td>\n",
       "      <td>2019-08-15</td>\n",
       "      <td>2308</td>\n",
       "      <td>B</td>\n",
       "    </tr>\n",
       "    <tr>\n",
       "      <th>5</th>\n",
       "      <td>182168103</td>\n",
       "      <td>935554773</td>\n",
       "      <td>2019-08-15</td>\n",
       "      <td>2210</td>\n",
       "      <td>B</td>\n",
       "    </tr>\n",
       "    <tr>\n",
       "      <th>6</th>\n",
       "      <td>398296753</td>\n",
       "      <td>2900797465</td>\n",
       "      <td>2019-08-15</td>\n",
       "      <td>1860</td>\n",
       "      <td>B</td>\n",
       "    </tr>\n",
       "    <tr>\n",
       "      <th>7</th>\n",
       "      <td>2626614568</td>\n",
       "      <td>78758296</td>\n",
       "      <td>2019-08-15</td>\n",
       "      <td>1044</td>\n",
       "      <td>A</td>\n",
       "    </tr>\n",
       "    <tr>\n",
       "      <th>8</th>\n",
       "      <td>1576988021</td>\n",
       "      <td>295230930</td>\n",
       "      <td>2019-08-15</td>\n",
       "      <td>13710</td>\n",
       "      <td>A</td>\n",
       "    </tr>\n",
       "    <tr>\n",
       "      <th>9</th>\n",
       "      <td>1506739906</td>\n",
       "      <td>1882260405</td>\n",
       "      <td>2019-08-15</td>\n",
       "      <td>1855</td>\n",
       "      <td>B</td>\n",
       "    </tr>\n",
       "  </tbody>\n",
       "</table>\n",
       "</div>"
      ],
      "text/plain": [
       "   transactionId   visitorId       date  revenue group\n",
       "0  3667963787     3312258926 2019-08-15  1650     B   \n",
       "1  2804400009     3642806036 2019-08-15  730      B   \n",
       "2  2961555356     4069496402 2019-08-15  400      A   \n",
       "3  3797467345     1196621759 2019-08-15  9759     B   \n",
       "4  2282983706     2322279887 2019-08-15  2308     B   \n",
       "5  182168103      935554773  2019-08-15  2210     B   \n",
       "6  398296753      2900797465 2019-08-15  1860     B   \n",
       "7  2626614568     78758296   2019-08-15  1044     A   \n",
       "8  1576988021     295230930  2019-08-15  13710    A   \n",
       "9  1506739906     1882260405 2019-08-15  1855     B   "
      ]
     },
     "execution_count": 6,
     "metadata": {},
     "output_type": "execute_result"
    }
   ],
   "source": [
    "# файл orders\n",
    "orders['date'] = orders['date'].astype('datetime64[D]')\n",
    "orders['date'] = orders['date'].map(lambda x: dt.datetime.strftime(x, '%Y-%m-%d'))\n",
    "print('\\nНачальная дата {}, конечная дата {}\\n'.format(orders['date'].min(), orders['date'].max()))\n",
    "print(\"Кол-во дубликатов =\",orders.duplicated().sum())\n",
    "# поменяем тип столбца \"date\" на datetime\n",
    "orders['date'] = orders['date'].map(lambda x: dt.datetime.strptime(x, '%Y-%m-%d'))\n",
    "orders.info()\n",
    "orders.head(10)"
   ]
  },
  {
   "cell_type": "markdown",
   "metadata": {},
   "source": [
    "Все данные корректны, целостны, дубликатов нет, готовы к анализу. В процессе предобработки был поменян только тип столбца \"date\" на datetime."
   ]
  },
  {
   "cell_type": "code",
   "execution_count": 7,
   "metadata": {
    "scrolled": true
   },
   "outputs": [
    {
     "data": {
      "text/plain": [
       "array([   8300375,  199603092,  232979603,  237748145,  276558944,\n",
       "        351125977,  393266494,  457167155,  471551937,  477780734,\n",
       "        818047933,  963407295, 1230306981, 1294878855, 1316129916,\n",
       "       1333886533, 1404934699, 1602967004, 1614305549, 1648269707,\n",
       "       1668030113, 1738359350, 1801183820, 1959144690, 2038680547,\n",
       "       2044997962, 2378935119, 2458001652, 2579882178, 2587333274,\n",
       "       2600415354, 2654030115, 2686716486, 2712142231, 2716752286,\n",
       "       2780786433, 2927087541, 2949041841, 2954449915, 3062433592,\n",
       "       3202540741, 3234906277, 3656415546, 3717692402, 3766097110,\n",
       "       3803269165, 3891541246, 3941795274, 3951559397, 3957174400,\n",
       "       3963646447, 3972127743, 3984495233, 4069496402, 4120364173,\n",
       "       4186807279, 4256040402, 4266935830])"
      ]
     },
     "metadata": {},
     "output_type": "display_data"
    },
    {
     "data": {
      "text/plain": [
       "58"
      ]
     },
     "execution_count": 7,
     "metadata": {},
     "output_type": "execute_result"
    }
   ],
   "source": [
    "# проверим, есть ли пользователи, оказавшиеся одновременно в двух группах\n",
    "duplicat_users = np.intersect1d(orders.query('group == \"A\"')['visitorId'].unique(), orders.query('group == \"B\"')['visitorId'].unique())\n",
    "display(duplicat_users)\n",
    "# сосчитаем сколько их\n",
    "len(duplicat_users)"
   ]
  },
  {
   "cell_type": "markdown",
   "metadata": {},
   "source": [
    "Пользователей, оказавшихся одновременно в двух группах - 58. Такое незначительное количество ни на что не повлияет при АВ тестировании, поэтому оставим как есть."
   ]
  },
  {
   "cell_type": "markdown",
   "metadata": {},
   "source": [
    "- Предобработка таблицы **visitors** - посетители:"
   ]
  },
  {
   "cell_type": "code",
   "execution_count": 8,
   "metadata": {},
   "outputs": [
    {
     "name": "stdout",
     "output_type": "stream",
     "text": [
      "\n",
      "Начальная дата 2019-08-01, конечная дата 2019-08-31\n",
      "\n",
      "Кол-во дубликатов = 0\n",
      "<class 'pandas.core.frame.DataFrame'>\n",
      "RangeIndex: 62 entries, 0 to 61\n",
      "Data columns (total 3 columns):\n",
      " #   Column    Non-Null Count  Dtype         \n",
      "---  ------    --------------  -----         \n",
      " 0   date      62 non-null     datetime64[ns]\n",
      " 1   group     62 non-null     object        \n",
      " 2   visitors  62 non-null     int64         \n",
      "dtypes: datetime64[ns](1), int64(1), object(1)\n",
      "memory usage: 1.6+ KB\n"
     ]
    },
    {
     "data": {
      "text/html": [
       "<div>\n",
       "<style scoped>\n",
       "    .dataframe tbody tr th:only-of-type {\n",
       "        vertical-align: middle;\n",
       "    }\n",
       "\n",
       "    .dataframe tbody tr th {\n",
       "        vertical-align: top;\n",
       "    }\n",
       "\n",
       "    .dataframe thead th {\n",
       "        text-align: right;\n",
       "    }\n",
       "</style>\n",
       "<table border=\"1\" class=\"dataframe\">\n",
       "  <thead>\n",
       "    <tr style=\"text-align: right;\">\n",
       "      <th></th>\n",
       "      <th>date</th>\n",
       "      <th>group</th>\n",
       "      <th>visitors</th>\n",
       "    </tr>\n",
       "  </thead>\n",
       "  <tbody>\n",
       "    <tr>\n",
       "      <th>0</th>\n",
       "      <td>2019-08-01</td>\n",
       "      <td>A</td>\n",
       "      <td>719</td>\n",
       "    </tr>\n",
       "    <tr>\n",
       "      <th>1</th>\n",
       "      <td>2019-08-02</td>\n",
       "      <td>A</td>\n",
       "      <td>619</td>\n",
       "    </tr>\n",
       "    <tr>\n",
       "      <th>2</th>\n",
       "      <td>2019-08-03</td>\n",
       "      <td>A</td>\n",
       "      <td>507</td>\n",
       "    </tr>\n",
       "    <tr>\n",
       "      <th>3</th>\n",
       "      <td>2019-08-04</td>\n",
       "      <td>A</td>\n",
       "      <td>717</td>\n",
       "    </tr>\n",
       "    <tr>\n",
       "      <th>4</th>\n",
       "      <td>2019-08-05</td>\n",
       "      <td>A</td>\n",
       "      <td>756</td>\n",
       "    </tr>\n",
       "    <tr>\n",
       "      <th>5</th>\n",
       "      <td>2019-08-06</td>\n",
       "      <td>A</td>\n",
       "      <td>667</td>\n",
       "    </tr>\n",
       "    <tr>\n",
       "      <th>6</th>\n",
       "      <td>2019-08-07</td>\n",
       "      <td>A</td>\n",
       "      <td>644</td>\n",
       "    </tr>\n",
       "    <tr>\n",
       "      <th>7</th>\n",
       "      <td>2019-08-08</td>\n",
       "      <td>A</td>\n",
       "      <td>610</td>\n",
       "    </tr>\n",
       "    <tr>\n",
       "      <th>8</th>\n",
       "      <td>2019-08-09</td>\n",
       "      <td>A</td>\n",
       "      <td>617</td>\n",
       "    </tr>\n",
       "    <tr>\n",
       "      <th>9</th>\n",
       "      <td>2019-08-10</td>\n",
       "      <td>A</td>\n",
       "      <td>406</td>\n",
       "    </tr>\n",
       "  </tbody>\n",
       "</table>\n",
       "</div>"
      ],
      "text/plain": [
       "        date group  visitors\n",
       "0 2019-08-01  A     719     \n",
       "1 2019-08-02  A     619     \n",
       "2 2019-08-03  A     507     \n",
       "3 2019-08-04  A     717     \n",
       "4 2019-08-05  A     756     \n",
       "5 2019-08-06  A     667     \n",
       "6 2019-08-07  A     644     \n",
       "7 2019-08-08  A     610     \n",
       "8 2019-08-09  A     617     \n",
       "9 2019-08-10  A     406     "
      ]
     },
     "execution_count": 8,
     "metadata": {},
     "output_type": "execute_result"
    }
   ],
   "source": [
    "# файл visitors\n",
    "visitors['date'] = visitors['date'].astype('datetime64[D]')\n",
    "visitors['date'] = visitors['date'].map(lambda x: dt.datetime.strftime(x, '%Y-%m-%d'))\n",
    "print('\\nНачальная дата {}, конечная дата {}\\n'.format(visitors['date'].min(), visitors['date'].max()))\n",
    "# поменяем тип столбца \"date\" на datetime\n",
    "visitors['date'] = visitors['date'].map(lambda x: dt.datetime.strptime(x, '%Y-%m-%d'))\n",
    "print(\"Кол-во дубликатов =\",visitors.duplicated().sum())\n",
    "visitors.info()\n",
    "visitors.head(10)"
   ]
  },
  {
   "cell_type": "markdown",
   "metadata": {},
   "source": [
    "Все данные корректны, целостны, дубликатов нет, готовы к анализу. В процессе предобработки был поменян только тип столбца \"date\" на datetime."
   ]
  },
  {
   "cell_type": "markdown",
   "metadata": {},
   "source": [
    "**Вывод:**\n",
    "\n",
    "Данные прочитали, изменили тип данных у столбцов с датами, выгрузка совершена корректно, даты совпадают. Можно приступать к анализу.\n"
   ]
  },
  {
   "cell_type": "markdown",
   "metadata": {},
   "source": [
    "# 2.Приоритизация гипотез"
   ]
  },
  {
   "cell_type": "markdown",
   "metadata": {},
   "source": [
    "- Применим фреймворк ICE для приоритизации гипотез. Отсортируем их по убыванию приоритета.\n",
    "- Применим фреймворк RICE для приоритизации гипотез. Отсортируем их по убыванию приоритета.\n",
    "- Укажем, как изменилась приоритизация гипотез при применении RICE вместо ICE. Объясним, почему так произошло."
   ]
  },
  {
   "cell_type": "code",
   "execution_count": 9,
   "metadata": {},
   "outputs": [
    {
     "data": {
      "text/html": [
       "<div>\n",
       "<style scoped>\n",
       "    .dataframe tbody tr th:only-of-type {\n",
       "        vertical-align: middle;\n",
       "    }\n",
       "\n",
       "    .dataframe tbody tr th {\n",
       "        vertical-align: top;\n",
       "    }\n",
       "\n",
       "    .dataframe thead th {\n",
       "        text-align: right;\n",
       "    }\n",
       "</style>\n",
       "<table border=\"1\" class=\"dataframe\">\n",
       "  <thead>\n",
       "    <tr style=\"text-align: right;\">\n",
       "      <th></th>\n",
       "      <th>hypothesis</th>\n",
       "      <th>reach</th>\n",
       "      <th>impact</th>\n",
       "      <th>confidence</th>\n",
       "      <th>efforts</th>\n",
       "      <th>ICE</th>\n",
       "    </tr>\n",
       "  </thead>\n",
       "  <tbody>\n",
       "    <tr>\n",
       "      <th>8</th>\n",
       "      <td>Запустить акцию, дающую скидку на товар в день рождения</td>\n",
       "      <td>1</td>\n",
       "      <td>9</td>\n",
       "      <td>9</td>\n",
       "      <td>5</td>\n",
       "      <td>16.20</td>\n",
       "    </tr>\n",
       "    <tr>\n",
       "      <th>0</th>\n",
       "      <td>Добавить два новых канала привлечения трафика, что позволит привлекать на 30% больше пользователей</td>\n",
       "      <td>3</td>\n",
       "      <td>10</td>\n",
       "      <td>8</td>\n",
       "      <td>6</td>\n",
       "      <td>13.33</td>\n",
       "    </tr>\n",
       "    <tr>\n",
       "      <th>7</th>\n",
       "      <td>Добавить форму подписки на все основные страницы, чтобы собрать базу клиентов для email-рассылок</td>\n",
       "      <td>10</td>\n",
       "      <td>7</td>\n",
       "      <td>8</td>\n",
       "      <td>5</td>\n",
       "      <td>11.20</td>\n",
       "    </tr>\n",
       "    <tr>\n",
       "      <th>6</th>\n",
       "      <td>Показать на главной странице баннеры с актуальными акциями и распродажами, чтобы увеличить конверсию</td>\n",
       "      <td>5</td>\n",
       "      <td>3</td>\n",
       "      <td>8</td>\n",
       "      <td>3</td>\n",
       "      <td>8.00</td>\n",
       "    </tr>\n",
       "    <tr>\n",
       "      <th>2</th>\n",
       "      <td>Добавить блоки рекомендаций товаров на сайт интернет магазина, чтобы повысить конверсию и средний чек заказа</td>\n",
       "      <td>8</td>\n",
       "      <td>3</td>\n",
       "      <td>7</td>\n",
       "      <td>3</td>\n",
       "      <td>7.00</td>\n",
       "    </tr>\n",
       "    <tr>\n",
       "      <th>1</th>\n",
       "      <td>Запустить собственную службу доставки, что сократит срок доставки заказов</td>\n",
       "      <td>2</td>\n",
       "      <td>5</td>\n",
       "      <td>4</td>\n",
       "      <td>10</td>\n",
       "      <td>2.00</td>\n",
       "    </tr>\n",
       "    <tr>\n",
       "      <th>5</th>\n",
       "      <td>Добавить страницу отзывов клиентов о магазине, что позволит увеличить количество заказов</td>\n",
       "      <td>3</td>\n",
       "      <td>2</td>\n",
       "      <td>2</td>\n",
       "      <td>3</td>\n",
       "      <td>1.33</td>\n",
       "    </tr>\n",
       "    <tr>\n",
       "      <th>3</th>\n",
       "      <td>Изменить структура категорий, что увеличит конверсию, т.к. пользователи быстрее найдут нужный товар</td>\n",
       "      <td>8</td>\n",
       "      <td>3</td>\n",
       "      <td>3</td>\n",
       "      <td>8</td>\n",
       "      <td>1.12</td>\n",
       "    </tr>\n",
       "    <tr>\n",
       "      <th>4</th>\n",
       "      <td>Изменить цвет фона главной страницы, чтобы увеличить вовлеченность пользователей</td>\n",
       "      <td>3</td>\n",
       "      <td>1</td>\n",
       "      <td>1</td>\n",
       "      <td>1</td>\n",
       "      <td>1.00</td>\n",
       "    </tr>\n",
       "  </tbody>\n",
       "</table>\n",
       "</div>"
      ],
      "text/plain": [
       "                                                                                                     hypothesis  \\\n",
       "8  Запустить акцию, дающую скидку на товар в день рождения                                                        \n",
       "0  Добавить два новых канала привлечения трафика, что позволит привлекать на 30% больше пользователей             \n",
       "7  Добавить форму подписки на все основные страницы, чтобы собрать базу клиентов для email-рассылок               \n",
       "6  Показать на главной странице баннеры с актуальными акциями и распродажами, чтобы увеличить конверсию           \n",
       "2  Добавить блоки рекомендаций товаров на сайт интернет магазина, чтобы повысить конверсию и средний чек заказа   \n",
       "1  Запустить собственную службу доставки, что сократит срок доставки заказов                                      \n",
       "5  Добавить страницу отзывов клиентов о магазине, что позволит увеличить количество заказов                       \n",
       "3  Изменить структура категорий, что увеличит конверсию, т.к. пользователи быстрее найдут нужный товар            \n",
       "4  Изменить цвет фона главной страницы, чтобы увеличить вовлеченность пользователей                               \n",
       "\n",
       "   reach  impact  confidence  efforts    ICE  \n",
       "8  1      9       9           5        16.20  \n",
       "0  3      10      8           6        13.33  \n",
       "7  10     7       8           5        11.20  \n",
       "6  5      3       8           3        8.00   \n",
       "2  8      3       7           3        7.00   \n",
       "1  2      5       4           10       2.00   \n",
       "5  3      2       2           3        1.33   \n",
       "3  8      3       3           8        1.12   \n",
       "4  3      1       1           1        1.00   "
      ]
     },
     "execution_count": 9,
     "metadata": {},
     "output_type": "execute_result"
    }
   ],
   "source": [
    "# посчитаем ICE для гипотез\n",
    "hypothesis['ICE'] = (( hypothesis['impact'] * hypothesis['confidence']) / hypothesis['efforts']).round(2)\n",
    "hypothesis.sort_values(by='ICE', ascending=False)"
   ]
  },
  {
   "cell_type": "markdown",
   "metadata": {},
   "source": [
    "В первых местах гипотезы с индексами 8, 0, 7."
   ]
  },
  {
   "cell_type": "code",
   "execution_count": 10,
   "metadata": {},
   "outputs": [
    {
     "data": {
      "text/html": [
       "<div>\n",
       "<style scoped>\n",
       "    .dataframe tbody tr th:only-of-type {\n",
       "        vertical-align: middle;\n",
       "    }\n",
       "\n",
       "    .dataframe tbody tr th {\n",
       "        vertical-align: top;\n",
       "    }\n",
       "\n",
       "    .dataframe thead th {\n",
       "        text-align: right;\n",
       "    }\n",
       "</style>\n",
       "<table border=\"1\" class=\"dataframe\">\n",
       "  <thead>\n",
       "    <tr style=\"text-align: right;\">\n",
       "      <th></th>\n",
       "      <th>hypothesis</th>\n",
       "      <th>reach</th>\n",
       "      <th>impact</th>\n",
       "      <th>confidence</th>\n",
       "      <th>efforts</th>\n",
       "      <th>ICE</th>\n",
       "      <th>RICE</th>\n",
       "    </tr>\n",
       "  </thead>\n",
       "  <tbody>\n",
       "    <tr>\n",
       "      <th>7</th>\n",
       "      <td>Добавить форму подписки на все основные страницы, чтобы собрать базу клиентов для email-рассылок</td>\n",
       "      <td>10</td>\n",
       "      <td>7</td>\n",
       "      <td>8</td>\n",
       "      <td>5</td>\n",
       "      <td>11.20</td>\n",
       "      <td>112.0</td>\n",
       "    </tr>\n",
       "    <tr>\n",
       "      <th>2</th>\n",
       "      <td>Добавить блоки рекомендаций товаров на сайт интернет магазина, чтобы повысить конверсию и средний чек заказа</td>\n",
       "      <td>8</td>\n",
       "      <td>3</td>\n",
       "      <td>7</td>\n",
       "      <td>3</td>\n",
       "      <td>7.00</td>\n",
       "      <td>56.0</td>\n",
       "    </tr>\n",
       "    <tr>\n",
       "      <th>0</th>\n",
       "      <td>Добавить два новых канала привлечения трафика, что позволит привлекать на 30% больше пользователей</td>\n",
       "      <td>3</td>\n",
       "      <td>10</td>\n",
       "      <td>8</td>\n",
       "      <td>6</td>\n",
       "      <td>13.33</td>\n",
       "      <td>40.0</td>\n",
       "    </tr>\n",
       "    <tr>\n",
       "      <th>6</th>\n",
       "      <td>Показать на главной странице баннеры с актуальными акциями и распродажами, чтобы увеличить конверсию</td>\n",
       "      <td>5</td>\n",
       "      <td>3</td>\n",
       "      <td>8</td>\n",
       "      <td>3</td>\n",
       "      <td>8.00</td>\n",
       "      <td>40.0</td>\n",
       "    </tr>\n",
       "    <tr>\n",
       "      <th>8</th>\n",
       "      <td>Запустить акцию, дающую скидку на товар в день рождения</td>\n",
       "      <td>1</td>\n",
       "      <td>9</td>\n",
       "      <td>9</td>\n",
       "      <td>5</td>\n",
       "      <td>16.20</td>\n",
       "      <td>16.2</td>\n",
       "    </tr>\n",
       "    <tr>\n",
       "      <th>3</th>\n",
       "      <td>Изменить структура категорий, что увеличит конверсию, т.к. пользователи быстрее найдут нужный товар</td>\n",
       "      <td>8</td>\n",
       "      <td>3</td>\n",
       "      <td>3</td>\n",
       "      <td>8</td>\n",
       "      <td>1.12</td>\n",
       "      <td>9.0</td>\n",
       "    </tr>\n",
       "    <tr>\n",
       "      <th>1</th>\n",
       "      <td>Запустить собственную службу доставки, что сократит срок доставки заказов</td>\n",
       "      <td>2</td>\n",
       "      <td>5</td>\n",
       "      <td>4</td>\n",
       "      <td>10</td>\n",
       "      <td>2.00</td>\n",
       "      <td>4.0</td>\n",
       "    </tr>\n",
       "    <tr>\n",
       "      <th>5</th>\n",
       "      <td>Добавить страницу отзывов клиентов о магазине, что позволит увеличить количество заказов</td>\n",
       "      <td>3</td>\n",
       "      <td>2</td>\n",
       "      <td>2</td>\n",
       "      <td>3</td>\n",
       "      <td>1.33</td>\n",
       "      <td>4.0</td>\n",
       "    </tr>\n",
       "    <tr>\n",
       "      <th>4</th>\n",
       "      <td>Изменить цвет фона главной страницы, чтобы увеличить вовлеченность пользователей</td>\n",
       "      <td>3</td>\n",
       "      <td>1</td>\n",
       "      <td>1</td>\n",
       "      <td>1</td>\n",
       "      <td>1.00</td>\n",
       "      <td>3.0</td>\n",
       "    </tr>\n",
       "  </tbody>\n",
       "</table>\n",
       "</div>"
      ],
      "text/plain": [
       "                                                                                                     hypothesis  \\\n",
       "7  Добавить форму подписки на все основные страницы, чтобы собрать базу клиентов для email-рассылок               \n",
       "2  Добавить блоки рекомендаций товаров на сайт интернет магазина, чтобы повысить конверсию и средний чек заказа   \n",
       "0  Добавить два новых канала привлечения трафика, что позволит привлекать на 30% больше пользователей             \n",
       "6  Показать на главной странице баннеры с актуальными акциями и распродажами, чтобы увеличить конверсию           \n",
       "8  Запустить акцию, дающую скидку на товар в день рождения                                                        \n",
       "3  Изменить структура категорий, что увеличит конверсию, т.к. пользователи быстрее найдут нужный товар            \n",
       "1  Запустить собственную службу доставки, что сократит срок доставки заказов                                      \n",
       "5  Добавить страницу отзывов клиентов о магазине, что позволит увеличить количество заказов                       \n",
       "4  Изменить цвет фона главной страницы, чтобы увеличить вовлеченность пользователей                               \n",
       "\n",
       "   reach  impact  confidence  efforts    ICE   RICE  \n",
       "7  10     7       8           5        11.20  112.0  \n",
       "2  8      3       7           3        7.00   56.0   \n",
       "0  3      10      8           6        13.33  40.0   \n",
       "6  5      3       8           3        8.00   40.0   \n",
       "8  1      9       9           5        16.20  16.2   \n",
       "3  8      3       3           8        1.12   9.0    \n",
       "1  2      5       4           10       2.00   4.0    \n",
       "5  3      2       2           3        1.33   4.0    \n",
       "4  3      1       1           1        1.00   3.0    "
      ]
     },
     "execution_count": 10,
     "metadata": {},
     "output_type": "execute_result"
    }
   ],
   "source": [
    "# посчитаем RICE для гипотез\n",
    "hypothesis['RICE'] = (hypothesis['reach'] *  hypothesis['impact'] * hypothesis['confidence']) / hypothesis['efforts'].round(2)\n",
    "hypothesis.sort_values(by='RICE', ascending=False)"
   ]
  },
  {
   "cell_type": "markdown",
   "metadata": {},
   "source": [
    "В первых местах гипотезы с индексами 7, 2, 0."
   ]
  },
  {
   "cell_type": "markdown",
   "metadata": {},
   "source": [
    "**Вывод по приоритезации гипотез:**\n",
    "\n",
    "Хорошо видно различие в обеих таблицах. Меняются первые места, в ICE это гипотезы с индексами 8, 0, 7, а в RICE - 7, 2, 0. Гипотеза под индексом 8 в таблице ICE сместилась на пятое место, а гипотеза под индексом 2 с пятого места сместилась на второе место. Мы говорим о том, что в фреймворке RICE мы учитываем важный параметр, как Reach (скольких пользователей затронет изменение, которое мы хотим внести), в этих гипотезах 7 и 2 Reach самый высокий. В гипотезе с индексом 7 равен 10 это самый максимальный,а во 2 равен 8 это тоже высокий. В ICE на первом месте гипотеза под индексом 8 и в ней Reach равен 1, это самый минимум. Параметр Reach, использующийся в методе RICE изменил всю приоритетность, полученную по методу ICE. Для тестирования выдвинем гипотезы под индексами 7 и 2."
   ]
  },
  {
   "cell_type": "markdown",
   "metadata": {},
   "source": [
    "# 3. Анализ A/B-теста"
   ]
  },
  {
   "cell_type": "markdown",
   "metadata": {},
   "source": [
    "Для начала перед объединением данных сравним идентичны ли даты и группы в таблицах посетителей и заказов:"
   ]
  },
  {
   "cell_type": "code",
   "execution_count": 11,
   "metadata": {},
   "outputs": [
    {
     "name": "stdout",
     "output_type": "stream",
     "text": [
      "    date  group\n",
      "0   True  True \n",
      "1   True  True \n",
      "2   True  True \n",
      "3   True  True \n",
      "4   True  True \n",
      "..   ...   ... \n",
      "57  True  True \n",
      "58  True  True \n",
      "59  True  True \n",
      "60  True  True \n",
      "61  True  True \n",
      "\n",
      "[62 rows x 2 columns]\n"
     ]
    }
   ],
   "source": [
    "comparison = orders[['date','group']].drop_duplicates().sort_values(by=['date','group']).reset_index(drop=True) == \\\n",
    "                        visitors[['date','group']].drop_duplicates().sort_values(by=['date','group']).reset_index(drop=True)\n",
    "print(comparison)"
   ]
  },
  {
   "cell_type": "code",
   "execution_count": 12,
   "metadata": {},
   "outputs": [
    {
     "name": "stdout",
     "output_type": "stream",
     "text": [
      "62 62\n"
     ]
    }
   ],
   "source": [
    "print(comparison['date'].sum() ,comparison['group'].sum())"
   ]
  },
  {
   "cell_type": "markdown",
   "metadata": {},
   "source": [
    "Данные в таблицах идентичны, поэтому таблицы можно объединять без проблем."
   ]
  },
  {
   "cell_type": "markdown",
   "metadata": {},
   "source": [
    "Объединим две таблицы в одну таблицу **cumulative**:"
   ]
  },
  {
   "cell_type": "code",
   "execution_count": 13,
   "metadata": {},
   "outputs": [
    {
     "data": {
      "text/html": [
       "<div>\n",
       "<style scoped>\n",
       "    .dataframe tbody tr th:only-of-type {\n",
       "        vertical-align: middle;\n",
       "    }\n",
       "\n",
       "    .dataframe tbody tr th {\n",
       "        vertical-align: top;\n",
       "    }\n",
       "\n",
       "    .dataframe thead th {\n",
       "        text-align: right;\n",
       "    }\n",
       "</style>\n",
       "<table border=\"1\" class=\"dataframe\">\n",
       "  <thead>\n",
       "    <tr style=\"text-align: right;\">\n",
       "      <th></th>\n",
       "      <th>date</th>\n",
       "      <th>group</th>\n",
       "      <th>orders</th>\n",
       "      <th>buyers</th>\n",
       "      <th>revenue</th>\n",
       "      <th>visitors</th>\n",
       "    </tr>\n",
       "  </thead>\n",
       "  <tbody>\n",
       "    <tr>\n",
       "      <th>0</th>\n",
       "      <td>2019-08-01</td>\n",
       "      <td>A</td>\n",
       "      <td>24</td>\n",
       "      <td>20</td>\n",
       "      <td>148579</td>\n",
       "      <td>719</td>\n",
       "    </tr>\n",
       "    <tr>\n",
       "      <th>1</th>\n",
       "      <td>2019-08-01</td>\n",
       "      <td>B</td>\n",
       "      <td>21</td>\n",
       "      <td>20</td>\n",
       "      <td>101217</td>\n",
       "      <td>713</td>\n",
       "    </tr>\n",
       "    <tr>\n",
       "      <th>2</th>\n",
       "      <td>2019-08-02</td>\n",
       "      <td>A</td>\n",
       "      <td>44</td>\n",
       "      <td>38</td>\n",
       "      <td>242401</td>\n",
       "      <td>1338</td>\n",
       "    </tr>\n",
       "    <tr>\n",
       "      <th>3</th>\n",
       "      <td>2019-08-02</td>\n",
       "      <td>B</td>\n",
       "      <td>45</td>\n",
       "      <td>43</td>\n",
       "      <td>266748</td>\n",
       "      <td>1294</td>\n",
       "    </tr>\n",
       "    <tr>\n",
       "      <th>4</th>\n",
       "      <td>2019-08-03</td>\n",
       "      <td>A</td>\n",
       "      <td>68</td>\n",
       "      <td>62</td>\n",
       "      <td>354874</td>\n",
       "      <td>1845</td>\n",
       "    </tr>\n",
       "    <tr>\n",
       "      <th>5</th>\n",
       "      <td>2019-08-03</td>\n",
       "      <td>B</td>\n",
       "      <td>61</td>\n",
       "      <td>59</td>\n",
       "      <td>380996</td>\n",
       "      <td>1803</td>\n",
       "    </tr>\n",
       "    <tr>\n",
       "      <th>6</th>\n",
       "      <td>2019-08-04</td>\n",
       "      <td>A</td>\n",
       "      <td>84</td>\n",
       "      <td>77</td>\n",
       "      <td>425699</td>\n",
       "      <td>2562</td>\n",
       "    </tr>\n",
       "    <tr>\n",
       "      <th>7</th>\n",
       "      <td>2019-08-04</td>\n",
       "      <td>B</td>\n",
       "      <td>78</td>\n",
       "      <td>75</td>\n",
       "      <td>489567</td>\n",
       "      <td>2573</td>\n",
       "    </tr>\n",
       "    <tr>\n",
       "      <th>8</th>\n",
       "      <td>2019-08-05</td>\n",
       "      <td>A</td>\n",
       "      <td>109</td>\n",
       "      <td>100</td>\n",
       "      <td>549917</td>\n",
       "      <td>3318</td>\n",
       "    </tr>\n",
       "    <tr>\n",
       "      <th>9</th>\n",
       "      <td>2019-08-05</td>\n",
       "      <td>B</td>\n",
       "      <td>101</td>\n",
       "      <td>98</td>\n",
       "      <td>581995</td>\n",
       "      <td>3280</td>\n",
       "    </tr>\n",
       "  </tbody>\n",
       "</table>\n",
       "</div>"
      ],
      "text/plain": [
       "        date group  orders  buyers  revenue  visitors\n",
       "0 2019-08-01  A     24      20      148579   719     \n",
       "1 2019-08-01  B     21      20      101217   713     \n",
       "2 2019-08-02  A     44      38      242401   1338    \n",
       "3 2019-08-02  B     45      43      266748   1294    \n",
       "4 2019-08-03  A     68      62      354874   1845    \n",
       "5 2019-08-03  B     61      59      380996   1803    \n",
       "6 2019-08-04  A     84      77      425699   2562    \n",
       "7 2019-08-04  B     78      75      489567   2573    \n",
       "8 2019-08-05  A     109     100     549917   3318    \n",
       "9 2019-08-05  B     101     98      581995   3280    "
      ]
     },
     "execution_count": 13,
     "metadata": {},
     "output_type": "execute_result"
    }
   ],
   "source": [
    "# удалим дубликаты\n",
    "duplicat = orders[['date','group']].drop_duplicates()\n",
    "\n",
    "aggregated_orders = duplicat.apply(lambda x: orders[np.logical_and(orders['date'] <= x['date'], orders['group'] == x['group'])]. \\\n",
    "                                    agg({'date' : 'max', \n",
    "                                         'group' : 'max', \n",
    "                                         'transactionId' : pd.Series.nunique, \n",
    "                                         'visitorId' : pd.Series.nunique, \n",
    "                                         'revenue' : 'sum'}), axis=1).sort_values(by=['date','group'])\n",
    "\n",
    "aggregated_visitors = duplicat.apply(lambda x: visitors[np.logical_and(visitors['date'] <= x['date'], visitors['group'] == x['group'])]. \\\n",
    "                                    agg({'date' : 'max', \n",
    "                                         'group' : 'max', \n",
    "                                         'visitors' : 'sum'}), axis=1).sort_values(by=['date','group'])\n",
    "\n",
    "cumulative = aggregated_orders.merge(aggregated_visitors, left_on=['date', 'group'], right_on=['date', 'group'])\n",
    "cumulative.columns = ['date', 'group', 'orders', 'buyers', 'revenue', 'visitors']\n",
    "\n",
    "cumulative.head(10)"
   ]
  },
  {
   "cell_type": "markdown",
   "metadata": {},
   "source": [
    "- Построим график кумулятивной выручки по группам:"
   ]
  },
  {
   "cell_type": "code",
   "execution_count": 14,
   "metadata": {},
   "outputs": [
    {
     "data": {
      "image/png": "[encoded data removed]",
      "text/plain": [
       "<Figure size 720x360 with 1 Axes>"
      ]
     },
     "metadata": {
      "needs_background": "light"
     },
     "output_type": "display_data"
    }
   ],
   "source": [
    "cumulative_A = cumulative[cumulative['group']=='A'][['date','revenue', 'orders']]\n",
    "cumulative_B = cumulative[cumulative['group']=='B'][['date','revenue', 'orders']]\n",
    "# строим графики\n",
    "plt.figure(figsize=(10,5))\n",
    "plt.plot(cumulative_A['date'], cumulative_A['revenue'], label='Кумулятивная выручка группы A')\n",
    "plt.plot(cumulative_B['date'], cumulative_B['revenue'], label='Кумулятивная выручка группы B')\n",
    "plt.title('График кумулятивной выручки по группам')\n",
    "plt.ylabel('Выручка')\n",
    "plt.xlabel('Дата')\n",
    "plt.legend()\n",
    "plt.grid()"
   ]
  },
  {
   "cell_type": "markdown",
   "metadata": {},
   "source": [
    "На графике видно, что в первой половине месяца видно как выручка в группе B растёт быстрее, чем в A. 13.08.2019 выручки примерно одинаковы. Затем 18.08.2019 наблюдается сильный скачок по выручке в группе B, скорее всего это могло произойти из-за крупного заказа, результатом которого разрыв между группами стал еще более значительным, далее обе линии идут параллельно.\n",
    "Группа B стабильно показывает большую выручку, чем группа A."
   ]
  },
  {
   "cell_type": "markdown",
   "metadata": {},
   "source": [
    "- Построим график кумулятивного среднего чека по группам, разделим кумулятивную выручку на кумулятивное число заказов.:"
   ]
  },
  {
   "cell_type": "code",
   "execution_count": 15,
   "metadata": {},
   "outputs": [
    {
     "data": {
      "image/png": "[encoded data removed]",
      "text/plain": [
       "<Figure size 720x360 with 1 Axes>"
      ]
     },
     "metadata": {
      "needs_background": "light"
     },
     "output_type": "display_data"
    }
   ],
   "source": [
    "plt.figure(figsize=(10,5))\n",
    "plt.plot(cumulative_A['date'], cumulative_A['revenue']/cumulative_A['orders'], label='Кумулятивный средний чек группы A')\n",
    "plt.plot(cumulative_B['date'], cumulative_B['revenue']/cumulative_B['orders'], label='Кумулятивный средний чек группы B')\n",
    "plt.title('График кумулятивного среднего чека по группам')\n",
    "plt.ylabel('Сумма среднего чека')\n",
    "plt.xlabel('Дата')\n",
    "plt.legend()\n",
    "plt.grid()"
   ]
  },
  {
   "cell_type": "markdown",
   "metadata": {},
   "source": [
    "На графике видно, что в начале месяца средний чек в группе B больше. Средний чек группы А имеет наибольшую выручку это 1.08.2019 и с 12.08.2019 по 14.08.2019. Далее в остальном средний чек группы B стабильно больше. На этом графике заметна роль крупного заказа 18.08.2019 и после него заметно постепенное снижение среднего чека нруппы В, а средний чек группы А начал постепенно расти."
   ]
  },
  {
   "cell_type": "markdown",
   "metadata": {},
   "source": [
    "- Построим график относительного изменения кумулятивного среднего чека группы B к группе A:"
   ]
  },
  {
   "cell_type": "code",
   "execution_count": 16,
   "metadata": {},
   "outputs": [
    {
     "data": {
      "image/png": "[encoded data removed]",
      "text/plain": [
       "<Figure size 720x360 with 1 Axes>"
      ]
     },
     "metadata": {
      "needs_background": "light"
     },
     "output_type": "display_data"
    }
   ],
   "source": [
    "# соберём данные в один датафрейм\n",
    "connected_cumulative = cumulative_A.merge(cumulative_B, left_on='date', right_on='date', how='left', suffixes=['A', 'B'])\n",
    "# строим график\n",
    "plt.figure(figsize=(10,5))\n",
    "plt.plot(connected_cumulative['date'], (connected_cumulative['revenueB']/connected_cumulative['ordersB'])/ \\\n",
    "         (connected_cumulative['revenueA']/connected_cumulative['ordersA'])-1)\n",
    "plt.title('Относительное изменение кумулятивного среднего чека группы B к группе А')\n",
    "plt.axhline(y=0, color='green', linestyle='--')\n",
    "plt.ylabel('Изменение среднего чека')\n",
    "plt.xlabel('Дата')\n",
    "plt.legend('')\n",
    "plt.grid()"
   ]
  },
  {
   "cell_type": "markdown",
   "metadata": {},
   "source": [
    "На графикке видно относительное различие в среднем чеке между группами, наблюдается сильное изменеие значений в определённые даты. По вероятности тогда был совершен крупный заказ.\n",
    "Кумулятивная выручка группы В выше, чем у группы А, но она нестабильна. Возможно дело в выбросах с обоих сторон."
   ]
  },
  {
   "cell_type": "markdown",
   "metadata": {},
   "source": [
    "- Построим график кумулятивного среднего количества заказов на посетителя по группам:"
   ]
  },
  {
   "cell_type": "code",
   "execution_count": 17,
   "metadata": {},
   "outputs": [
    {
     "data": {
      "image/png": "[encoded data removed]",
      "text/plain": [
       "<Figure size 720x360 with 1 Axes>"
      ]
     },
     "metadata": {
      "needs_background": "light"
     },
     "output_type": "display_data"
    }
   ],
   "source": [
    "# считаем кумулятивную конверсию\n",
    "cumulative['conversion'] = cumulative['orders']/cumulative['visitors']\n",
    "# отделяем данные по группе A\n",
    "cumulative_A = cumulative[cumulative['group']=='A']\n",
    "# отделяем данные по группе B\n",
    "cumulative_B = cumulative[cumulative['group']=='B']\n",
    "# строим графики\n",
    "plt.figure(figsize=(10,5))\n",
    "plt.plot(cumulative_A['date'], cumulative_A['conversion'], label='Кумулятивная конверсия группы A')\n",
    "plt.plot(cumulative_B['date'], cumulative_B['conversion'], label='Кумулятивная конверсия группы B')\n",
    "plt.title('График кумулятивного среднего количества заказов на посетителя по группам')\n",
    "plt.ylabel('Кумулятивная конверсия')\n",
    "plt.xlabel('Дата')\n",
    "plt.legend()\n",
    "plt.grid()"
   ]
  },
  {
   "cell_type": "markdown",
   "metadata": {},
   "source": [
    "На графике видно, что группы стартовали с очень разных значений. Конверсия группы А с начала месяца была значительно больше, 3.08.2019 был максимум за весь период, затем группа A постепенно снизилась. Группа B с 4.08.2019 начала расти, с 6.08.2019 начала подниматься, превысив группу А и затем стабилизировалась. Группа B стабильно показывает большую конверсию чем группа A."
   ]
  },
  {
   "cell_type": "markdown",
   "metadata": {},
   "source": [
    "- Построим график относительного изменения кумулятивного среднего количества заказов на посетителя группы B к группе A:"
   ]
  },
  {
   "cell_type": "code",
   "execution_count": 18,
   "metadata": {},
   "outputs": [
    {
     "data": {
      "text/plain": [
       "<matplotlib.lines.Line2D at 0x7f3ccd511a00>"
      ]
     },
     "execution_count": 18,
     "metadata": {},
     "output_type": "execute_result"
    },
    {
     "data": {
      "image/png": "[encoded data removed]",
      "text/plain": [
       "<Figure size 720x360 with 1 Axes>"
      ]
     },
     "metadata": {
      "needs_background": "light"
     },
     "output_type": "display_data"
    }
   ],
   "source": [
    "cumulative_conversions = cumulative_A[['date','conversion']].merge(cumulative_B[['date','conversion']], \\\n",
    "                                                    left_on='date', right_on='date', how='left', suffixes=['A', 'B'])\n",
    "plt.figure(figsize=(10,5))\n",
    "plt.grid()\n",
    "plt.plot(cumulative_conversions['date'], cumulative_conversions['conversionB']/cumulative_conversions['conversionA']-1, label=\"Относительный прирост конверсии группы B относительно группы A\")\n",
    "\n",
    "plt.title('Относительное изменение кумулятивного среднего количества заказов на посетителя группы B к группе A')\n",
    "plt.xlabel('Дата')\n",
    "plt.ylabel('Кумулятивная конверсия')\n",
    "plt.axhline(y=0, color='red', linestyle='--')"
   ]
  },
  {
   "cell_type": "markdown",
   "metadata": {},
   "source": [
    "График различия конверсии между группами сообщает, что результаты группы B стабильно лучше группы A и есть некоторая общая тенденция к его ухудшению.\n",
    "Конверсия в группе B стабильно лучше конверсии в группе A на 10% по просшествии 1 недели после начала."
   ]
  },
  {
   "cell_type": "markdown",
   "metadata": {},
   "source": [
    "- Построим точечный график количества заказов по пользователям:"
   ]
  },
  {
   "cell_type": "code",
   "execution_count": 19,
   "metadata": {},
   "outputs": [
    {
     "data": {
      "text/plain": [
       "<matplotlib.collections.PathCollection at 0x7f3ccd505520>"
      ]
     },
     "execution_count": 19,
     "metadata": {},
     "output_type": "execute_result"
    },
    {
     "data": {
      "image/png": "[encoded data removed]",
      "text/plain": [
       "<Figure size 720x360 with 1 Axes>"
      ]
     },
     "metadata": {
      "needs_background": "light"
     },
     "output_type": "display_data"
    }
   ],
   "source": [
    "users_orders = orders.drop(['group', 'revenue', 'date'], axis=1).groupby('visitorId', as_index=False). \\\n",
    "                                                                        agg({'transactionId' : pd.Series.nunique})\n",
    "\n",
    "users_orders.columns = ['user_id','orders']\n",
    "users_orders.sort_values(by='orders',ascending=False)\n",
    "\n",
    "plt.figure(figsize=(10,5))\n",
    "plt.grid()\n",
    "plt.title('График количества заказов по пользователям\\n  ')\n",
    "plt.xlabel('Количество пользователей')\n",
    "plt.ylabel('Количество заказов')\n",
    "values = pd.Series(range(0, len(users_orders)))\n",
    "plt.scatter(values, users_orders['orders'])"
   ]
  },
  {
   "cell_type": "markdown",
   "metadata": {},
   "source": [
    "На графике видно, что больше всего пользователей, которые совершили 1 заказ. Которые совершили больше одного заказа возможно будут являться выбросами, что  стоит посчитать выборочные перцентили."
   ]
  },
  {
   "cell_type": "markdown",
   "metadata": {},
   "source": [
    "- Посчитаем 95-й и 99-й перцентили количества заказов на пользователя. Выберим границу для определения аномальных пользователей:"
   ]
  },
  {
   "cell_type": "code",
   "execution_count": 20,
   "metadata": {},
   "outputs": [
    {
     "name": "stdout",
     "output_type": "stream",
     "text": [
      "Перцентили количества заказов на пользователя:\n",
      "95: 2.0\n",
      "99: 4.0\n"
     ]
    }
   ],
   "source": [
    "percentiles = np.percentile(users_orders['orders'], [95, 99])\n",
    "print('Перцентили количества заказов на пользователя:\\n95: {}\\n99: {}'.format(percentiles[0],percentiles[1]))"
   ]
  },
  {
   "cell_type": "markdown",
   "metadata": {},
   "source": [
    "Два и больше двух заказов совершают только 5% пользователей, а четыре и больше четырёх всего 1%."
   ]
  },
  {
   "cell_type": "markdown",
   "metadata": {},
   "source": [
    "- Построим точечный график стоимостей заказов:"
   ]
  },
  {
   "cell_type": "code",
   "execution_count": 21,
   "metadata": {},
   "outputs": [
    {
     "data": {
      "text/plain": [
       "<matplotlib.collections.PathCollection at 0x7f3ccd4713d0>"
      ]
     },
     "execution_count": 21,
     "metadata": {},
     "output_type": "execute_result"
    },
    {
     "data": {
      "image/png": "[encoded data removed]",
      "text/plain": [
       "<Figure size 720x360 with 1 Axes>"
      ]
     },
     "metadata": {
      "needs_background": "light"
     },
     "output_type": "display_data"
    }
   ],
   "source": [
    "values = pd.Series(range(0,len(orders['revenue'])))\n",
    "plt.figure(figsize=(10,5))\n",
    "plt.grid()\n",
    "plt.title('Точечный график стоимостей заказов')\n",
    "plt.xlabel('Количество пользователей')\n",
    "plt.ylabel('Стоимость заказа')\n",
    "plt.scatter(values, orders['revenue'], alpha=0.4)\n",
    "#plt.ylim([0,150000])"
   ]
  },
  {
   "cell_type": "markdown",
   "metadata": {},
   "source": [
    "На графике виден один самый крупный заказ на сумму больше 1 млн и ещё один заказ в размере 200 тысяч.Все остальные заказы ниже 100 тысяч. Чтобы точно определить стоимость аномальных заказов необходимо посчитать выборочные перцентели."
   ]
  },
  {
   "cell_type": "markdown",
   "metadata": {},
   "source": [
    "- Посчитаем 95-й и 99-й перцентили стоимости заказов. Выберим границу для определения аномальных заказов:"
   ]
  },
  {
   "cell_type": "code",
   "execution_count": 22,
   "metadata": {},
   "outputs": [
    {
     "name": "stdout",
     "output_type": "stream",
     "text": [
      "Перцентили стоимости заказов:\n",
      "95: 28000\n",
      "99: 58233\n"
     ]
    }
   ],
   "source": [
    "percentiles = np.percentile(orders['revenue'], [95, 99])\n",
    "print('Перцентили стоимости заказов:\\n95: {:.0f}\\n99: {:.0f}'.format(percentiles[0],percentiles[1]))"
   ]
  },
  {
   "cell_type": "markdown",
   "metadata": {},
   "source": [
    "Как видно 5% пользователей совершают покупки до 28 тысяч рублей, всего 1% пользователей совершают покупки до 58 223 тысяч рублей."
   ]
  },
  {
   "cell_type": "markdown",
   "metadata": {},
   "source": [
    "- Посчитаем статистическую значимость различий в среднем количестве заказов на посетителя между группами по «сырым» данным:"
   ]
  },
  {
   "cell_type": "markdown",
   "metadata": {},
   "source": [
    "**Сформулируем гипотезы:**\n",
    "\n",
    "- Н0 : По неочищенным данным различий в конверсии групп A и B не имеется\n",
    "- Н1 : По неочищенным данным в конверсии групп A и B разница статистически значима\n",
    "\n",
    "Для тестирования воспользуемся критерием Манна-Уитни, уровнем статистической значимости примем значение 0,05"
   ]
  },
  {
   "cell_type": "code",
   "execution_count": 23,
   "metadata": {
    "scrolled": true
   },
   "outputs": [
    {
     "name": "stdout",
     "output_type": "stream",
     "text": [
      "Количество покупателей в группе A: 503\n",
      "Количество покупок в группе А: 557\n",
      "Количество посетителей в группе A: 18736\n",
      "\n",
      "Количество покупателей в группе B: 586\n",
      "Количество покупок в группе B: 640\n",
      "Количество посетителей в группе B: 18916\n",
      "Относительный прирост конверсии группы B по отношению к группе A: 0.138\n",
      "P-value критерия Манна-Уитни: 0.017\n",
      "По неочищенным данным в конверсии групп A и B разница статистически значима\n"
     ]
    }
   ],
   "source": [
    "users_orders_A = orders[orders['group']=='A'].groupby('visitorId', as_index=False).agg({'transactionId':'nunique'})\n",
    "users_orders_A.columns = ['visitorId', 'orders']\n",
    "users_orders_B = orders[orders['group']=='B'].groupby('visitorId', as_index=False).agg({'transactionId':'nunique'})\n",
    "users_orders_B.columns = ['visitorId', 'orders']\n",
    "print('Количество покупателей в группе A: {}'.format(len(users_orders_A)))\n",
    "print('Количество покупок в группе А: {}'.format(users_orders_A['orders'].sum()))\n",
    "print('Количество посетителей в группе A: {}\\n'.format(visitors[visitors['group']=='A']['visitors'].sum()))\n",
    "print('Количество покупателей в группе B: {}'.format(len(users_orders_B)))\n",
    "print('Количество покупок в группе B: {}'.format(users_orders_B['orders'].sum()))\n",
    "print('Количество посетителей в группе B: {}'.format(visitors[visitors['group']=='B']['visitors'].sum()))\n",
    "# составим списки количества заказов со всеми пользователями по группам и так же которые не купили  \n",
    "orders_list_1 =[]\n",
    "for i in range(0,(visitors[visitors['group']=='A']['visitors'].sum()-len(users_orders_A))):\n",
    "    orders_list_1.append(0)\n",
    "orders_not_bought_A = pd.Series(data = orders_list_1, name = 'orders')\n",
    "\n",
    "orders_list_2 =[]\n",
    "for i in range(0,(visitors[visitors['group']=='B']['visitors'].sum()-len(users_orders_B))):\n",
    "    orders_list_2.append(0)\n",
    "orders_not_bought_B = pd.Series(data = orders_list_2, name = 'orders')\n",
    "\n",
    "orders_A = pd.concat([users_orders_A['orders'], orders_not_bought_A], axis=0)\n",
    "orders_B = pd.concat([users_orders_B['orders'], orders_not_bought_B], axis=0)\n",
    "# расчитаем относительный прирост конверсии группы В по отношению к группе A\n",
    "print('Относительный прирост конверсии группы B по отношению к группе A: {0:.3f}'.format(orders_B.mean()/orders_A.mean()-1))\n",
    "# для тестирования воспользуемся критерием Манна-Уитни, уровнем статистической значимости примем значение 0,05\n",
    "alpha = 0.05\n",
    "results = stats.mannwhitneyu(orders_A, orders_B)\n",
    "print('P-value критерия Манна-Уитни: {0:.3f}'.format(results.pvalue))\n",
    "if results.pvalue < alpha:\n",
    "    print('По неочищенным данным в конверсии групп A и B разница статистически значима')\n",
    "else:\n",
    "    print('По неочищенным данным различий в конверсии групп A и B не имеется')"
   ]
  },
  {
   "cell_type": "markdown",
   "metadata": {},
   "source": [
    "Как видим статистическая значимость различий в среднем количестве заказов на посетителя между группами по «сырым» данным равна 0.017, это меньше уровня статистической значимости, поэтому гипотезу отвергаем, которая говорит о том, что различий в конверсии между группами нет. Относительный прирост конверсии группы B больше на 13,8 % , чем в группе А."
   ]
  },
  {
   "cell_type": "markdown",
   "metadata": {},
   "source": [
    "- Посчитаем статистическую значимость различий в среднем чеке заказа между группами по «сырым» данным:"
   ]
  },
  {
   "cell_type": "markdown",
   "metadata": {},
   "source": [
    "**Сформулируем гипотезы:**\n",
    "\n",
    "- Н0 : По неочищенным данным различия в средних чеках заказа между группами A и B нет\n",
    "- Н1 : По неочищенным данным различие в среднем чеке заказа между группами A и B статистически значимо\n",
    "\n",
    "Для тестирования воспользуемся критерием Манна-Уитни, уровнем статистической значимости примем значение 0,05"
   ]
  },
  {
   "cell_type": "code",
   "execution_count": 24,
   "metadata": {},
   "outputs": [
    {
     "name": "stdout",
     "output_type": "stream",
     "text": [
      "Относительное изменение среднего чека в группе B по отношению группы A: 0.259\n",
      "P-value: 0.729\n",
      "По неочищенным данным различия в средних чеках заказа между группами A и B нет\n"
     ]
    }
   ],
   "source": [
    "# расчитаем относительные различия суммы среднего чека\n",
    "print('Относительное изменение среднего чека в группе B по отношению группы A: {0:.3f}'.format(\n",
    "orders[orders['group']=='B']['revenue'].mean()/orders[orders['group']=='A']['revenue'].mean()-1))\n",
    "# для тестирования так же воспользуемся критерием Манна-Уитни, уровнем статистической значимости примем значение 0,05\n",
    "results = stats.mannwhitneyu(orders[orders['group']=='A']['revenue'], orders[orders['group']=='B']['revenue'])\n",
    "print('P-value: {0:.3f}'.format(results.pvalue))\n",
    "if results.pvalue < alpha:\n",
    "    print('По неочищенным данным различие в среднем чеке заказа между группами A и B статистически значимо')\n",
    "else:\n",
    "    print('По неочищенным данным различия в средних чеках заказа между группами A и B нет')"
   ]
  },
  {
   "cell_type": "markdown",
   "metadata": {},
   "source": [
    "Как видим статистическая значимость различий в среднем чеке заказа между группами по «сырым» данным равна 0.729, это больше уровня статистической значимости, поэтому гипотезу не отвергаем. Средние чеки между группами схожи. Относительное изменение среднего чека в группе B по отношению группы A равно 26%."
   ]
  },
  {
   "cell_type": "markdown",
   "metadata": {},
   "source": [
    "- Посчитаем статистическую значимость различий в среднем количестве заказов на посетителя между группами по «очищенным» данным:"
   ]
  },
  {
   "cell_type": "markdown",
   "metadata": {},
   "source": [
    "Как мы определились ранее, что за аномальных пользователей примем тех, кто совершил более 1 заказа или совершили заказ дороже 58 233 рублей. Необходимо сделать срезы пользователей с числом заказов больше 1 и  пользователей, совершивших заказы дороже 58 233. Создадим общую таблицу и узнаем, сколько всего аномальных пользователей."
   ]
  },
  {
   "cell_type": "markdown",
   "metadata": {},
   "source": [
    "Зададим предельные количество заказов и сумму покупки для создания списка аномальных пользователей с помощью перцентилей:"
   ]
  },
  {
   "cell_type": "code",
   "execution_count": 25,
   "metadata": {},
   "outputs": [
    {
     "data": {
      "text/plain": [
       "28000"
      ]
     },
     "execution_count": 25,
     "metadata": {},
     "output_type": "execute_result"
    }
   ],
   "source": [
    "revenue_limit = int(np.percentile(orders['revenue'], [95]))\n",
    "revenue_limit"
   ]
  },
  {
   "cell_type": "code",
   "execution_count": 26,
   "metadata": {},
   "outputs": [
    {
     "data": {
      "text/plain": [
       "2"
      ]
     },
     "execution_count": 26,
     "metadata": {},
     "output_type": "execute_result"
    }
   ],
   "source": [
    "orders_limit = int(np.percentile(users_orders['orders'], [95]))\n",
    "orders_limit"
   ]
  },
  {
   "cell_type": "code",
   "execution_count": 27,
   "metadata": {},
   "outputs": [
    {
     "name": "stdout",
     "output_type": "stream",
     "text": [
      "Количество аномальных пользователей: 74\n"
     ]
    }
   ],
   "source": [
    "users_commit_orders = pd.concat([users_orders_A[users_orders_A['orders']>orders_limit]['visitorId'], \n",
    "                                users_orders_B[users_orders_B['orders']>orders_limit]['visitorId']], axis = 0)\n",
    "users_expensive_orders = orders[orders['revenue']>revenue_limit]['visitorId']\n",
    "abnormal_users = pd.concat([users_commit_orders, users_expensive_orders], axis = 0).drop_duplicates().sort_values()\n",
    "print('Количество аномальных пользователей: {}'.format(len(abnormal_users)))"
   ]
  },
  {
   "cell_type": "markdown",
   "metadata": {},
   "source": [
    "Теперь проверим как 74 аномальных пользователей повлияли на результат теста. Посчитаем статистическую значимость различий в среднем количестве заказов на посетителя между группами по «очищенным» данным. Сначала подготовим выборки количества заказов по пользователям по группам теста:"
   ]
  },
  {
   "cell_type": "code",
   "execution_count": 28,
   "metadata": {},
   "outputs": [
    {
     "name": "stdout",
     "output_type": "stream",
     "text": [
      "Относительный прирост конверсии группы B по отношению к группе A после очистки данных: 0.173\n",
      "P-value: 0.013\n",
      "По очищенным данным в конверсии групп A и B разница статистически значима\n"
     ]
    }
   ],
   "source": [
    "definite_users_A = pd.concat([\n",
    "    users_orders_A[np.logical_not(users_orders_A['visitorId'].isin(abnormal_users))]['orders'],\n",
    "    orders_not_bought_A\n",
    "], axis = 0)\n",
    "definite_users_B = pd.concat([\n",
    "    users_orders_B[np.logical_not(users_orders_B['visitorId'].isin(abnormal_users))]['orders'],\n",
    "    orders_not_bought_B\n",
    "], axis = 0)\n",
    "print('Относительный прирост конверсии группы B по отношению к группе A после очистки данных: {0:.3f}'.format(definite_users_B.mean()/definite_users_A.mean()-1))\n",
    "results = stats.mannwhitneyu(definite_users_A, definite_users_B)\n",
    "print('P-value: {0:.3f}'.format(results.pvalue))\n",
    "if results.pvalue < alpha:\n",
    "    print('По очищенным данным в конверсии групп A и B разница статистически значима')\n",
    "else:\n",
    "    print('По очищенным данным различий в конверсии групп A и B нет')"
   ]
  },
  {
   "cell_type": "markdown",
   "metadata": {},
   "source": [
    "Как видим статистическая значимость различий в среднем количестве заказов на посетителя между группами по «очищенным» данным равна 0.013, это меньше уровня статистической значимости, поэтому гипотезу отвергаем. Относительный прирост конверсии группы B по отношению к группе A после очистки данных равен 17%. Это больше чем 13,8% по «сырым» данным."
   ]
  },
  {
   "cell_type": "markdown",
   "metadata": {},
   "source": [
    "- Посчитаем статистическую значимость различий в среднем чеке заказа между группами по «очищенным» данным:"
   ]
  },
  {
   "cell_type": "code",
   "execution_count": 29,
   "metadata": {},
   "outputs": [
    {
     "name": "stdout",
     "output_type": "stream",
     "text": [
      "Относительное изменение среднего чека в группе B по отношению группы A после очистки данных: -0.020\n",
      "P-value: 0.738\n",
      "По очищенным данным различий в средних чеках в группах A и B нет\n"
     ]
    }
   ],
   "source": [
    "print('Относительное изменение среднего чека в группе B по отношению группы A после очистки данных: {0:.3f}'.format(\n",
    "orders[np.logical_and(orders['group']=='B', np.logical_not(orders['visitorId'].isin(abnormal_users)))]['revenue'].mean()\\\n",
    "/orders[np.logical_and(orders['group']=='A', np.logical_not(orders['visitorId'].isin(abnormal_users)))]['revenue'].mean()-1))\n",
    "       \n",
    "       \n",
    "results = stats.mannwhitneyu(orders[np.logical_and(orders['group']=='A', np.logical_not(orders['visitorId'].isin(abnormal_users)))]['revenue'],\n",
    "                             orders[np.logical_and(orders['group']=='B', np.logical_not(orders['visitorId'].isin(abnormal_users)))]['revenue'])\n",
    "print('P-value: {0:.3f}'.format(results.pvalue))\n",
    "if results.pvalue < alpha:\n",
    "    print('По очищенным данным разница в средних чеках в группах A и B статистически значима')\n",
    "else:\n",
    "    print('По очищенным данным различий в средних чеках в группах A и B нет')"
   ]
  },
  {
   "cell_type": "markdown",
   "metadata": {},
   "source": [
    "Как видим статистическая значимость различий в среднем чеке заказа между группами по «очищенным» данным равна 0.738, это больше заданного уровня статистической значимости, поэтому гипотезу не отвергаем. Средние чеки между группами схожи. Относительное изменение среднего чека в группе B по отношению группы A равно 2%, а по «сырым» данным было 26%. Это всё по причине того самого крупного заказ на сумму больше 1 млн."
   ]
  },
  {
   "cell_type": "markdown",
   "metadata": {},
   "source": [
    "- решение по результатам теста:"
   ]
  },
  {
   "cell_type": "markdown",
   "metadata": {},
   "source": [
    "Варианты решений:\n",
    "1. Остановить тест, зафиксировать победу одной из групп.\n",
    "2. Остановить тест, зафиксировать отсутствие различий между группами.\n",
    "3. Продолжить тест."
   ]
  },
  {
   "cell_type": "markdown",
   "metadata": {},
   "source": [
    "**Вывод:**                                                                                                                     \n",
    "\n",
    "Как увидели по результатам тестирования по \"сырым\" и по \"очищенным\" данным различия в конверсии групп A и B есть. Относительный выигрыш группы B над A равен 17% по \"очищенным\" и 13.8% по \"сырым\" данным.\n",
    "Различия по \"сырым\" и по \"очищенным\" данным в средних чеках групп A и B отстутствуют, несмотря на то, что средний чек группы B оказался незначительно (на 2%) ниже среднего чека группы A по \"очищенным\" данным, а по \"сырым\" данным, он был 26%, по причине того самого крупного заказ на сумму больше 1 млн. Аномальный заказ убрали и чеки сравнялись. Из вариантов решений я останавливаюсь на первом варианте, это остановить тест, зафиксировать победу группы B, она значительно лучше, чем A в части конверсии."
   ]
  },
  {
   "cell_type": "markdown",
   "metadata": {},
   "source": [
    "**Общий вывод:**\n",
    "\n",
    "RICE и ICE - два фреймворка для приоритизации гипотез. В RICE учитывается параметр Reach, в ICE - нет. При использовании обоих фреймворков, гипотезы могут менять свою приоритетность в зависимости от учета параметра Reach. В данном случае, гипотезы под индексами 7 и 2 имеют самый высокий параметр Reach в RICE, поэтому они приоритетнее, чем в ICE.\n",
    "По результатам тестирования обнаружены различия в конверсии между группами A и B, но различий в средних чеках нет. Причина различий в средних чеках была связана с крупным заказом, который был убран из данных. Остановка теста и зафиксирование победы группы B является рекомендуемым вариантом, так как она значительно лучше группы A в части конверсии.\n"
   ]
  }
 ],
 "metadata": {
  "ExecuteTimeLog": [
   {
    "duration": 1361,
    "start_time": "2023-04-22T12:21:53.147Z"
   },
   {
    "duration": 193,
    "start_time": "2023-04-22T12:21:54.511Z"
   },
   {
    "duration": 0,
    "start_time": "2023-04-22T12:21:54.709Z"
   },
   {
    "duration": 0,
    "start_time": "2023-04-22T12:21:54.711Z"
   },
   {
    "duration": 0,
    "start_time": "2023-04-22T12:21:54.712Z"
   },
   {
    "duration": 0,
    "start_time": "2023-04-22T12:21:54.714Z"
   },
   {
    "duration": 0,
    "start_time": "2023-04-22T12:21:54.721Z"
   },
   {
    "duration": 0,
    "start_time": "2023-04-22T12:21:54.723Z"
   },
   {
    "duration": 0,
    "start_time": "2023-04-22T12:21:54.725Z"
   },
   {
    "duration": 0,
    "start_time": "2023-04-22T12:21:54.726Z"
   },
   {
    "duration": 0,
    "start_time": "2023-04-22T12:21:54.730Z"
   },
   {
    "duration": 0,
    "start_time": "2023-04-22T12:21:54.731Z"
   },
   {
    "duration": 0,
    "start_time": "2023-04-22T12:21:54.733Z"
   },
   {
    "duration": 0,
    "start_time": "2023-04-22T12:21:54.734Z"
   },
   {
    "duration": 0,
    "start_time": "2023-04-22T12:21:54.735Z"
   },
   {
    "duration": 0,
    "start_time": "2023-04-22T12:21:54.736Z"
   },
   {
    "duration": 0,
    "start_time": "2023-04-22T12:21:54.738Z"
   },
   {
    "duration": 0,
    "start_time": "2023-04-22T12:21:54.739Z"
   },
   {
    "duration": 0,
    "start_time": "2023-04-22T12:21:54.740Z"
   },
   {
    "duration": 0,
    "start_time": "2023-04-22T12:21:54.741Z"
   },
   {
    "duration": 0,
    "start_time": "2023-04-22T12:21:54.742Z"
   },
   {
    "duration": 0,
    "start_time": "2023-04-22T12:21:54.744Z"
   },
   {
    "duration": 0,
    "start_time": "2023-04-22T12:21:54.745Z"
   },
   {
    "duration": 0,
    "start_time": "2023-04-22T12:21:54.790Z"
   },
   {
    "duration": 0,
    "start_time": "2023-04-22T12:21:54.800Z"
   },
   {
    "duration": 0,
    "start_time": "2023-04-22T12:21:54.801Z"
   },
   {
    "duration": 0,
    "start_time": "2023-04-22T12:21:54.802Z"
   },
   {
    "duration": 1359,
    "start_time": "2023-04-22T12:24:33.460Z"
   },
   {
    "duration": 212,
    "start_time": "2023-04-22T12:24:34.824Z"
   },
   {
    "duration": 0,
    "start_time": "2023-04-22T12:24:35.039Z"
   },
   {
    "duration": 0,
    "start_time": "2023-04-22T12:24:35.041Z"
   },
   {
    "duration": 0,
    "start_time": "2023-04-22T12:24:35.042Z"
   },
   {
    "duration": 0,
    "start_time": "2023-04-22T12:24:35.044Z"
   },
   {
    "duration": 0,
    "start_time": "2023-04-22T12:24:35.045Z"
   },
   {
    "duration": 0,
    "start_time": "2023-04-22T12:24:35.047Z"
   },
   {
    "duration": 0,
    "start_time": "2023-04-22T12:24:35.048Z"
   },
   {
    "duration": 0,
    "start_time": "2023-04-22T12:24:35.049Z"
   },
   {
    "duration": 0,
    "start_time": "2023-04-22T12:24:35.050Z"
   },
   {
    "duration": 0,
    "start_time": "2023-04-22T12:24:35.052Z"
   },
   {
    "duration": 0,
    "start_time": "2023-04-22T12:24:35.053Z"
   },
   {
    "duration": 0,
    "start_time": "2023-04-22T12:24:35.055Z"
   },
   {
    "duration": 0,
    "start_time": "2023-04-22T12:24:35.056Z"
   },
   {
    "duration": 0,
    "start_time": "2023-04-22T12:24:35.057Z"
   },
   {
    "duration": 0,
    "start_time": "2023-04-22T12:24:35.088Z"
   },
   {
    "duration": 0,
    "start_time": "2023-04-22T12:24:35.090Z"
   },
   {
    "duration": 0,
    "start_time": "2023-04-22T12:24:35.092Z"
   },
   {
    "duration": 0,
    "start_time": "2023-04-22T12:24:35.093Z"
   },
   {
    "duration": 0,
    "start_time": "2023-04-22T12:24:35.094Z"
   },
   {
    "duration": 0,
    "start_time": "2023-04-22T12:24:35.096Z"
   },
   {
    "duration": 0,
    "start_time": "2023-04-22T12:24:35.097Z"
   },
   {
    "duration": 0,
    "start_time": "2023-04-22T12:24:35.099Z"
   },
   {
    "duration": 0,
    "start_time": "2023-04-22T12:24:35.100Z"
   },
   {
    "duration": 0,
    "start_time": "2023-04-22T12:24:35.101Z"
   },
   {
    "duration": 0,
    "start_time": "2023-04-22T12:24:35.103Z"
   },
   {
    "duration": 190,
    "start_time": "2023-04-22T12:24:53.028Z"
   },
   {
    "duration": 1616,
    "start_time": "2023-04-22T12:25:02.318Z"
   },
   {
    "duration": 170,
    "start_time": "2023-04-22T12:25:03.936Z"
   },
   {
    "duration": 31,
    "start_time": "2023-04-22T12:25:04.111Z"
   },
   {
    "duration": 39,
    "start_time": "2023-04-22T12:25:04.145Z"
   },
   {
    "duration": 79,
    "start_time": "2023-04-22T12:25:04.186Z"
   },
   {
    "duration": 132,
    "start_time": "2023-04-22T12:25:04.267Z"
   },
   {
    "duration": 51,
    "start_time": "2023-04-22T12:25:04.401Z"
   },
   {
    "duration": 15,
    "start_time": "2023-04-22T12:25:04.454Z"
   },
   {
    "duration": 43,
    "start_time": "2023-04-22T12:25:04.472Z"
   },
   {
    "duration": 36,
    "start_time": "2023-04-22T12:25:04.519Z"
   },
   {
    "duration": 21,
    "start_time": "2023-04-22T12:25:04.557Z"
   },
   {
    "duration": 484,
    "start_time": "2023-04-22T12:25:04.580Z"
   },
   {
    "duration": 410,
    "start_time": "2023-04-22T12:25:05.066Z"
   },
   {
    "duration": 307,
    "start_time": "2023-04-22T12:25:05.487Z"
   },
   {
    "duration": 389,
    "start_time": "2023-04-22T12:25:05.796Z"
   },
   {
    "duration": 360,
    "start_time": "2023-04-22T12:25:06.188Z"
   },
   {
    "duration": 386,
    "start_time": "2023-04-22T12:25:06.551Z"
   },
   {
    "duration": 445,
    "start_time": "2023-04-22T12:25:06.940Z"
   },
   {
    "duration": 9,
    "start_time": "2023-04-22T12:25:07.387Z"
   },
   {
    "duration": 270,
    "start_time": "2023-04-22T12:25:07.398Z"
   },
   {
    "duration": 6,
    "start_time": "2023-04-22T12:25:07.671Z"
   },
   {
    "duration": 202,
    "start_time": "2023-04-22T12:25:07.679Z"
   },
   {
    "duration": 22,
    "start_time": "2023-04-22T12:25:07.884Z"
   },
   {
    "duration": 71,
    "start_time": "2023-04-22T12:25:07.908Z"
   },
   {
    "duration": 66,
    "start_time": "2023-04-22T12:25:07.982Z"
   },
   {
    "duration": 48,
    "start_time": "2023-04-22T12:25:08.051Z"
   },
   {
    "duration": 24,
    "start_time": "2023-04-22T12:25:08.101Z"
   },
   {
    "duration": 1444,
    "start_time": "2023-04-22T12:47:52.515Z"
   },
   {
    "duration": 172,
    "start_time": "2023-04-22T12:47:53.961Z"
   },
   {
    "duration": 25,
    "start_time": "2023-04-22T12:47:54.135Z"
   },
   {
    "duration": 3,
    "start_time": "2023-04-22T12:47:54.161Z"
   },
   {
    "duration": 9,
    "start_time": "2023-04-22T12:47:54.167Z"
   },
   {
    "duration": 72,
    "start_time": "2023-04-22T12:47:54.178Z"
   },
   {
    "duration": 23,
    "start_time": "2023-04-22T12:47:54.252Z"
   },
   {
    "duration": 30,
    "start_time": "2023-04-22T12:47:54.277Z"
   },
   {
    "duration": 41,
    "start_time": "2023-04-22T12:47:54.309Z"
   },
   {
    "duration": 20,
    "start_time": "2023-04-22T12:47:54.352Z"
   },
   {
    "duration": 3,
    "start_time": "2023-04-22T12:47:54.374Z"
   },
   {
    "duration": 453,
    "start_time": "2023-04-22T12:47:54.379Z"
   },
   {
    "duration": 406,
    "start_time": "2023-04-22T12:47:54.842Z"
   },
   {
    "duration": 306,
    "start_time": "2023-04-22T12:47:55.251Z"
   },
   {
    "duration": 481,
    "start_time": "2023-04-22T12:47:55.560Z"
   },
   {
    "duration": 300,
    "start_time": "2023-04-22T12:47:56.046Z"
   },
   {
    "duration": 393,
    "start_time": "2023-04-22T12:47:56.348Z"
   },
   {
    "duration": 368,
    "start_time": "2023-04-22T12:47:56.743Z"
   },
   {
    "duration": 20,
    "start_time": "2023-04-22T12:47:57.117Z"
   },
   {
    "duration": 228,
    "start_time": "2023-04-22T12:47:57.140Z"
   },
   {
    "duration": 5,
    "start_time": "2023-04-22T12:47:57.370Z"
   },
   {
    "duration": 181,
    "start_time": "2023-04-22T12:47:57.377Z"
   },
   {
    "duration": 12,
    "start_time": "2023-04-22T12:47:57.560Z"
   },
   {
    "duration": 4,
    "start_time": "2023-04-22T12:47:57.576Z"
   },
   {
    "duration": 61,
    "start_time": "2023-04-22T12:47:57.595Z"
   },
   {
    "duration": 41,
    "start_time": "2023-04-22T12:47:57.658Z"
   },
   {
    "duration": 29,
    "start_time": "2023-04-22T12:47:57.701Z"
   },
   {
    "duration": 1045,
    "start_time": "2023-04-24T06:19:29.831Z"
   },
   {
    "duration": 208,
    "start_time": "2023-04-24T06:19:30.878Z"
   },
   {
    "duration": 18,
    "start_time": "2023-04-24T06:19:31.087Z"
   },
   {
    "duration": 29,
    "start_time": "2023-04-24T06:19:31.107Z"
   },
   {
    "duration": 20,
    "start_time": "2023-04-24T06:19:31.138Z"
   },
   {
    "duration": 65,
    "start_time": "2023-04-24T06:19:31.159Z"
   },
   {
    "duration": 37,
    "start_time": "2023-04-24T06:19:31.226Z"
   },
   {
    "duration": 71,
    "start_time": "2023-04-24T06:19:31.266Z"
   },
   {
    "duration": 45,
    "start_time": "2023-04-24T06:19:31.338Z"
   },
   {
    "duration": 44,
    "start_time": "2023-04-24T06:19:31.384Z"
   },
   {
    "duration": 58,
    "start_time": "2023-04-24T06:19:31.429Z"
   },
   {
    "duration": 28,
    "start_time": "2023-04-24T06:19:31.488Z"
   },
   {
    "duration": 301,
    "start_time": "2023-04-24T06:19:31.518Z"
   },
   {
    "duration": 255,
    "start_time": "2023-04-24T06:19:31.821Z"
   },
   {
    "duration": 173,
    "start_time": "2023-04-24T06:19:32.078Z"
   },
   {
    "duration": 302,
    "start_time": "2023-04-24T06:19:32.253Z"
   },
   {
    "duration": 201,
    "start_time": "2023-04-24T06:19:32.557Z"
   },
   {
    "duration": 302,
    "start_time": "2023-04-24T06:19:32.760Z"
   },
   {
    "duration": 262,
    "start_time": "2023-04-24T06:19:33.063Z"
   },
   {
    "duration": 3,
    "start_time": "2023-04-24T06:19:33.327Z"
   },
   {
    "duration": 143,
    "start_time": "2023-04-24T06:19:33.332Z"
   },
   {
    "duration": 4,
    "start_time": "2023-04-24T06:19:33.477Z"
   },
   {
    "duration": 99,
    "start_time": "2023-04-24T06:19:33.482Z"
   },
   {
    "duration": 9,
    "start_time": "2023-04-24T06:19:33.583Z"
   },
   {
    "duration": 13,
    "start_time": "2023-04-24T06:19:33.593Z"
   },
   {
    "duration": 15,
    "start_time": "2023-04-24T06:19:33.608Z"
   },
   {
    "duration": 23,
    "start_time": "2023-04-24T06:19:33.624Z"
   },
   {
    "duration": 27,
    "start_time": "2023-04-24T06:19:33.649Z"
   },
   {
    "duration": 11,
    "start_time": "2023-04-24T06:19:33.677Z"
   },
   {
    "duration": 1043,
    "start_time": "2023-04-24T06:24:47.896Z"
   },
   {
    "duration": 119,
    "start_time": "2023-04-24T06:24:48.941Z"
   },
   {
    "duration": 27,
    "start_time": "2023-04-24T06:24:49.061Z"
   },
   {
    "duration": 12,
    "start_time": "2023-04-24T06:24:49.090Z"
   },
   {
    "duration": 31,
    "start_time": "2023-04-24T06:24:49.104Z"
   },
   {
    "duration": 57,
    "start_time": "2023-04-24T06:24:49.137Z"
   },
   {
    "duration": 10,
    "start_time": "2023-04-24T06:24:49.196Z"
   },
   {
    "duration": 26,
    "start_time": "2023-04-24T06:24:49.207Z"
   },
   {
    "duration": 12,
    "start_time": "2023-04-24T06:24:49.234Z"
   },
   {
    "duration": 30,
    "start_time": "2023-04-24T06:24:49.249Z"
   },
   {
    "duration": 16,
    "start_time": "2023-04-24T06:24:49.281Z"
   },
   {
    "duration": 8,
    "start_time": "2023-04-24T06:24:49.298Z"
   },
   {
    "duration": 271,
    "start_time": "2023-04-24T06:24:49.308Z"
   },
   {
    "duration": 268,
    "start_time": "2023-04-24T06:24:49.580Z"
   },
   {
    "duration": 206,
    "start_time": "2023-04-24T06:24:49.850Z"
   },
   {
    "duration": 303,
    "start_time": "2023-04-24T06:24:50.057Z"
   },
   {
    "duration": 206,
    "start_time": "2023-04-24T06:24:50.361Z"
   },
   {
    "duration": 287,
    "start_time": "2023-04-24T06:24:50.568Z"
   },
   {
    "duration": 254,
    "start_time": "2023-04-24T06:24:50.857Z"
   },
   {
    "duration": 3,
    "start_time": "2023-04-24T06:24:51.113Z"
   },
   {
    "duration": 161,
    "start_time": "2023-04-24T06:24:51.118Z"
   },
   {
    "duration": 4,
    "start_time": "2023-04-24T06:24:51.280Z"
   },
   {
    "duration": 102,
    "start_time": "2023-04-24T06:24:51.285Z"
   },
   {
    "duration": 10,
    "start_time": "2023-04-24T06:24:51.388Z"
   },
   {
    "duration": 38,
    "start_time": "2023-04-24T06:24:51.400Z"
   },
   {
    "duration": 22,
    "start_time": "2023-04-24T06:24:51.439Z"
   },
   {
    "duration": 10,
    "start_time": "2023-04-24T06:24:51.462Z"
   },
   {
    "duration": 50,
    "start_time": "2023-04-24T06:24:51.474Z"
   },
   {
    "duration": 22,
    "start_time": "2023-04-24T06:24:51.525Z"
   }
  ],
  "kernelspec": {
   "display_name": "Python 3 (ipykernel)",
   "language": "python",
   "name": "python3"
  },
  "language_info": {
   "codemirror_mode": {
    "name": "ipython",
    "version": 3
   },
   "file_extension": ".py",
   "mimetype": "text/x-python",
   "name": "python",
   "nbconvert_exporter": "python",
   "pygments_lexer": "ipython3",
   "version": "3.9.13"
  },
  "toc": {
   "base_numbering": 1,
   "nav_menu": {},
   "number_sections": true,
   "sideBar": true,
   "skip_h1_title": true,
   "title_cell": "Table of Contents",
   "title_sidebar": "Contents",
   "toc_cell": false,
   "toc_position": {},
   "toc_section_display": true,
   "toc_window_display": false
  }
 },
 "nbformat": 4,
 "nbformat_minor": 2
}
