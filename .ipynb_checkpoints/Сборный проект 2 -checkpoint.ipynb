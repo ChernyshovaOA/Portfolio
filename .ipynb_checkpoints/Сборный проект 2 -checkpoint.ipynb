{
 "cells": [
  {
   "cell_type": "markdown",
   "id": "91000053",
   "metadata": {},
   "source": [
    "# Сборный проект 2"
   ]
  },
  {
   "cell_type": "markdown",
   "id": "e4ed05e9",
   "metadata": {},
   "source": [
    "Предстоит работа в стартапе, который продаёт продукты питания. Нужно разобраться, как ведут себя пользователи данного мобильного приложения. \n",
    "Необходимо изучить воронку продаж. Узнать, как пользователи доходят до покупки. Сколько пользователей доходит до покупки, а сколько — «застревает» на предыдущих шагах? На каких именно?\n",
    "После этого исследовать результаты A/A/B-эксперимента. Дизайнеры захотели поменять шрифты во всём приложении, а менеджеры испугались, что пользователям будет непривычно. Договорились принять решение по результатам A/A/B-теста. Пользователей разбили на 3 группы: 2 контрольные со старыми шрифтами и одну экспериментальную — с новыми. Нужно выяснить, какой шрифт лучше.\n",
    "Создание двух групп A вместо одной имеет определённые преимущества. Если две контрольные группы окажутся равны, мы можем быть уверены в точности проведенного тестирования. Если же между значениями A и A будут существенные различия, это поможет обнаружить факторы, которые привели к искажению результатов. Сравнение контрольных групп также помогает понять, сколько времени и данных потребуется для дальнейших тестов."
   ]
  },
  {
   "cell_type": "markdown",
   "id": "1e53614d",
   "metadata": {},
   "source": [
    "## Шаг 1. Откроем файл с данными и изучим общую информацию"
   ]
  },
  {
   "cell_type": "code",
   "execution_count": 1,
   "id": "cfee54ef",
   "metadata": {},
   "outputs": [],
   "source": [
    "# импортируем библиотеки\n",
    "import pandas as pd\n",
    "import numpy as np\n",
    "import matplotlib.pyplot as plt\n",
    "from scipy import stats as st\n",
    "import datetime as dt\n",
    "from datetime import datetime, timedelta\n",
    "import plotly.express as px\n",
    "import math as mth"
   ]
  },
  {
   "cell_type": "code",
   "execution_count": 2,
   "id": "1baf081c",
   "metadata": {},
   "outputs": [],
   "source": [
    "# загружаем данные и ставим разделитель '\\t'\n",
    "try:\n",
    "    data = pd.read_csv('C:/Users/immel/OneDrive/Desktop/10. Сборный проект 2/logs_exp.csv', sep='\\t')\n",
    "\n",
    "except FileNotFoundError:\n",
    "    data = pd.read_csv('/datasets/logs_exp.csv', sep='\\t')"
   ]
  },
  {
   "cell_type": "code",
   "execution_count": 3,
   "id": "8f65d39f",
   "metadata": {},
   "outputs": [
    {
     "data": {
      "text/html": [
       "<div>\n",
       "<style scoped>\n",
       "    .dataframe tbody tr th:only-of-type {\n",
       "        vertical-align: middle;\n",
       "    }\n",
       "\n",
       "    .dataframe tbody tr th {\n",
       "        vertical-align: top;\n",
       "    }\n",
       "\n",
       "    .dataframe thead th {\n",
       "        text-align: right;\n",
       "    }\n",
       "</style>\n",
       "<table border=\"1\" class=\"dataframe\">\n",
       "  <thead>\n",
       "    <tr style=\"text-align: right;\">\n",
       "      <th></th>\n",
       "      <th>EventName</th>\n",
       "      <th>DeviceIDHash</th>\n",
       "      <th>EventTimestamp</th>\n",
       "      <th>ExpId</th>\n",
       "    </tr>\n",
       "  </thead>\n",
       "  <tbody>\n",
       "    <tr>\n",
       "      <th>0</th>\n",
       "      <td>MainScreenAppear</td>\n",
       "      <td>4575588528974610257</td>\n",
       "      <td>1564029816</td>\n",
       "      <td>246</td>\n",
       "    </tr>\n",
       "    <tr>\n",
       "      <th>1</th>\n",
       "      <td>MainScreenAppear</td>\n",
       "      <td>7416695313311560658</td>\n",
       "      <td>1564053102</td>\n",
       "      <td>246</td>\n",
       "    </tr>\n",
       "    <tr>\n",
       "      <th>2</th>\n",
       "      <td>PaymentScreenSuccessful</td>\n",
       "      <td>3518123091307005509</td>\n",
       "      <td>1564054127</td>\n",
       "      <td>248</td>\n",
       "    </tr>\n",
       "    <tr>\n",
       "      <th>3</th>\n",
       "      <td>CartScreenAppear</td>\n",
       "      <td>3518123091307005509</td>\n",
       "      <td>1564054127</td>\n",
       "      <td>248</td>\n",
       "    </tr>\n",
       "    <tr>\n",
       "      <th>4</th>\n",
       "      <td>PaymentScreenSuccessful</td>\n",
       "      <td>6217807653094995999</td>\n",
       "      <td>1564055322</td>\n",
       "      <td>248</td>\n",
       "    </tr>\n",
       "    <tr>\n",
       "      <th>...</th>\n",
       "      <td>...</td>\n",
       "      <td>...</td>\n",
       "      <td>...</td>\n",
       "      <td>...</td>\n",
       "    </tr>\n",
       "    <tr>\n",
       "      <th>244121</th>\n",
       "      <td>MainScreenAppear</td>\n",
       "      <td>4599628364049201812</td>\n",
       "      <td>1565212345</td>\n",
       "      <td>247</td>\n",
       "    </tr>\n",
       "    <tr>\n",
       "      <th>244122</th>\n",
       "      <td>MainScreenAppear</td>\n",
       "      <td>5849806612437486590</td>\n",
       "      <td>1565212439</td>\n",
       "      <td>246</td>\n",
       "    </tr>\n",
       "    <tr>\n",
       "      <th>244123</th>\n",
       "      <td>MainScreenAppear</td>\n",
       "      <td>5746969938801999050</td>\n",
       "      <td>1565212483</td>\n",
       "      <td>246</td>\n",
       "    </tr>\n",
       "    <tr>\n",
       "      <th>244124</th>\n",
       "      <td>MainScreenAppear</td>\n",
       "      <td>5746969938801999050</td>\n",
       "      <td>1565212498</td>\n",
       "      <td>246</td>\n",
       "    </tr>\n",
       "    <tr>\n",
       "      <th>244125</th>\n",
       "      <td>OffersScreenAppear</td>\n",
       "      <td>5746969938801999050</td>\n",
       "      <td>1565212517</td>\n",
       "      <td>246</td>\n",
       "    </tr>\n",
       "  </tbody>\n",
       "</table>\n",
       "<p>244126 rows × 4 columns</p>\n",
       "</div>"
      ],
      "text/plain": [
       "                      EventName         DeviceIDHash  EventTimestamp  ExpId\n",
       "0              MainScreenAppear  4575588528974610257      1564029816    246\n",
       "1              MainScreenAppear  7416695313311560658      1564053102    246\n",
       "2       PaymentScreenSuccessful  3518123091307005509      1564054127    248\n",
       "3              CartScreenAppear  3518123091307005509      1564054127    248\n",
       "4       PaymentScreenSuccessful  6217807653094995999      1564055322    248\n",
       "...                         ...                  ...             ...    ...\n",
       "244121         MainScreenAppear  4599628364049201812      1565212345    247\n",
       "244122         MainScreenAppear  5849806612437486590      1565212439    246\n",
       "244123         MainScreenAppear  5746969938801999050      1565212483    246\n",
       "244124         MainScreenAppear  5746969938801999050      1565212498    246\n",
       "244125       OffersScreenAppear  5746969938801999050      1565212517    246\n",
       "\n",
       "[244126 rows x 4 columns]"
      ]
     },
     "execution_count": 3,
     "metadata": {},
     "output_type": "execute_result"
    }
   ],
   "source": [
    "data"
   ]
  },
  {
   "cell_type": "code",
   "execution_count": 4,
   "id": "d1d0b7d3",
   "metadata": {},
   "outputs": [
    {
     "name": "stdout",
     "output_type": "stream",
     "text": [
      "<class 'pandas.core.frame.DataFrame'>\n",
      "RangeIndex: 244126 entries, 0 to 244125\n",
      "Data columns (total 4 columns):\n",
      " #   Column          Non-Null Count   Dtype \n",
      "---  ------          --------------   ----- \n",
      " 0   EventName       244126 non-null  object\n",
      " 1   DeviceIDHash    244126 non-null  int64 \n",
      " 2   EventTimestamp  244126 non-null  int64 \n",
      " 3   ExpId           244126 non-null  int64 \n",
      "dtypes: int64(3), object(1)\n",
      "memory usage: 7.5+ MB\n"
     ]
    }
   ],
   "source": [
    "data.info()"
   ]
  },
  {
   "cell_type": "code",
   "execution_count": null,
   "id": "69499dad",
   "metadata": {},
   "outputs": [],
   "source": []
  },
  {
   "cell_type": "code",
   "execution_count": 5,
   "id": "9c13c750",
   "metadata": {},
   "outputs": [
    {
     "data": {
      "text/html": [
       "<div>\n",
       "<style scoped>\n",
       "    .dataframe tbody tr th:only-of-type {\n",
       "        vertical-align: middle;\n",
       "    }\n",
       "\n",
       "    .dataframe tbody tr th {\n",
       "        vertical-align: top;\n",
       "    }\n",
       "\n",
       "    .dataframe thead th {\n",
       "        text-align: right;\n",
       "    }\n",
       "</style>\n",
       "<table border=\"1\" class=\"dataframe\">\n",
       "  <thead>\n",
       "    <tr style=\"text-align: right;\">\n",
       "      <th></th>\n",
       "      <th>DeviceIDHash</th>\n",
       "      <th>EventTimestamp</th>\n",
       "      <th>ExpId</th>\n",
       "    </tr>\n",
       "  </thead>\n",
       "  <tbody>\n",
       "    <tr>\n",
       "      <th>count</th>\n",
       "      <td>2.441260e+05</td>\n",
       "      <td>2.441260e+05</td>\n",
       "      <td>244126.000000</td>\n",
       "    </tr>\n",
       "    <tr>\n",
       "      <th>mean</th>\n",
       "      <td>4.627568e+18</td>\n",
       "      <td>1.564914e+09</td>\n",
       "      <td>247.022296</td>\n",
       "    </tr>\n",
       "    <tr>\n",
       "      <th>std</th>\n",
       "      <td>2.642425e+18</td>\n",
       "      <td>1.771343e+05</td>\n",
       "      <td>0.824434</td>\n",
       "    </tr>\n",
       "    <tr>\n",
       "      <th>min</th>\n",
       "      <td>6.888747e+15</td>\n",
       "      <td>1.564030e+09</td>\n",
       "      <td>246.000000</td>\n",
       "    </tr>\n",
       "    <tr>\n",
       "      <th>25%</th>\n",
       "      <td>2.372212e+18</td>\n",
       "      <td>1.564757e+09</td>\n",
       "      <td>246.000000</td>\n",
       "    </tr>\n",
       "    <tr>\n",
       "      <th>50%</th>\n",
       "      <td>4.623192e+18</td>\n",
       "      <td>1.564919e+09</td>\n",
       "      <td>247.000000</td>\n",
       "    </tr>\n",
       "    <tr>\n",
       "      <th>75%</th>\n",
       "      <td>6.932517e+18</td>\n",
       "      <td>1.565075e+09</td>\n",
       "      <td>248.000000</td>\n",
       "    </tr>\n",
       "    <tr>\n",
       "      <th>max</th>\n",
       "      <td>9.222603e+18</td>\n",
       "      <td>1.565213e+09</td>\n",
       "      <td>248.000000</td>\n",
       "    </tr>\n",
       "  </tbody>\n",
       "</table>\n",
       "</div>"
      ],
      "text/plain": [
       "       DeviceIDHash  EventTimestamp          ExpId\n",
       "count  2.441260e+05    2.441260e+05  244126.000000\n",
       "mean   4.627568e+18    1.564914e+09     247.022296\n",
       "std    2.642425e+18    1.771343e+05       0.824434\n",
       "min    6.888747e+15    1.564030e+09     246.000000\n",
       "25%    2.372212e+18    1.564757e+09     246.000000\n",
       "50%    4.623192e+18    1.564919e+09     247.000000\n",
       "75%    6.932517e+18    1.565075e+09     248.000000\n",
       "max    9.222603e+18    1.565213e+09     248.000000"
      ]
     },
     "execution_count": 5,
     "metadata": {},
     "output_type": "execute_result"
    }
   ],
   "source": [
    "data.describe()"
   ]
  },
  {
   "cell_type": "markdown",
   "id": "5641f5b2",
   "metadata": {},
   "source": [
    "Импортировали необходимые билиотеки и загрузили таблицу. Таблица состоит из четырех столбцов и 244126 строк. Пропусков нет. \n",
    "\n",
    "Каждая запись в логе — это действие пользователя, или событие. \n",
    "\n",
    "- EventName — название события;                                                                                                \n",
    "- DeviceIDHash — уникальный идентификатор пользователя;                                                                        \n",
    "- EventTimestamp — время события;                                                                                              \n",
    "- ExpId — номер эксперимента: 246 и 247 — контрольные группы, а 248 — экспериментальная.                                       \n",
    "\n",
    "Названия столбцов и типы данных необходимо изменить, займемся этим в подготовке данных."
   ]
  },
  {
   "cell_type": "markdown",
   "id": "a4978d04",
   "metadata": {},
   "source": [
    "## Шаг 2. Подготовим данные"
   ]
  },
  {
   "cell_type": "markdown",
   "id": "ecce330d",
   "metadata": {},
   "source": [
    "1. Заменим названия столбцов:"
   ]
  },
  {
   "cell_type": "code",
   "execution_count": 6,
   "id": "37b21f37",
   "metadata": {},
   "outputs": [
    {
     "data": {
      "text/plain": [
       "Index(['event_name', 'user_id', 'event_time', 'group'], dtype='object')"
      ]
     },
     "execution_count": 6,
     "metadata": {},
     "output_type": "execute_result"
    }
   ],
   "source": [
    "data = data.rename(columns={'EventName':'event_name','DeviceIDHash': 'user_id', 'EventTimestamp': 'event_time','ExpId':'group'})\n",
    "# проверим\n",
    "data.columns"
   ]
  },
  {
   "cell_type": "code",
   "execution_count": 7,
   "id": "17025c18",
   "metadata": {},
   "outputs": [
    {
     "data": {
      "text/html": [
       "<div>\n",
       "<style scoped>\n",
       "    .dataframe tbody tr th:only-of-type {\n",
       "        vertical-align: middle;\n",
       "    }\n",
       "\n",
       "    .dataframe tbody tr th {\n",
       "        vertical-align: top;\n",
       "    }\n",
       "\n",
       "    .dataframe thead th {\n",
       "        text-align: right;\n",
       "    }\n",
       "</style>\n",
       "<table border=\"1\" class=\"dataframe\">\n",
       "  <thead>\n",
       "    <tr style=\"text-align: right;\">\n",
       "      <th></th>\n",
       "      <th>event_name</th>\n",
       "      <th>user_id</th>\n",
       "      <th>event_time</th>\n",
       "      <th>group</th>\n",
       "    </tr>\n",
       "  </thead>\n",
       "  <tbody>\n",
       "    <tr>\n",
       "      <th>452</th>\n",
       "      <td>MainScreenAppear</td>\n",
       "      <td>5613408041324010552</td>\n",
       "      <td>1564474784</td>\n",
       "      <td>248</td>\n",
       "    </tr>\n",
       "    <tr>\n",
       "      <th>2348</th>\n",
       "      <td>CartScreenAppear</td>\n",
       "      <td>1694940645335807244</td>\n",
       "      <td>1564609899</td>\n",
       "      <td>248</td>\n",
       "    </tr>\n",
       "    <tr>\n",
       "      <th>3572</th>\n",
       "      <td>MainScreenAppear</td>\n",
       "      <td>434103746454591587</td>\n",
       "      <td>1564628377</td>\n",
       "      <td>248</td>\n",
       "    </tr>\n",
       "    <tr>\n",
       "      <th>4075</th>\n",
       "      <td>MainScreenAppear</td>\n",
       "      <td>3761373764179762633</td>\n",
       "      <td>1564631266</td>\n",
       "      <td>247</td>\n",
       "    </tr>\n",
       "    <tr>\n",
       "      <th>4801</th>\n",
       "      <td>MainScreenAppear</td>\n",
       "      <td>2835328739789306622</td>\n",
       "      <td>1564634641</td>\n",
       "      <td>248</td>\n",
       "    </tr>\n",
       "    <tr>\n",
       "      <th>...</th>\n",
       "      <td>...</td>\n",
       "      <td>...</td>\n",
       "      <td>...</td>\n",
       "      <td>...</td>\n",
       "    </tr>\n",
       "    <tr>\n",
       "      <th>242328</th>\n",
       "      <td>MainScreenAppear</td>\n",
       "      <td>8870358373313968633</td>\n",
       "      <td>1565206004</td>\n",
       "      <td>247</td>\n",
       "    </tr>\n",
       "    <tr>\n",
       "      <th>242331</th>\n",
       "      <td>PaymentScreenSuccessful</td>\n",
       "      <td>4718002964983105693</td>\n",
       "      <td>1565206005</td>\n",
       "      <td>247</td>\n",
       "    </tr>\n",
       "    <tr>\n",
       "      <th>242358</th>\n",
       "      <td>CartScreenAppear</td>\n",
       "      <td>2382591782303281935</td>\n",
       "      <td>1565206049</td>\n",
       "      <td>246</td>\n",
       "    </tr>\n",
       "    <tr>\n",
       "      <th>242359</th>\n",
       "      <td>PaymentScreenSuccessful</td>\n",
       "      <td>2382591782303281935</td>\n",
       "      <td>1565206049</td>\n",
       "      <td>246</td>\n",
       "    </tr>\n",
       "    <tr>\n",
       "      <th>242634</th>\n",
       "      <td>MainScreenAppear</td>\n",
       "      <td>4097782667445790512</td>\n",
       "      <td>1565206618</td>\n",
       "      <td>246</td>\n",
       "    </tr>\n",
       "  </tbody>\n",
       "</table>\n",
       "<p>413 rows × 4 columns</p>\n",
       "</div>"
      ],
      "text/plain": [
       "                     event_name              user_id  event_time  group\n",
       "452            MainScreenAppear  5613408041324010552  1564474784    248\n",
       "2348           CartScreenAppear  1694940645335807244  1564609899    248\n",
       "3572           MainScreenAppear   434103746454591587  1564628377    248\n",
       "4075           MainScreenAppear  3761373764179762633  1564631266    247\n",
       "4801           MainScreenAppear  2835328739789306622  1564634641    248\n",
       "...                         ...                  ...         ...    ...\n",
       "242328         MainScreenAppear  8870358373313968633  1565206004    247\n",
       "242331  PaymentScreenSuccessful  4718002964983105693  1565206005    247\n",
       "242358         CartScreenAppear  2382591782303281935  1565206049    246\n",
       "242359  PaymentScreenSuccessful  2382591782303281935  1565206049    246\n",
       "242634         MainScreenAppear  4097782667445790512  1565206618    246\n",
       "\n",
       "[413 rows x 4 columns]"
      ]
     },
     "execution_count": 7,
     "metadata": {},
     "output_type": "execute_result"
    }
   ],
   "source": [
    "# выведем и посмотрим строĸи с дублиĸатами\n",
    "data[data.duplicated(keep='last')]"
   ]
  },
  {
   "cell_type": "markdown",
   "id": "8f01a0d8",
   "metadata": {},
   "source": [
    "Как видим, в датафрейме имеются 413 одинаĸовых строĸ. Избавимся от дублей, чтобы\n",
    "получить чистые данные:"
   ]
  },
  {
   "cell_type": "code",
   "execution_count": 8,
   "id": "e2069c37",
   "metadata": {},
   "outputs": [
    {
     "data": {
      "text/plain": [
       "0"
      ]
     },
     "execution_count": 8,
     "metadata": {},
     "output_type": "execute_result"
    }
   ],
   "source": [
    "data = data.drop_duplicates().reset_index(drop=True)\n",
    "# проверим, исчезли ли дубликаты\n",
    "data.duplicated().sum()"
   ]
  },
  {
   "cell_type": "markdown",
   "id": "df315e86",
   "metadata": {},
   "source": [
    "2. Пропусков нет, изучили вначале.\n",
    "\n",
    "3. Создадим столбец с датой и временем \"datetime\", так же создадим столбец с датой \"date\":"
   ]
  },
  {
   "cell_type": "code",
   "execution_count": 9,
   "id": "925553cc",
   "metadata": {},
   "outputs": [
    {
     "data": {
      "text/html": [
       "<div>\n",
       "<style scoped>\n",
       "    .dataframe tbody tr th:only-of-type {\n",
       "        vertical-align: middle;\n",
       "    }\n",
       "\n",
       "    .dataframe tbody tr th {\n",
       "        vertical-align: top;\n",
       "    }\n",
       "\n",
       "    .dataframe thead th {\n",
       "        text-align: right;\n",
       "    }\n",
       "</style>\n",
       "<table border=\"1\" class=\"dataframe\">\n",
       "  <thead>\n",
       "    <tr style=\"text-align: right;\">\n",
       "      <th></th>\n",
       "      <th>event_name</th>\n",
       "      <th>user_id</th>\n",
       "      <th>event_time</th>\n",
       "      <th>group</th>\n",
       "      <th>datetime</th>\n",
       "      <th>date</th>\n",
       "    </tr>\n",
       "  </thead>\n",
       "  <tbody>\n",
       "    <tr>\n",
       "      <th>0</th>\n",
       "      <td>MainScreenAppear</td>\n",
       "      <td>4575588528974610257</td>\n",
       "      <td>1564029816</td>\n",
       "      <td>246</td>\n",
       "      <td>2019-07-25 04:43:36</td>\n",
       "      <td>2019-07-25</td>\n",
       "    </tr>\n",
       "    <tr>\n",
       "      <th>1</th>\n",
       "      <td>MainScreenAppear</td>\n",
       "      <td>7416695313311560658</td>\n",
       "      <td>1564053102</td>\n",
       "      <td>246</td>\n",
       "      <td>2019-07-25 11:11:42</td>\n",
       "      <td>2019-07-25</td>\n",
       "    </tr>\n",
       "    <tr>\n",
       "      <th>2</th>\n",
       "      <td>PaymentScreenSuccessful</td>\n",
       "      <td>3518123091307005509</td>\n",
       "      <td>1564054127</td>\n",
       "      <td>248</td>\n",
       "      <td>2019-07-25 11:28:47</td>\n",
       "      <td>2019-07-25</td>\n",
       "    </tr>\n",
       "    <tr>\n",
       "      <th>3</th>\n",
       "      <td>CartScreenAppear</td>\n",
       "      <td>3518123091307005509</td>\n",
       "      <td>1564054127</td>\n",
       "      <td>248</td>\n",
       "      <td>2019-07-25 11:28:47</td>\n",
       "      <td>2019-07-25</td>\n",
       "    </tr>\n",
       "    <tr>\n",
       "      <th>4</th>\n",
       "      <td>PaymentScreenSuccessful</td>\n",
       "      <td>6217807653094995999</td>\n",
       "      <td>1564055322</td>\n",
       "      <td>248</td>\n",
       "      <td>2019-07-25 11:48:42</td>\n",
       "      <td>2019-07-25</td>\n",
       "    </tr>\n",
       "    <tr>\n",
       "      <th>...</th>\n",
       "      <td>...</td>\n",
       "      <td>...</td>\n",
       "      <td>...</td>\n",
       "      <td>...</td>\n",
       "      <td>...</td>\n",
       "      <td>...</td>\n",
       "    </tr>\n",
       "    <tr>\n",
       "      <th>243708</th>\n",
       "      <td>MainScreenAppear</td>\n",
       "      <td>4599628364049201812</td>\n",
       "      <td>1565212345</td>\n",
       "      <td>247</td>\n",
       "      <td>2019-08-07 21:12:25</td>\n",
       "      <td>2019-08-07</td>\n",
       "    </tr>\n",
       "    <tr>\n",
       "      <th>243709</th>\n",
       "      <td>MainScreenAppear</td>\n",
       "      <td>5849806612437486590</td>\n",
       "      <td>1565212439</td>\n",
       "      <td>246</td>\n",
       "      <td>2019-08-07 21:13:59</td>\n",
       "      <td>2019-08-07</td>\n",
       "    </tr>\n",
       "    <tr>\n",
       "      <th>243710</th>\n",
       "      <td>MainScreenAppear</td>\n",
       "      <td>5746969938801999050</td>\n",
       "      <td>1565212483</td>\n",
       "      <td>246</td>\n",
       "      <td>2019-08-07 21:14:43</td>\n",
       "      <td>2019-08-07</td>\n",
       "    </tr>\n",
       "    <tr>\n",
       "      <th>243711</th>\n",
       "      <td>MainScreenAppear</td>\n",
       "      <td>5746969938801999050</td>\n",
       "      <td>1565212498</td>\n",
       "      <td>246</td>\n",
       "      <td>2019-08-07 21:14:58</td>\n",
       "      <td>2019-08-07</td>\n",
       "    </tr>\n",
       "    <tr>\n",
       "      <th>243712</th>\n",
       "      <td>OffersScreenAppear</td>\n",
       "      <td>5746969938801999050</td>\n",
       "      <td>1565212517</td>\n",
       "      <td>246</td>\n",
       "      <td>2019-08-07 21:15:17</td>\n",
       "      <td>2019-08-07</td>\n",
       "    </tr>\n",
       "  </tbody>\n",
       "</table>\n",
       "<p>243713 rows × 6 columns</p>\n",
       "</div>"
      ],
      "text/plain": [
       "                     event_name              user_id  event_time  group  \\\n",
       "0              MainScreenAppear  4575588528974610257  1564029816    246   \n",
       "1              MainScreenAppear  7416695313311560658  1564053102    246   \n",
       "2       PaymentScreenSuccessful  3518123091307005509  1564054127    248   \n",
       "3              CartScreenAppear  3518123091307005509  1564054127    248   \n",
       "4       PaymentScreenSuccessful  6217807653094995999  1564055322    248   \n",
       "...                         ...                  ...         ...    ...   \n",
       "243708         MainScreenAppear  4599628364049201812  1565212345    247   \n",
       "243709         MainScreenAppear  5849806612437486590  1565212439    246   \n",
       "243710         MainScreenAppear  5746969938801999050  1565212483    246   \n",
       "243711         MainScreenAppear  5746969938801999050  1565212498    246   \n",
       "243712       OffersScreenAppear  5746969938801999050  1565212517    246   \n",
       "\n",
       "                  datetime        date  \n",
       "0      2019-07-25 04:43:36  2019-07-25  \n",
       "1      2019-07-25 11:11:42  2019-07-25  \n",
       "2      2019-07-25 11:28:47  2019-07-25  \n",
       "3      2019-07-25 11:28:47  2019-07-25  \n",
       "4      2019-07-25 11:48:42  2019-07-25  \n",
       "...                    ...         ...  \n",
       "243708 2019-08-07 21:12:25  2019-08-07  \n",
       "243709 2019-08-07 21:13:59  2019-08-07  \n",
       "243710 2019-08-07 21:14:43  2019-08-07  \n",
       "243711 2019-08-07 21:14:58  2019-08-07  \n",
       "243712 2019-08-07 21:15:17  2019-08-07  \n",
       "\n",
       "[243713 rows x 6 columns]"
      ]
     },
     "execution_count": 9,
     "metadata": {},
     "output_type": "execute_result"
    }
   ],
   "source": [
    "data['datetime'] = pd.to_datetime(data['event_time'], unit='s')\n",
    "data['date'] = data['datetime'].dt.date\n",
    "# проверим, добавились ли новые столбцы\n",
    "data"
   ]
  },
  {
   "cell_type": "code",
   "execution_count": 10,
   "id": "3d41fe5b",
   "metadata": {},
   "outputs": [
    {
     "name": "stdout",
     "output_type": "stream",
     "text": [
      "<class 'pandas.core.frame.DataFrame'>\n",
      "RangeIndex: 243713 entries, 0 to 243712\n",
      "Data columns (total 6 columns):\n",
      " #   Column      Non-Null Count   Dtype         \n",
      "---  ------      --------------   -----         \n",
      " 0   event_name  243713 non-null  object        \n",
      " 1   user_id     243713 non-null  int64         \n",
      " 2   event_time  243713 non-null  int64         \n",
      " 3   group       243713 non-null  int64         \n",
      " 4   datetime    243713 non-null  datetime64[ns]\n",
      " 5   date        243713 non-null  object        \n",
      "dtypes: datetime64[ns](1), int64(3), object(2)\n",
      "memory usage: 11.2+ MB\n"
     ]
    }
   ],
   "source": [
    "# проверим типы\n",
    "data.info()"
   ]
  },
  {
   "cell_type": "markdown",
   "id": "a4b3c6de",
   "metadata": {},
   "source": [
    "В столбеце \"date\" поменяем тип на \"datetime64\""
   ]
  },
  {
   "cell_type": "code",
   "execution_count": 11,
   "id": "85338d93",
   "metadata": {},
   "outputs": [
    {
     "name": "stdout",
     "output_type": "stream",
     "text": [
      "<class 'pandas.core.frame.DataFrame'>\n",
      "RangeIndex: 243713 entries, 0 to 243712\n",
      "Data columns (total 6 columns):\n",
      " #   Column      Non-Null Count   Dtype         \n",
      "---  ------      --------------   -----         \n",
      " 0   event_name  243713 non-null  object        \n",
      " 1   user_id     243713 non-null  int64         \n",
      " 2   event_time  243713 non-null  int64         \n",
      " 3   group       243713 non-null  int64         \n",
      " 4   datetime    243713 non-null  datetime64[ns]\n",
      " 5   date        243713 non-null  datetime64[ns]\n",
      "dtypes: datetime64[ns](2), int64(3), object(1)\n",
      "memory usage: 11.2+ MB\n"
     ]
    }
   ],
   "source": [
    "data['date'] = data['date'].astype('datetime64')\n",
    "# убедимся\n",
    "data.info()"
   ]
  },
  {
   "cell_type": "code",
   "execution_count": 12,
   "id": "5e82301f",
   "metadata": {},
   "outputs": [],
   "source": [
    "group_246 = data[data['group'] == 246] # создаем новый датафрейм по группе 246\n",
    "group_246 = list(group_246['user_id'].unique()) # создаем список по уникальным пользователям\n",
    "group_247 = data[data['group'] == 247] # создаем новый датафрейм по группе 247\n",
    "group_247 = list(group_247['user_id'].unique()) # создаем список по уникальным пользователям\n",
    "group_248 = data[data['group'] == 248] # создаем новый датафрейм по группе 248\n",
    "group_248 = list(group_248['user_id'].unique()) # создаем список по уникальным пользователям"
   ]
  },
  {
   "cell_type": "code",
   "execution_count": 13,
   "id": "0c238382",
   "metadata": {},
   "outputs": [
    {
     "name": "stdout",
     "output_type": "stream",
     "text": [
      "Количество уникальных пользователей в группе 246: 2489\n",
      "Количество уникальных пользователей в группе 247: 2520\n",
      "Количество уникальных пользователей в группе 248: 2542\n",
      "Пересечение пользователей между группами 246 и 247: set()\n",
      "Пересечение пользователей между группами 247 и 248: set()\n",
      "Пересечение пользователей между группами 246 и 248: set()\n"
     ]
    }
   ],
   "source": [
    "# сравниваем количество уникальных пользователей в каждой группе \n",
    "print(\"Количество уникальных пользователей в группе 246:\", len(group_246)) \n",
    "print(\"Количество уникальных пользователей в группе 247:\", len(group_247)) \n",
    "print(\"Количество уникальных пользователей в группе 248:\", len(group_248)) \n",
    "  \n",
    "# сравниваем пересечение пользователей между группами, используя операторы & (пересечение) \n",
    "print(\"Пересечение пользователей между группами 246 и 247:\", set(group_246) & set(group_247)) \n",
    "print(\"Пересечение пользователей между группами 247 и 248:\", set(group_247) & set(group_248)) \n",
    "print(\"Пересечение пользователей между группами 246 и 248:\", set(group_246) & set(group_248)) "
   ]
  },
  {
   "cell_type": "markdown",
   "id": "e8771710",
   "metadata": {},
   "source": [
    "Провели анализ пересечения пользователей между группами, так как результат set() нулевой, то это означает отсутствие пересечения пользователей в группах."
   ]
  },
  {
   "cell_type": "markdown",
   "id": "e742f142",
   "metadata": {},
   "source": [
    "**Вывод:**\n",
    "\n",
    "Таблица готова для анализа. Заменили названия столбцов, убрали 413 дубликатов, добавили столбец даты и времени, а также отдельный столбец дат, проверили и поменяли типы, где это необходимо. Проверили отсутствие пересечения пользователей в группах."
   ]
  },
  {
   "cell_type": "markdown",
   "id": "6b5d7d98",
   "metadata": {},
   "source": [
    "## Шаг 3. Изучим и проверим данные"
   ]
  },
  {
   "cell_type": "markdown",
   "id": "30927dd0",
   "metadata": {},
   "source": [
    "1. Посмотрим сколько всего событий в логе:"
   ]
  },
  {
   "cell_type": "code",
   "execution_count": 14,
   "id": "aa3b9942",
   "metadata": {},
   "outputs": [
    {
     "name": "stdout",
     "output_type": "stream",
     "text": [
      "Событий в логе: 243713\n"
     ]
    }
   ],
   "source": [
    "general_events = data['event_name'].count()\n",
    "print('Событий в логе:', general_events)"
   ]
  },
  {
   "cell_type": "markdown",
   "id": "a42969dd",
   "metadata": {},
   "source": [
    "2. Посмотрим сколько всего пользователей в логе:"
   ]
  },
  {
   "cell_type": "code",
   "execution_count": 15,
   "id": "b950cef3",
   "metadata": {},
   "outputs": [
    {
     "name": "stdout",
     "output_type": "stream",
     "text": [
      "Пользователей в логе: 7551\n"
     ]
    }
   ],
   "source": [
    "general_users = data['user_id'].nunique()\n",
    "print('Пользователей в логе:', general_users)"
   ]
  },
  {
   "cell_type": "markdown",
   "id": "9dc56bd9",
   "metadata": {},
   "source": [
    "3. Посмотрим сколько в среднем событий приходится на пользователя:"
   ]
  },
  {
   "cell_type": "code",
   "execution_count": 16,
   "id": "59c4d181",
   "metadata": {},
   "outputs": [
    {
     "name": "stdout",
     "output_type": "stream",
     "text": [
      "В среднем событий приходится на пользователя: 20.0\n"
     ]
    }
   ],
   "source": [
    "average_events = data.groupby('user_id')['event_name'].count().median()\n",
    "print('В среднем событий приходится на пользователя:', average_events)"
   ]
  },
  {
   "cell_type": "markdown",
   "id": "452886dd",
   "metadata": {},
   "source": [
    "4.  Найдём максимальную и минимальную дату, и узнаем за какой период содержатся данные в логе:"
   ]
  },
  {
   "cell_type": "code",
   "execution_count": 17,
   "id": "61374fa5",
   "metadata": {},
   "outputs": [
    {
     "name": "stdout",
     "output_type": "stream",
     "text": [
      "Дата минимальная: 2019-07-25 00:00:00\n",
      "Дата максимальная: 2019-08-07 00:00:00\n",
      "Количество дней: 13 days 00:00:00\n"
     ]
    }
   ],
   "source": [
    "print('Дата минимальная:', data['date'].min())\n",
    "print('Дата максимальная:', data['date'].max())\n",
    "data_period =  data['date'].max() - data['date'].min()\n",
    "print('Количество дней:', data_period)"
   ]
  },
  {
   "cell_type": "markdown",
   "id": "fb2a0450",
   "metadata": {},
   "source": [
    "- построим гистограмму по дате и времени:"
   ]
  },
  {
   "cell_type": "code",
   "execution_count": 18,
   "id": "f7cc0fc4",
   "metadata": {},
   "outputs": [
    {
     "data": {
      "text/plain": [
       "Text(0.5, 1.0, 'Гистограмма по дате и времени')"
      ]
     },
     "execution_count": 18,
     "metadata": {},
     "output_type": "execute_result"
    },
    {
     "data": {
      "image/png": "[encoded data removed]",
      "text/plain": [
       "<Figure size 576x288 with 1 Axes>"
      ]
     },
     "metadata": {
      "needs_background": "light"
     },
     "output_type": "display_data"
    }
   ],
   "source": [
    "data.hist('date', figsize=(8,4));\n",
    "plt.xlabel('Дата')\n",
    "plt.ylabel('Количество событий')\n",
    "plt.title('Гистограмма по дате и времени')"
   ]
  },
  {
   "cell_type": "markdown",
   "id": "889aa8f9",
   "metadata": {},
   "source": [
    "Как видим даннные за первые 6 дней неполные, пользователи не аĸтивно пользовались приложением. Основное ĸоличество событий произошло в период с 1 августа по 7 августа. Поэтому мы можем пользоваться только данными за август."
   ]
  },
  {
   "cell_type": "markdown",
   "id": "aa5d0790",
   "metadata": {},
   "source": [
    "- Отфильтруем таблицу за август.:"
   ]
  },
  {
   "cell_type": "code",
   "execution_count": 19,
   "id": "f4c41805",
   "metadata": {},
   "outputs": [
    {
     "data": {
      "text/html": [
       "<div>\n",
       "<style scoped>\n",
       "    .dataframe tbody tr th:only-of-type {\n",
       "        vertical-align: middle;\n",
       "    }\n",
       "\n",
       "    .dataframe tbody tr th {\n",
       "        vertical-align: top;\n",
       "    }\n",
       "\n",
       "    .dataframe thead th {\n",
       "        text-align: right;\n",
       "    }\n",
       "</style>\n",
       "<table border=\"1\" class=\"dataframe\">\n",
       "  <thead>\n",
       "    <tr style=\"text-align: right;\">\n",
       "      <th></th>\n",
       "      <th>event_name</th>\n",
       "      <th>user_id</th>\n",
       "      <th>event_time</th>\n",
       "      <th>group</th>\n",
       "      <th>datetime</th>\n",
       "      <th>date</th>\n",
       "    </tr>\n",
       "  </thead>\n",
       "  <tbody>\n",
       "    <tr>\n",
       "      <th>2826</th>\n",
       "      <td>Tutorial</td>\n",
       "      <td>3737462046622621720</td>\n",
       "      <td>1564618048</td>\n",
       "      <td>246</td>\n",
       "      <td>2019-08-01 00:07:28</td>\n",
       "      <td>2019-08-01</td>\n",
       "    </tr>\n",
       "    <tr>\n",
       "      <th>2827</th>\n",
       "      <td>MainScreenAppear</td>\n",
       "      <td>3737462046622621720</td>\n",
       "      <td>1564618080</td>\n",
       "      <td>246</td>\n",
       "      <td>2019-08-01 00:08:00</td>\n",
       "      <td>2019-08-01</td>\n",
       "    </tr>\n",
       "    <tr>\n",
       "      <th>2828</th>\n",
       "      <td>MainScreenAppear</td>\n",
       "      <td>3737462046622621720</td>\n",
       "      <td>1564618135</td>\n",
       "      <td>246</td>\n",
       "      <td>2019-08-01 00:08:55</td>\n",
       "      <td>2019-08-01</td>\n",
       "    </tr>\n",
       "    <tr>\n",
       "      <th>2829</th>\n",
       "      <td>OffersScreenAppear</td>\n",
       "      <td>3737462046622621720</td>\n",
       "      <td>1564618138</td>\n",
       "      <td>246</td>\n",
       "      <td>2019-08-01 00:08:58</td>\n",
       "      <td>2019-08-01</td>\n",
       "    </tr>\n",
       "    <tr>\n",
       "      <th>2830</th>\n",
       "      <td>MainScreenAppear</td>\n",
       "      <td>1433840883824088890</td>\n",
       "      <td>1564618139</td>\n",
       "      <td>247</td>\n",
       "      <td>2019-08-01 00:08:59</td>\n",
       "      <td>2019-08-01</td>\n",
       "    </tr>\n",
       "    <tr>\n",
       "      <th>...</th>\n",
       "      <td>...</td>\n",
       "      <td>...</td>\n",
       "      <td>...</td>\n",
       "      <td>...</td>\n",
       "      <td>...</td>\n",
       "      <td>...</td>\n",
       "    </tr>\n",
       "    <tr>\n",
       "      <th>243708</th>\n",
       "      <td>MainScreenAppear</td>\n",
       "      <td>4599628364049201812</td>\n",
       "      <td>1565212345</td>\n",
       "      <td>247</td>\n",
       "      <td>2019-08-07 21:12:25</td>\n",
       "      <td>2019-08-07</td>\n",
       "    </tr>\n",
       "    <tr>\n",
       "      <th>243709</th>\n",
       "      <td>MainScreenAppear</td>\n",
       "      <td>5849806612437486590</td>\n",
       "      <td>1565212439</td>\n",
       "      <td>246</td>\n",
       "      <td>2019-08-07 21:13:59</td>\n",
       "      <td>2019-08-07</td>\n",
       "    </tr>\n",
       "    <tr>\n",
       "      <th>243710</th>\n",
       "      <td>MainScreenAppear</td>\n",
       "      <td>5746969938801999050</td>\n",
       "      <td>1565212483</td>\n",
       "      <td>246</td>\n",
       "      <td>2019-08-07 21:14:43</td>\n",
       "      <td>2019-08-07</td>\n",
       "    </tr>\n",
       "    <tr>\n",
       "      <th>243711</th>\n",
       "      <td>MainScreenAppear</td>\n",
       "      <td>5746969938801999050</td>\n",
       "      <td>1565212498</td>\n",
       "      <td>246</td>\n",
       "      <td>2019-08-07 21:14:58</td>\n",
       "      <td>2019-08-07</td>\n",
       "    </tr>\n",
       "    <tr>\n",
       "      <th>243712</th>\n",
       "      <td>OffersScreenAppear</td>\n",
       "      <td>5746969938801999050</td>\n",
       "      <td>1565212517</td>\n",
       "      <td>246</td>\n",
       "      <td>2019-08-07 21:15:17</td>\n",
       "      <td>2019-08-07</td>\n",
       "    </tr>\n",
       "  </tbody>\n",
       "</table>\n",
       "<p>240887 rows × 6 columns</p>\n",
       "</div>"
      ],
      "text/plain": [
       "                event_name              user_id  event_time  group  \\\n",
       "2826              Tutorial  3737462046622621720  1564618048    246   \n",
       "2827      MainScreenAppear  3737462046622621720  1564618080    246   \n",
       "2828      MainScreenAppear  3737462046622621720  1564618135    246   \n",
       "2829    OffersScreenAppear  3737462046622621720  1564618138    246   \n",
       "2830      MainScreenAppear  1433840883824088890  1564618139    247   \n",
       "...                    ...                  ...         ...    ...   \n",
       "243708    MainScreenAppear  4599628364049201812  1565212345    247   \n",
       "243709    MainScreenAppear  5849806612437486590  1565212439    246   \n",
       "243710    MainScreenAppear  5746969938801999050  1565212483    246   \n",
       "243711    MainScreenAppear  5746969938801999050  1565212498    246   \n",
       "243712  OffersScreenAppear  5746969938801999050  1565212517    246   \n",
       "\n",
       "                  datetime       date  \n",
       "2826   2019-08-01 00:07:28 2019-08-01  \n",
       "2827   2019-08-01 00:08:00 2019-08-01  \n",
       "2828   2019-08-01 00:08:55 2019-08-01  \n",
       "2829   2019-08-01 00:08:58 2019-08-01  \n",
       "2830   2019-08-01 00:08:59 2019-08-01  \n",
       "...                    ...        ...  \n",
       "243708 2019-08-07 21:12:25 2019-08-07  \n",
       "243709 2019-08-07 21:13:59 2019-08-07  \n",
       "243710 2019-08-07 21:14:43 2019-08-07  \n",
       "243711 2019-08-07 21:14:58 2019-08-07  \n",
       "243712 2019-08-07 21:15:17 2019-08-07  \n",
       "\n",
       "[240887 rows x 6 columns]"
      ]
     },
     "execution_count": 19,
     "metadata": {},
     "output_type": "execute_result"
    }
   ],
   "source": [
    "data_ = data.query('date >= \"2019-08-01\"')\n",
    "data_"
   ]
  },
  {
   "cell_type": "markdown",
   "id": "cf8ecfe5",
   "metadata": {},
   "source": [
    "**Вывод:**\n",
    "\n",
    "По проведённому исследованию дат определили, что вместо 13 дней логов с 25.07.2019 по 7.08.2019, мы обладаем полными данными только за август с 1.08.2019 по 07.08.2019."
   ]
  },
  {
   "cell_type": "markdown",
   "id": "dffdcf6f",
   "metadata": {},
   "source": [
    "5. Узнаем, много ли событий и пользователей мы потеряли, отбросив старые данные:"
   ]
  },
  {
   "cell_type": "code",
   "execution_count": 20,
   "id": "a9a91f8c",
   "metadata": {},
   "outputs": [
    {
     "name": "stdout",
     "output_type": "stream",
     "text": [
      "Количество пользователей совершивших действия до 1 августа: 17, это 0.23% от общего числа пользователей\n"
     ]
    }
   ],
   "source": [
    "old_users = data.groupby('user_id',as_index=False )['date'].max().query('date < \"2019-08-01\"')\n",
    "old_users_count =  old_users['user_id'].count()\n",
    "print(f'Количество пользователей совершивших действия до 1 августа: {old_users_count}, это {round(old_users_count / general_users * 100, 2)}% от общего числа пользователей')"
   ]
  },
  {
   "cell_type": "code",
   "execution_count": 21,
   "id": "d95eef21",
   "metadata": {},
   "outputs": [
    {
     "name": "stdout",
     "output_type": "stream",
     "text": [
      "Количество событий до 1 августа: 2826, это 1.16% от общего числа данных\n"
     ]
    }
   ],
   "source": [
    "old_events = data.query('date < \"2019-08-01\"').groupby('user_id',as_index=False )['event_name'].count()\n",
    "old_events_sum = old_events['event_name'].sum()\n",
    "print(f'Количество событий до 1 августа: {old_events_sum}, это {round(old_events_sum / general_events * 100, 2)}% от общего числа данных')"
   ]
  },
  {
   "cell_type": "markdown",
   "id": "ea2ab763",
   "metadata": {},
   "source": [
    "По результатам видно, что удалённые данные составляли очень малую часть 0.23% и 1.16% , значит их удаление не повлияет на дальнейшие результаты."
   ]
  },
  {
   "cell_type": "markdown",
   "id": "16a4d40f",
   "metadata": {},
   "source": [
    "6. Проверим, что у нас есть пользователи из всех трёх экспериментальных групп:"
   ]
  },
  {
   "cell_type": "code",
   "execution_count": 22,
   "id": "f42b2bc4",
   "metadata": {},
   "outputs": [
    {
     "data": {
      "text/html": [
       "<div>\n",
       "<style scoped>\n",
       "    .dataframe tbody tr th:only-of-type {\n",
       "        vertical-align: middle;\n",
       "    }\n",
       "\n",
       "    .dataframe tbody tr th {\n",
       "        vertical-align: top;\n",
       "    }\n",
       "\n",
       "    .dataframe thead th {\n",
       "        text-align: right;\n",
       "    }\n",
       "</style>\n",
       "<table border=\"1\" class=\"dataframe\">\n",
       "  <thead>\n",
       "    <tr style=\"text-align: right;\">\n",
       "      <th></th>\n",
       "      <th>user_id</th>\n",
       "    </tr>\n",
       "    <tr>\n",
       "      <th>group</th>\n",
       "      <th></th>\n",
       "    </tr>\n",
       "  </thead>\n",
       "  <tbody>\n",
       "    <tr>\n",
       "      <th>246</th>\n",
       "      <td>2484</td>\n",
       "    </tr>\n",
       "    <tr>\n",
       "      <th>247</th>\n",
       "      <td>2513</td>\n",
       "    </tr>\n",
       "    <tr>\n",
       "      <th>248</th>\n",
       "      <td>2537</td>\n",
       "    </tr>\n",
       "  </tbody>\n",
       "</table>\n",
       "</div>"
      ],
      "text/plain": [
       "       user_id\n",
       "group         \n",
       "246       2484\n",
       "247       2513\n",
       "248       2537"
      ]
     },
     "execution_count": 22,
     "metadata": {},
     "output_type": "execute_result"
    }
   ],
   "source": [
    "data_.pivot_table(index='group', values='user_id', aggfunc='nunique')"
   ]
  },
  {
   "cell_type": "markdown",
   "id": "7b652e56",
   "metadata": {},
   "source": [
    "Пользователей в каждой группе примерно одинаковое количество, с незначительным отклонением."
   ]
  },
  {
   "cell_type": "markdown",
   "id": "50cbe944",
   "metadata": {},
   "source": [
    "**Вывод:**\n",
    "\n",
    "Изучили и проверили данные. Узнали, что по общему количеству 243713 событий в логе и 7551 пользователей в логе. На одного пользователя в среднем приходится 20 событий. Данные в логе содержатся за 13 дней. Узнали, что даннные за первые 6 дней неполные, пользователи не аĸтивно пользовались приложением. Основное ĸоличество событий произошло в период с 1 августа по 7 августа. Поэтому данные до 01 августа были удалены. Было удалено 17 пользователей и 2826 событий. Это не должно повлиять на наши результаты, так как от общего числа удалённые данные составляют всего 0.23% и 1.16%, что вполне допустимо и не должно повлиять на дальнейший анализ. В нашей таблице присутствуют достаточно все группы пользователей, они достаточно одиноковы количеством."
   ]
  },
  {
   "cell_type": "markdown",
   "id": "b10d1d33",
   "metadata": {},
   "source": [
    "## Шаг 4. Изучим воронку событий"
   ]
  },
  {
   "cell_type": "markdown",
   "id": "d3f16c82",
   "metadata": {},
   "source": [
    "1. Посмотрим, какие события есть в логах, как часто они встречаются. Отсортируем события по частоте:"
   ]
  },
  {
   "cell_type": "code",
   "execution_count": 23,
   "id": "40ac9a84",
   "metadata": {},
   "outputs": [
    {
     "data": {
      "text/html": [
       "<div>\n",
       "<style scoped>\n",
       "    .dataframe tbody tr th:only-of-type {\n",
       "        vertical-align: middle;\n",
       "    }\n",
       "\n",
       "    .dataframe tbody tr th {\n",
       "        vertical-align: top;\n",
       "    }\n",
       "\n",
       "    .dataframe thead th {\n",
       "        text-align: right;\n",
       "    }\n",
       "</style>\n",
       "<table border=\"1\" class=\"dataframe\">\n",
       "  <thead>\n",
       "    <tr style=\"text-align: right;\">\n",
       "      <th></th>\n",
       "      <th>count</th>\n",
       "    </tr>\n",
       "    <tr>\n",
       "      <th>event_name</th>\n",
       "      <th></th>\n",
       "    </tr>\n",
       "  </thead>\n",
       "  <tbody>\n",
       "    <tr>\n",
       "      <th>MainScreenAppear</th>\n",
       "      <td>117328</td>\n",
       "    </tr>\n",
       "    <tr>\n",
       "      <th>OffersScreenAppear</th>\n",
       "      <td>46333</td>\n",
       "    </tr>\n",
       "    <tr>\n",
       "      <th>CartScreenAppear</th>\n",
       "      <td>42303</td>\n",
       "    </tr>\n",
       "    <tr>\n",
       "      <th>PaymentScreenSuccessful</th>\n",
       "      <td>33918</td>\n",
       "    </tr>\n",
       "    <tr>\n",
       "      <th>Tutorial</th>\n",
       "      <td>1005</td>\n",
       "    </tr>\n",
       "  </tbody>\n",
       "</table>\n",
       "</div>"
      ],
      "text/plain": [
       "                          count\n",
       "event_name                     \n",
       "MainScreenAppear         117328\n",
       "OffersScreenAppear        46333\n",
       "CartScreenAppear          42303\n",
       "PaymentScreenSuccessful   33918\n",
       "Tutorial                   1005"
      ]
     },
     "execution_count": 23,
     "metadata": {},
     "output_type": "execute_result"
    }
   ],
   "source": [
    "all_events = data_.pivot_table(index='event_name', values='user_id', aggfunc='count')\n",
    "all_events.columns = ['count']\n",
    "all_events = all_events.sort_values(by='count', ascending=False)\n",
    "all_events"
   ]
  },
  {
   "cell_type": "markdown",
   "id": "369bb942",
   "metadata": {},
   "source": [
    "**События:**\n",
    "\n",
    "- MainScreenAppear - появление главного экрана,\n",
    "- OffersScreenAppear - появление экрана приложений,\n",
    "- CartScreenAppear - появление экрана корзины,\n",
    "- PaymentScreenSuccessful - экран успешного прохождения опплаты,\n",
    "- Tutorial - руководство"
   ]
  },
  {
   "cell_type": "markdown",
   "id": "4fda0d96",
   "metadata": {},
   "source": [
    "Всего в логе встречается **5 событий**. Самое частое событие это **MainScreenAppear - появление главного экрана - 117328 раз**.\n",
    "Второе по частоте событие это **OffersScreenAppear - появление экрана приложений - 46333 раза**.\n",
    "Третье по частоте событие это **CartScreenAppear - появление экрана с корзиной - 42303 раза**.\n",
    "Четвёртое событие это **PaymentScreenSuccessful - появление экрана успешного прохождения опплаты - 33918 раз**.\n",
    "Пятое событие это **Tutorial - открытие руководства пользователя - 1005 раз**."
   ]
  },
  {
   "cell_type": "markdown",
   "id": "0c642493",
   "metadata": {},
   "source": [
    "2. Посчитаем, сколько пользователей совершали каждое из этих событий. Отсортируем события по числу пользователей. Посчитаем долю пользователей, которые хоть раз совершали событие:"
   ]
  },
  {
   "cell_type": "code",
   "execution_count": 24,
   "id": "86eb5017",
   "metadata": {},
   "outputs": [
    {
     "data": {
      "text/html": [
       "<div>\n",
       "<style scoped>\n",
       "    .dataframe tbody tr th:only-of-type {\n",
       "        vertical-align: middle;\n",
       "    }\n",
       "\n",
       "    .dataframe tbody tr th {\n",
       "        vertical-align: top;\n",
       "    }\n",
       "\n",
       "    .dataframe thead th {\n",
       "        text-align: right;\n",
       "    }\n",
       "</style>\n",
       "<table border=\"1\" class=\"dataframe\">\n",
       "  <thead>\n",
       "    <tr style=\"text-align: right;\">\n",
       "      <th></th>\n",
       "      <th>user_id</th>\n",
       "    </tr>\n",
       "    <tr>\n",
       "      <th>event_name</th>\n",
       "      <th></th>\n",
       "    </tr>\n",
       "  </thead>\n",
       "  <tbody>\n",
       "    <tr>\n",
       "      <th>MainScreenAppear</th>\n",
       "      <td>7419</td>\n",
       "    </tr>\n",
       "    <tr>\n",
       "      <th>OffersScreenAppear</th>\n",
       "      <td>4593</td>\n",
       "    </tr>\n",
       "    <tr>\n",
       "      <th>CartScreenAppear</th>\n",
       "      <td>3734</td>\n",
       "    </tr>\n",
       "    <tr>\n",
       "      <th>PaymentScreenSuccessful</th>\n",
       "      <td>3539</td>\n",
       "    </tr>\n",
       "    <tr>\n",
       "      <th>Tutorial</th>\n",
       "      <td>840</td>\n",
       "    </tr>\n",
       "  </tbody>\n",
       "</table>\n",
       "</div>"
      ],
      "text/plain": [
       "                         user_id\n",
       "event_name                      \n",
       "MainScreenAppear            7419\n",
       "OffersScreenAppear          4593\n",
       "CartScreenAppear            3734\n",
       "PaymentScreenSuccessful     3539\n",
       "Tutorial                     840"
      ]
     },
     "execution_count": 24,
     "metadata": {},
     "output_type": "execute_result"
    }
   ],
   "source": [
    "number_users = data_.groupby('event_name').agg({'user_id':'nunique'}).sort_values(by='user_id', ascending=False)\n",
    "number_users"
   ]
  },
  {
   "cell_type": "code",
   "execution_count": 25,
   "id": "ec1f8ce2",
   "metadata": {},
   "outputs": [
    {
     "data": {
      "text/html": [
       "<style  type=\"text/css\" >\n",
       "</style><table id=\"T_9bb86_\" ><thead>    <tr>        <th class=\"blank level0\" ></th>        <th class=\"col_heading level0 col0\" >event_name</th>        <th class=\"col_heading level0 col1\" >n_events</th>        <th class=\"col_heading level0 col2\" >users</th>        <th class=\"col_heading level0 col3\" >share</th>    </tr></thead><tbody>\n",
       "                <tr>\n",
       "                        <th id=\"T_9bb86_level0_row0\" class=\"row_heading level0 row0\" >0</th>\n",
       "                        <td id=\"T_9bb86_row0_col0\" class=\"data row0 col0\" >MainScreenAppear</td>\n",
       "                        <td id=\"T_9bb86_row0_col1\" class=\"data row0 col1\" >117328</td>\n",
       "                        <td id=\"T_9bb86_row0_col2\" class=\"data row0 col2\" >7419</td>\n",
       "                        <td id=\"T_9bb86_row0_col3\" class=\"data row0 col3\" >98.5%</td>\n",
       "            </tr>\n",
       "            <tr>\n",
       "                        <th id=\"T_9bb86_level0_row1\" class=\"row_heading level0 row1\" >1</th>\n",
       "                        <td id=\"T_9bb86_row1_col0\" class=\"data row1 col0\" >OffersScreenAppear</td>\n",
       "                        <td id=\"T_9bb86_row1_col1\" class=\"data row1 col1\" >46333</td>\n",
       "                        <td id=\"T_9bb86_row1_col2\" class=\"data row1 col2\" >4593</td>\n",
       "                        <td id=\"T_9bb86_row1_col3\" class=\"data row1 col3\" >61.0%</td>\n",
       "            </tr>\n",
       "            <tr>\n",
       "                        <th id=\"T_9bb86_level0_row2\" class=\"row_heading level0 row2\" >2</th>\n",
       "                        <td id=\"T_9bb86_row2_col0\" class=\"data row2 col0\" >CartScreenAppear</td>\n",
       "                        <td id=\"T_9bb86_row2_col1\" class=\"data row2 col1\" >42303</td>\n",
       "                        <td id=\"T_9bb86_row2_col2\" class=\"data row2 col2\" >3734</td>\n",
       "                        <td id=\"T_9bb86_row2_col3\" class=\"data row2 col3\" >49.6%</td>\n",
       "            </tr>\n",
       "            <tr>\n",
       "                        <th id=\"T_9bb86_level0_row3\" class=\"row_heading level0 row3\" >3</th>\n",
       "                        <td id=\"T_9bb86_row3_col0\" class=\"data row3 col0\" >PaymentScreenSuccessful</td>\n",
       "                        <td id=\"T_9bb86_row3_col1\" class=\"data row3 col1\" >33918</td>\n",
       "                        <td id=\"T_9bb86_row3_col2\" class=\"data row3 col2\" >3539</td>\n",
       "                        <td id=\"T_9bb86_row3_col3\" class=\"data row3 col3\" >47.0%</td>\n",
       "            </tr>\n",
       "            <tr>\n",
       "                        <th id=\"T_9bb86_level0_row4\" class=\"row_heading level0 row4\" >4</th>\n",
       "                        <td id=\"T_9bb86_row4_col0\" class=\"data row4 col0\" >Tutorial</td>\n",
       "                        <td id=\"T_9bb86_row4_col1\" class=\"data row4 col1\" >1005</td>\n",
       "                        <td id=\"T_9bb86_row4_col2\" class=\"data row4 col2\" >840</td>\n",
       "                        <td id=\"T_9bb86_row4_col3\" class=\"data row4 col3\" >11.1%</td>\n",
       "            </tr>\n",
       "    </tbody></table>"
      ],
      "text/plain": [
       "<pandas.io.formats.style.Styler at 0x7f849c119520>"
      ]
     },
     "execution_count": 25,
     "metadata": {},
     "output_type": "execute_result"
    }
   ],
   "source": [
    "user_event = data_.groupby('event_name').agg({'event_name':'count', 'user_id':'nunique'}).sort_values(by='user_id', ascending=False)\n",
    "user_event.columns = ['n_events', 'users']\n",
    "user_event['share'] = user_event['users'] / data_['user_id'].nunique()\n",
    "user_event.reset_index().style.format({'share':'{:.1%}'})"
   ]
  },
  {
   "cell_type": "markdown",
   "id": "efa7f973",
   "metadata": {},
   "source": [
    "Как видно **98.5%** пользователей попадают на главный экран это **7419** пользователей, **61%** пользователей попадают на экран приложений это **4593** пользователей, **49.6%** на экран корзины это **3734** пользователей, **47%** на экран успешной оплаты это **3539** пользователей и **11.1%** на экран руководство это **840** пользователей. Получается, что где-то около **3%** пользователей при оплате заказа где-то теряется. В любом случае на первый взгляд показатель конверсии довольно высок."
   ]
  },
  {
   "cell_type": "markdown",
   "id": "4d3f823d",
   "metadata": {},
   "source": [
    "3. Предположим, в каком порядке происходят события. Все ли они выстраиваются в последовательную цепочку? Их не нужно учитывать при расчёте воронки:"
   ]
  },
  {
   "cell_type": "markdown",
   "id": "34505355",
   "metadata": {},
   "source": [
    "Первые четыре события образуют последовательную цепочку движения пользователя по приложению. Первое событие - главный экран, второе - экран приложений, третье - экран корзины, четвертое - экран успешного прохождения оплаты, а событие - руководство выбивается из цепочки, оно не является обязательным этапом. Это событие самое малочисленное и при невнимательном взгляде может показаться, что оно должно быть в самом низу воронки, но это не так. Это событие является ознакомлением с продуктом и как его использовать, его проходят в самом начале. Многие пользователи его пропускают и переходят сразу к действиям. Поэтому данное событие не имеет отношение к продуктовой воронке и включать в нее не стоит, удалим это событие:"
   ]
  },
  {
   "cell_type": "code",
   "execution_count": 26,
   "id": "057602bf",
   "metadata": {},
   "outputs": [
    {
     "data": {
      "text/html": [
       "<div>\n",
       "<style scoped>\n",
       "    .dataframe tbody tr th:only-of-type {\n",
       "        vertical-align: middle;\n",
       "    }\n",
       "\n",
       "    .dataframe tbody tr th {\n",
       "        vertical-align: top;\n",
       "    }\n",
       "\n",
       "    .dataframe thead th {\n",
       "        text-align: right;\n",
       "    }\n",
       "</style>\n",
       "<table border=\"1\" class=\"dataframe\">\n",
       "  <thead>\n",
       "    <tr style=\"text-align: right;\">\n",
       "      <th></th>\n",
       "      <th>event_name</th>\n",
       "      <th>user_id</th>\n",
       "      <th>event_time</th>\n",
       "      <th>group</th>\n",
       "      <th>datetime</th>\n",
       "      <th>date</th>\n",
       "    </tr>\n",
       "  </thead>\n",
       "  <tbody>\n",
       "    <tr>\n",
       "      <th>2827</th>\n",
       "      <td>MainScreenAppear</td>\n",
       "      <td>3737462046622621720</td>\n",
       "      <td>1564618080</td>\n",
       "      <td>246</td>\n",
       "      <td>2019-08-01 00:08:00</td>\n",
       "      <td>2019-08-01</td>\n",
       "    </tr>\n",
       "    <tr>\n",
       "      <th>2828</th>\n",
       "      <td>MainScreenAppear</td>\n",
       "      <td>3737462046622621720</td>\n",
       "      <td>1564618135</td>\n",
       "      <td>246</td>\n",
       "      <td>2019-08-01 00:08:55</td>\n",
       "      <td>2019-08-01</td>\n",
       "    </tr>\n",
       "    <tr>\n",
       "      <th>2829</th>\n",
       "      <td>OffersScreenAppear</td>\n",
       "      <td>3737462046622621720</td>\n",
       "      <td>1564618138</td>\n",
       "      <td>246</td>\n",
       "      <td>2019-08-01 00:08:58</td>\n",
       "      <td>2019-08-01</td>\n",
       "    </tr>\n",
       "    <tr>\n",
       "      <th>2830</th>\n",
       "      <td>MainScreenAppear</td>\n",
       "      <td>1433840883824088890</td>\n",
       "      <td>1564618139</td>\n",
       "      <td>247</td>\n",
       "      <td>2019-08-01 00:08:59</td>\n",
       "      <td>2019-08-01</td>\n",
       "    </tr>\n",
       "    <tr>\n",
       "      <th>2831</th>\n",
       "      <td>MainScreenAppear</td>\n",
       "      <td>4899590676214355127</td>\n",
       "      <td>1564618215</td>\n",
       "      <td>247</td>\n",
       "      <td>2019-08-01 00:10:15</td>\n",
       "      <td>2019-08-01</td>\n",
       "    </tr>\n",
       "    <tr>\n",
       "      <th>...</th>\n",
       "      <td>...</td>\n",
       "      <td>...</td>\n",
       "      <td>...</td>\n",
       "      <td>...</td>\n",
       "      <td>...</td>\n",
       "      <td>...</td>\n",
       "    </tr>\n",
       "    <tr>\n",
       "      <th>243708</th>\n",
       "      <td>MainScreenAppear</td>\n",
       "      <td>4599628364049201812</td>\n",
       "      <td>1565212345</td>\n",
       "      <td>247</td>\n",
       "      <td>2019-08-07 21:12:25</td>\n",
       "      <td>2019-08-07</td>\n",
       "    </tr>\n",
       "    <tr>\n",
       "      <th>243709</th>\n",
       "      <td>MainScreenAppear</td>\n",
       "      <td>5849806612437486590</td>\n",
       "      <td>1565212439</td>\n",
       "      <td>246</td>\n",
       "      <td>2019-08-07 21:13:59</td>\n",
       "      <td>2019-08-07</td>\n",
       "    </tr>\n",
       "    <tr>\n",
       "      <th>243710</th>\n",
       "      <td>MainScreenAppear</td>\n",
       "      <td>5746969938801999050</td>\n",
       "      <td>1565212483</td>\n",
       "      <td>246</td>\n",
       "      <td>2019-08-07 21:14:43</td>\n",
       "      <td>2019-08-07</td>\n",
       "    </tr>\n",
       "    <tr>\n",
       "      <th>243711</th>\n",
       "      <td>MainScreenAppear</td>\n",
       "      <td>5746969938801999050</td>\n",
       "      <td>1565212498</td>\n",
       "      <td>246</td>\n",
       "      <td>2019-08-07 21:14:58</td>\n",
       "      <td>2019-08-07</td>\n",
       "    </tr>\n",
       "    <tr>\n",
       "      <th>243712</th>\n",
       "      <td>OffersScreenAppear</td>\n",
       "      <td>5746969938801999050</td>\n",
       "      <td>1565212517</td>\n",
       "      <td>246</td>\n",
       "      <td>2019-08-07 21:15:17</td>\n",
       "      <td>2019-08-07</td>\n",
       "    </tr>\n",
       "  </tbody>\n",
       "</table>\n",
       "<p>239882 rows × 6 columns</p>\n",
       "</div>"
      ],
      "text/plain": [
       "                event_name              user_id  event_time  group  \\\n",
       "2827      MainScreenAppear  3737462046622621720  1564618080    246   \n",
       "2828      MainScreenAppear  3737462046622621720  1564618135    246   \n",
       "2829    OffersScreenAppear  3737462046622621720  1564618138    246   \n",
       "2830      MainScreenAppear  1433840883824088890  1564618139    247   \n",
       "2831      MainScreenAppear  4899590676214355127  1564618215    247   \n",
       "...                    ...                  ...         ...    ...   \n",
       "243708    MainScreenAppear  4599628364049201812  1565212345    247   \n",
       "243709    MainScreenAppear  5849806612437486590  1565212439    246   \n",
       "243710    MainScreenAppear  5746969938801999050  1565212483    246   \n",
       "243711    MainScreenAppear  5746969938801999050  1565212498    246   \n",
       "243712  OffersScreenAppear  5746969938801999050  1565212517    246   \n",
       "\n",
       "                  datetime       date  \n",
       "2827   2019-08-01 00:08:00 2019-08-01  \n",
       "2828   2019-08-01 00:08:55 2019-08-01  \n",
       "2829   2019-08-01 00:08:58 2019-08-01  \n",
       "2830   2019-08-01 00:08:59 2019-08-01  \n",
       "2831   2019-08-01 00:10:15 2019-08-01  \n",
       "...                    ...        ...  \n",
       "243708 2019-08-07 21:12:25 2019-08-07  \n",
       "243709 2019-08-07 21:13:59 2019-08-07  \n",
       "243710 2019-08-07 21:14:43 2019-08-07  \n",
       "243711 2019-08-07 21:14:58 2019-08-07  \n",
       "243712 2019-08-07 21:15:17 2019-08-07  \n",
       "\n",
       "[239882 rows x 6 columns]"
      ]
     },
     "execution_count": 26,
     "metadata": {},
     "output_type": "execute_result"
    }
   ],
   "source": [
    "data_ = data_ [ data_ ['event_name'] != 'Tutorial' ]\n",
    "# проверим\n",
    "data_"
   ]
  },
  {
   "cell_type": "markdown",
   "id": "584fd601",
   "metadata": {},
   "source": [
    "4. По воронке событий посчитаем, какая доля пользователей проходит на следующий шаг воронки (от числа пользователей на предыдущем). То есть для последовательности событий A → B → C посчитаем отношение числа пользователей с событием B к количеству пользователей с событием A, а также отношение числа пользователей с событием C к количеству пользователей с событием B:"
   ]
  },
  {
   "cell_type": "code",
   "execution_count": 27,
   "id": "6e13eb6a",
   "metadata": {
    "scrolled": true
   },
   "outputs": [
    {
     "data": {
      "text/html": [
       "<style  type=\"text/css\" >\n",
       "</style><table id=\"T_9497a_\" ><thead>    <tr>        <th class=\"blank level0\" ></th>        <th class=\"col_heading level0 col0\" >event_name</th>        <th class=\"col_heading level0 col1\" >n_events</th>        <th class=\"col_heading level0 col2\" >users</th>        <th class=\"col_heading level0 col3\" >share</th>        <th class=\"col_heading level0 col4\" >previous_step</th>        <th class=\"col_heading level0 col5\" >step_share</th>        <th class=\"col_heading level0 col6\" >user_out_step</th>    </tr></thead><tbody>\n",
       "                <tr>\n",
       "                        <th id=\"T_9497a_level0_row0\" class=\"row_heading level0 row0\" >0</th>\n",
       "                        <td id=\"T_9497a_row0_col0\" class=\"data row0 col0\" >MainScreenAppear</td>\n",
       "                        <td id=\"T_9497a_row0_col1\" class=\"data row0 col1\" >117328</td>\n",
       "                        <td id=\"T_9497a_row0_col2\" class=\"data row0 col2\" >7419</td>\n",
       "                        <td id=\"T_9497a_row0_col3\" class=\"data row0 col3\" >98.5%</td>\n",
       "                        <td id=\"T_9497a_row0_col4\" class=\"data row0 col4\" >nan</td>\n",
       "                        <td id=\"T_9497a_row0_col5\" class=\"data row0 col5\" >nan%</td>\n",
       "                        <td id=\"T_9497a_row0_col6\" class=\"data row0 col6\" >100.0%</td>\n",
       "            </tr>\n",
       "            <tr>\n",
       "                        <th id=\"T_9497a_level0_row1\" class=\"row_heading level0 row1\" >1</th>\n",
       "                        <td id=\"T_9497a_row1_col0\" class=\"data row1 col0\" >OffersScreenAppear</td>\n",
       "                        <td id=\"T_9497a_row1_col1\" class=\"data row1 col1\" >46333</td>\n",
       "                        <td id=\"T_9497a_row1_col2\" class=\"data row1 col2\" >4593</td>\n",
       "                        <td id=\"T_9497a_row1_col3\" class=\"data row1 col3\" >61.0%</td>\n",
       "                        <td id=\"T_9497a_row1_col4\" class=\"data row1 col4\" >7419.000000</td>\n",
       "                        <td id=\"T_9497a_row1_col5\" class=\"data row1 col5\" >61.9%</td>\n",
       "                        <td id=\"T_9497a_row1_col6\" class=\"data row1 col6\" >61.9%</td>\n",
       "            </tr>\n",
       "            <tr>\n",
       "                        <th id=\"T_9497a_level0_row2\" class=\"row_heading level0 row2\" >2</th>\n",
       "                        <td id=\"T_9497a_row2_col0\" class=\"data row2 col0\" >CartScreenAppear</td>\n",
       "                        <td id=\"T_9497a_row2_col1\" class=\"data row2 col1\" >42303</td>\n",
       "                        <td id=\"T_9497a_row2_col2\" class=\"data row2 col2\" >3734</td>\n",
       "                        <td id=\"T_9497a_row2_col3\" class=\"data row2 col3\" >49.6%</td>\n",
       "                        <td id=\"T_9497a_row2_col4\" class=\"data row2 col4\" >4593.000000</td>\n",
       "                        <td id=\"T_9497a_row2_col5\" class=\"data row2 col5\" >81.3%</td>\n",
       "                        <td id=\"T_9497a_row2_col6\" class=\"data row2 col6\" >50.3%</td>\n",
       "            </tr>\n",
       "            <tr>\n",
       "                        <th id=\"T_9497a_level0_row3\" class=\"row_heading level0 row3\" >3</th>\n",
       "                        <td id=\"T_9497a_row3_col0\" class=\"data row3 col0\" >PaymentScreenSuccessful</td>\n",
       "                        <td id=\"T_9497a_row3_col1\" class=\"data row3 col1\" >33918</td>\n",
       "                        <td id=\"T_9497a_row3_col2\" class=\"data row3 col2\" >3539</td>\n",
       "                        <td id=\"T_9497a_row3_col3\" class=\"data row3 col3\" >47.0%</td>\n",
       "                        <td id=\"T_9497a_row3_col4\" class=\"data row3 col4\" >3734.000000</td>\n",
       "                        <td id=\"T_9497a_row3_col5\" class=\"data row3 col5\" >94.8%</td>\n",
       "                        <td id=\"T_9497a_row3_col6\" class=\"data row3 col6\" >47.7%</td>\n",
       "            </tr>\n",
       "    </tbody></table>"
      ],
      "text/plain": [
       "<pandas.io.formats.style.Styler at 0x7f849c0f0700>"
      ]
     },
     "execution_count": 27,
     "metadata": {},
     "output_type": "execute_result"
    }
   ],
   "source": [
    "funnel = data_.groupby('event_name').agg({'event_name':'count', 'user_id':'nunique'}).sort_values(by='user_id', ascending=False)\n",
    "funnel.columns = ['n_events', 'users']\n",
    "funnel['share'] = user_event['users'] / data_['user_id'].nunique()\n",
    "funnel['previous_step'] = funnel['users'].shift()\n",
    "funnel['step_share'] = round(funnel['users'] / funnel['previous_step'] * 100, 2).map('{0:.1f}%'.format)\n",
    "funnel['user_out_step'] = round(funnel['users'] / funnel['users'][0] * 100, 2).map('{0:.1f}%'.format)\n",
    "funnel.reset_index().style.format({'share':'{:.1%}'})"
   ]
  },
  {
   "cell_type": "markdown",
   "id": "892f5cda",
   "metadata": {},
   "source": [
    "По данным из воронки событий:\n",
    "\n",
    "- С главного экрана в каталог товаров перешло - 61.9% клиентов.\n",
    "- С каталога товаров в корзину перешло - 81.3% клиентов.\n",
    "- С корзины до экрана успешной оплаты перешло - 94.8% клиентов."
   ]
  },
  {
   "cell_type": "markdown",
   "id": "7a815c63",
   "metadata": {},
   "source": [
    "5. Узнаем на каком шаге теряем больше всего пользователей:"
   ]
  },
  {
   "cell_type": "markdown",
   "id": "5299ece2",
   "metadata": {},
   "source": [
    "Самые большие потери происходят при переходе с главного экрана в каталог товаров, теряется 38% пользователей."
   ]
  },
  {
   "cell_type": "markdown",
   "id": "ccdde2ef",
   "metadata": {},
   "source": [
    "6. Узнаем какая доля пользователей доходит от первого события до оплаты:"
   ]
  },
  {
   "cell_type": "markdown",
   "id": "839233ae",
   "metadata": {},
   "source": [
    "По столбцу **user_out_step** посчитаем отношение числа пользователей на каждом шаге к общему количеству пользователей. Получается 47,7% доля пользователей доходит от первого события до оплаты."
   ]
  },
  {
   "cell_type": "markdown",
   "id": "cd94d262",
   "metadata": {},
   "source": [
    "**Выводы по разделу:**\n",
    "\n",
    "Проанализировали нашу воронку и выявили, что путь пользователя состоит из 4х событий:\n",
    "\n",
    "- MainScreenAppear - появление главного экрана,\n",
    "- OffersScreenAppear - появление экрана приложений,\n",
    "- CartScreenAppear - появление экрана корзины,\n",
    "- PaymentScreenSuccessful - экран успешного прохождения опплаты\n",
    "\n",
    "Выяснили, что 98.5% пользователей попадают на главный экран это 7419 пользователей, 61% пользователей попадают на экран приложений это 4593 пользователей, 49.6% на экран корзины это 3734 пользователей, 47% на экран успешной оплаты это 3539 пользователей. Эти же события образуют последовательную цепочку движения пользователя по приложению.\n",
    "\n",
    "Самые большие потери у нас происходят при переходе с главного экрана к экрану приложений. Там же теряется около 38% пользователей.\n",
    "\n",
    "Узнали, что 47,7% доля пользователей доходит от первого события до оплаты.\n",
    "\n",
    "Событие Tutorial - руководство не несет полезной нагрузки, поэтому удалили это событие."
   ]
  },
  {
   "cell_type": "markdown",
   "id": "16f9163e",
   "metadata": {},
   "source": [
    "## Шаг 5. Изучим результаты эксперимента"
   ]
  },
  {
   "cell_type": "markdown",
   "id": "6cf18110",
   "metadata": {},
   "source": [
    "1. Узнаем сколько пользователей в каждой экспериментальной группе:\n",
    "\n",
    "Для A/A/B-теста пользователей разбили на 3 группы: 2 контрольные(246 и 247) со старыми шрифтами и одну экспериментальную(248) — с новыми."
   ]
  },
  {
   "cell_type": "code",
   "execution_count": 28,
   "id": "a10c2078",
   "metadata": {},
   "outputs": [
    {
     "data": {
      "text/html": [
       "<div>\n",
       "<style scoped>\n",
       "    .dataframe tbody tr th:only-of-type {\n",
       "        vertical-align: middle;\n",
       "    }\n",
       "\n",
       "    .dataframe tbody tr th {\n",
       "        vertical-align: top;\n",
       "    }\n",
       "\n",
       "    .dataframe thead th {\n",
       "        text-align: right;\n",
       "    }\n",
       "</style>\n",
       "<table border=\"1\" class=\"dataframe\">\n",
       "  <thead>\n",
       "    <tr style=\"text-align: right;\">\n",
       "      <th></th>\n",
       "      <th>user_id</th>\n",
       "    </tr>\n",
       "    <tr>\n",
       "      <th>group</th>\n",
       "      <th></th>\n",
       "    </tr>\n",
       "  </thead>\n",
       "  <tbody>\n",
       "    <tr>\n",
       "      <th>246</th>\n",
       "      <td>2483</td>\n",
       "    </tr>\n",
       "    <tr>\n",
       "      <th>247</th>\n",
       "      <td>2512</td>\n",
       "    </tr>\n",
       "    <tr>\n",
       "      <th>248</th>\n",
       "      <td>2535</td>\n",
       "    </tr>\n",
       "  </tbody>\n",
       "</table>\n",
       "</div>"
      ],
      "text/plain": [
       "       user_id\n",
       "group         \n",
       "246       2483\n",
       "247       2512\n",
       "248       2535"
      ]
     },
     "execution_count": 28,
     "metadata": {},
     "output_type": "execute_result"
    }
   ],
   "source": [
    "data_.groupby('group').agg({'user_id': 'nunique'})"
   ]
  },
  {
   "cell_type": "markdown",
   "id": "acc35a8d",
   "metadata": {},
   "source": [
    "2. Есть 2 контрольные группы для А/А-эксперимента, чтобы проверить корректность всех механизмов и расчётов. Проверим, находят ли статистические критерии разницу между выборками 246 и 247:"
   ]
  },
  {
   "cell_type": "markdown",
   "id": "0614a9d1",
   "metadata": {},
   "source": [
    "**Сформулируем гипотезы:**\n",
    "\n",
    "- Нулевая гипотеза H0: Различий в долях групп 246 и 247 нет;\n",
    "- Альтернативная гипотеза H1: Между долями есть значимая разница.\n",
    "\n",
    "Зададим критический уровень статистической значимости 0.05."
   ]
  },
  {
   "cell_type": "code",
   "execution_count": 29,
   "id": "7e81d1ac",
   "metadata": {},
   "outputs": [
    {
     "name": "stdout",
     "output_type": "stream",
     "text": [
      "p-значение: 1.0\n",
      "Не получилось отвергнуть нулевую гипотезу: Различий в долях групп 246 и 247 нет.\n"
     ]
    }
   ],
   "source": [
    "group_246 = data_.query('group == 246')\n",
    "ex_246 = data_.groupby('event_name').agg({'user_id':'nunique'}).reset_index().sort_values(by = 'user_id', ascending = False)\n",
    "\n",
    "trials_246 = ex_246.user_id[0]\n",
    "success_246 = ex_246.user_id[3]\n",
    " \n",
    "group_247 = data_.query('group == 247')\n",
    "ex_247 = data_.groupby('event_name').agg({'user_id':'nunique'}).reset_index().sort_values(by = 'user_id', ascending = False)\n",
    " \n",
    "trials_247 = ex_247.user_id[0]\n",
    "success_247 = ex_247.user_id[3]\n",
    "# критический уровень статистической значимости\n",
    "alpha = 0.05\n",
    "# пропорция успехов в группах\n",
    "p246 = success_246/trials_246\n",
    "p247 = success_247/trials_247\n",
    "# пропорция успехов в комбинированном датасете\n",
    "combined = (success_246 + success_247)/(trials_246 + trials_247)\n",
    "# Разница конверсий, пропорций в датасетах\n",
    "difference = p246 - p247\n",
    "# считаем статистику в ст.отклонениях стандартного нормального распределения\n",
    "value = difference / mth.sqrt(combined * (1 - combined) * (1/trials_246 + 1/trials_247))\n",
    "# задаем стандартное нормальное распределение (среднее 0, ст.отклонение 1)\n",
    "distr = st.norm(0, 1)\n",
    " \n",
    "p_value = (1 - distr.cdf(abs(value))) * 2\n",
    " \n",
    "print('p-значение:',p_value)\n",
    " \n",
    "if (p_value < alpha):\n",
    "    print(\"Отвергаем нулевую гипотезу: Между долями есть значимая разница\")\n",
    "else:\n",
    "    print(\"Не получилось отвергнуть нулевую гипотезу: Различий в долях групп 246 и 247 нет.\")"
   ]
  },
  {
   "cell_type": "markdown",
   "id": "cfa45e77",
   "metadata": {},
   "source": [
    "Проведённый нами тест не находит разницу между выборками 246 и 247."
   ]
  },
  {
   "cell_type": "markdown",
   "id": "54b732fe",
   "metadata": {},
   "source": [
    "3. Выберим самое популярное событие. Посчитаем число пользователей, совершивших это событие в каждой из контрольных групп. Посчитаем долю пользователей, совершивших это событие. Проверим, будет ли отличие между группами статистически достоверным. Проделаем то же самое для всех других событий (удобно обернуть проверку в отдельную функцию). Можно ли сказать, что разбиение на группы работает корректно?"
   ]
  },
  {
   "cell_type": "code",
   "execution_count": 30,
   "id": "70e59576",
   "metadata": {},
   "outputs": [
    {
     "data": {
      "text/html": [
       "<div>\n",
       "<style scoped>\n",
       "    .dataframe tbody tr th:only-of-type {\n",
       "        vertical-align: middle;\n",
       "    }\n",
       "\n",
       "    .dataframe tbody tr th {\n",
       "        vertical-align: top;\n",
       "    }\n",
       "\n",
       "    .dataframe thead th {\n",
       "        text-align: right;\n",
       "    }\n",
       "</style>\n",
       "<table border=\"1\" class=\"dataframe\">\n",
       "  <thead>\n",
       "    <tr style=\"text-align: right;\">\n",
       "      <th>group</th>\n",
       "      <th>246</th>\n",
       "      <th>247</th>\n",
       "      <th>248</th>\n",
       "      <th>sum_246_247</th>\n",
       "    </tr>\n",
       "    <tr>\n",
       "      <th>event_name</th>\n",
       "      <th></th>\n",
       "      <th></th>\n",
       "      <th></th>\n",
       "      <th></th>\n",
       "    </tr>\n",
       "  </thead>\n",
       "  <tbody>\n",
       "    <tr>\n",
       "      <th>MainScreenAppear</th>\n",
       "      <td>2450</td>\n",
       "      <td>2476</td>\n",
       "      <td>2493</td>\n",
       "      <td>4926</td>\n",
       "    </tr>\n",
       "    <tr>\n",
       "      <th>OffersScreenAppear</th>\n",
       "      <td>1542</td>\n",
       "      <td>1520</td>\n",
       "      <td>1531</td>\n",
       "      <td>3062</td>\n",
       "    </tr>\n",
       "    <tr>\n",
       "      <th>CartScreenAppear</th>\n",
       "      <td>1266</td>\n",
       "      <td>1238</td>\n",
       "      <td>1230</td>\n",
       "      <td>2504</td>\n",
       "    </tr>\n",
       "    <tr>\n",
       "      <th>PaymentScreenSuccessful</th>\n",
       "      <td>1200</td>\n",
       "      <td>1158</td>\n",
       "      <td>1181</td>\n",
       "      <td>2358</td>\n",
       "    </tr>\n",
       "  </tbody>\n",
       "</table>\n",
       "</div>"
      ],
      "text/plain": [
       "group                     246   247   248  sum_246_247\n",
       "event_name                                            \n",
       "MainScreenAppear         2450  2476  2493         4926\n",
       "OffersScreenAppear       1542  1520  1531         3062\n",
       "CartScreenAppear         1266  1238  1230         2504\n",
       "PaymentScreenSuccessful  1200  1158  1181         2358"
      ]
     },
     "execution_count": 30,
     "metadata": {},
     "output_type": "execute_result"
    }
   ],
   "source": [
    "popular = data_.pivot_table(index='event_name', columns='group',values='user_id',aggfunc='nunique')\\\n",
    "                       .sort_values(246,ascending=False)\n",
    "popular['sum_246_247'] = popular[246] + popular[247]\n",
    "popular"
   ]
  },
  {
   "cell_type": "markdown",
   "id": "bf8b2ede",
   "metadata": {},
   "source": [
    "Самое популярное событие - главный экран."
   ]
  },
  {
   "cell_type": "markdown",
   "id": "b953569d",
   "metadata": {},
   "source": [
    "Создадим функцию, считающую статистическую значимость между группами. Датафрейм будем обрабатывать внутри функции, группы будем передавать в виде списка.\n",
    "\n",
    "**Сформулируем гипотезы:**\n",
    "\n",
    "- Нулевая гипотеза H0: Различия между экспериментальными группами, совершившими указанное событие, статистически не значимы;\n",
    "- Альтернативная гипотеза H1: Различия между экспериментальными группами, совершившими указанное событие, статистически значимы.\n",
    "\n",
    "Зададим критический уровень статистической значимости 0.05."
   ]
  },
  {
   "cell_type": "code",
   "execution_count": 31,
   "id": "7a05a5c9",
   "metadata": {},
   "outputs": [],
   "source": [
    "def aab(df, group_ids, alpha):\n",
    "    # найдём уникальных пользователей в каждой группе\n",
    "    users = [df.query('group == @group_id')['user_id'].nunique() for group_id in group_ids]\n",
    "    # переберём все экспериментальные группы для каждого события, посчитаем количество пользователей и долю\n",
    "    for event in df.event_name.unique():\n",
    "        events = [df.query('group == %d and event_name == \"%s\"' % (group_id, event))['user_id'].nunique() for group_id in group_ids]\n",
    "        # сравним количество уникальных юзеров на каждом шаге группы к количеству уникальных юзеров в этой группе всего\n",
    "        p1 = events[0] / users[0] # посчитаем долю для 1 группы\n",
    "        p2 = events[1] / users[1] # посчитаем долю для 2 группы\n",
    "        \n",
    "        p_combined = sum(events) / sum(users) \n",
    "        \n",
    "        difference = p1 - p2 # посчитаем разницу в датасетах\n",
    "        \n",
    "        z_value = difference / mth.sqrt(\n",
    "            p_combined * (1 - p_combined) * (1 / users[0] + 1 / users[1]) # считаем z-value, которая покажет, насколько она далека от среднего значения точки данных\n",
    "        )\n",
    "        \n",
    "        distr = st.norm(0, 1) # распределение\n",
    "        p_value = (1 - distr.cdf(abs(z_value))) * 2 # считаем p-value\n",
    "        \n",
    "        print(event)\n",
    "        print(p1, p2)\n",
    "        print('p-значение: ', p_value)\n",
    "        # сравниваем p-value и alpha\n",
    "        if p_value < alpha:\n",
    "            print('Отвергаем нулевую гипотезу по событию %s: между долями есть значимая разница' % (event))\n",
    "        else:\n",
    "            print('Не получилось отвергнуть нулевую гипотезу по событию %s: нет оснований считать доли разными' % (event))\n",
    "            \n",
    "        print(' ')"
   ]
  },
  {
   "cell_type": "code",
   "execution_count": 32,
   "id": "ce2e92c0",
   "metadata": {},
   "outputs": [
    {
     "name": "stdout",
     "output_type": "stream",
     "text": [
      "MainScreenAppear\n",
      "0.9867096254530809 0.9856687898089171\n",
      "p-значение:  0.7526703436483038\n",
      "Не получилось отвергнуть нулевую гипотезу по событию MainScreenAppear: нет оснований считать доли разными\n",
      " \n",
      "OffersScreenAppear\n",
      "0.6210229561014902 0.6050955414012739\n",
      "p-значение:  0.24786096925282264\n",
      "Не получилось отвергнуть нулевую гипотезу по событию OffersScreenAppear: нет оснований считать доли разными\n",
      " \n",
      "CartScreenAppear\n",
      "0.5098670962545309 0.4928343949044586\n",
      "p-значение:  0.22867643757335676\n",
      "Не получилось отвергнуть нулевую гипотезу по событию CartScreenAppear: нет оснований считать доли разными\n",
      " \n",
      "PaymentScreenSuccessful\n",
      "0.4832863471606927 0.4609872611464968\n",
      "p-значение:  0.11446627829276612\n",
      "Не получилось отвергнуть нулевую гипотезу по событию PaymentScreenSuccessful: нет оснований считать доли разными\n",
      " \n"
     ]
    }
   ],
   "source": [
    "# посмотрим на события в 246 и 247 группах\n",
    "aab(data_, [246, 247], 0.05)"
   ]
  },
  {
   "cell_type": "markdown",
   "id": "06177ed5",
   "metadata": {},
   "source": [
    "Согласно проведенным тестам, различие между контрольными группа 246 и 247 статистически незначимо, поэтому можно сказать, что разбиение на группы работает корректно."
   ]
  },
  {
   "cell_type": "markdown",
   "id": "bce52f2e",
   "metadata": {},
   "source": [
    "4. Аналогично поступим с группой с изменённым шрифтом. Сравним результаты с каждой из контрольных групп в отдельности по каждому событию. Сравним результаты с объединённой контрольной группой:"
   ]
  },
  {
   "cell_type": "code",
   "execution_count": 33,
   "id": "71adc176",
   "metadata": {},
   "outputs": [
    {
     "name": "stdout",
     "output_type": "stream",
     "text": [
      "MainScreenAppear\n",
      "0.9867096254530809 0.9834319526627219\n",
      "p-значение:  0.3387114076159288\n",
      "Не получилось отвергнуть нулевую гипотезу по событию MainScreenAppear: нет оснований считать доли разными\n",
      " \n",
      "OffersScreenAppear\n",
      "0.6210229561014902 0.6039447731755424\n",
      "p-значение:  0.21442476639710506\n",
      "Не получилось отвергнуть нулевую гипотезу по событию OffersScreenAppear: нет оснований считать доли разными\n",
      " \n",
      "CartScreenAppear\n",
      "0.5098670962545309 0.48520710059171596\n",
      "p-значение:  0.08067367598823139\n",
      "Не получилось отвергнуть нулевую гипотезу по событию CartScreenAppear: нет оснований считать доли разными\n",
      " \n",
      "PaymentScreenSuccessful\n",
      "0.4832863471606927 0.4658777120315582\n",
      "p-значение:  0.21693033984516674\n",
      "Не получилось отвергнуть нулевую гипотезу по событию PaymentScreenSuccessful: нет оснований считать доли разными\n",
      " \n"
     ]
    }
   ],
   "source": [
    "# посмотрим на события в 246 и 248 группах\n",
    "aab(data_, [246, 248], 0.05)"
   ]
  },
  {
   "cell_type": "markdown",
   "id": "f1394fe7",
   "metadata": {},
   "source": [
    "Различия между экспериментальными группами 246 и 248, совершившими все события, статистически не значимы."
   ]
  },
  {
   "cell_type": "code",
   "execution_count": 34,
   "id": "2c309532",
   "metadata": {
    "scrolled": true
   },
   "outputs": [
    {
     "name": "stdout",
     "output_type": "stream",
     "text": [
      "MainScreenAppear\n",
      "0.9856687898089171 0.9834319526627219\n",
      "p-значение:  0.5194964354051703\n",
      "Не получилось отвергнуть нулевую гипотезу по событию MainScreenAppear: нет оснований считать доли разными\n",
      " \n",
      "OffersScreenAppear\n",
      "0.6050955414012739 0.6039447731755424\n",
      "p-значение:  0.9333751305879443\n",
      "Не получилось отвергнуть нулевую гипотезу по событию OffersScreenAppear: нет оснований считать доли разными\n",
      " \n",
      "CartScreenAppear\n",
      "0.4928343949044586 0.48520710059171596\n",
      "p-значение:  0.5878284605111943\n",
      "Не получилось отвергнуть нулевую гипотезу по событию CartScreenAppear: нет оснований считать доли разными\n",
      " \n",
      "PaymentScreenSuccessful\n",
      "0.4609872611464968 0.4658777120315582\n",
      "p-значение:  0.7275718682261119\n",
      "Не получилось отвергнуть нулевую гипотезу по событию PaymentScreenSuccessful: нет оснований считать доли разными\n",
      " \n"
     ]
    }
   ],
   "source": [
    "# посмотрим на события в 247 и 248 группах\n",
    "aab(data_, [247, 248], 0.05)"
   ]
  },
  {
   "cell_type": "markdown",
   "id": "044dc811",
   "metadata": {},
   "source": [
    "Различия между экспериментальными группами 247 и 248, совершившими все события, статистически не значимы."
   ]
  },
  {
   "cell_type": "code",
   "execution_count": 35,
   "id": "94ead850",
   "metadata": {
    "scrolled": true
   },
   "outputs": [
    {
     "data": {
      "text/plain": [
       "246    155669\n",
       "248     84213\n",
       "Name: group, dtype: int64"
      ]
     },
     "execution_count": 35,
     "metadata": {},
     "output_type": "execute_result"
    }
   ],
   "source": [
    "# объединим две контрольные группы в одну\n",
    "united = data_.copy()\n",
    "united['group'].replace({247: 246}, inplace=True)\n",
    "united['group'].value_counts()"
   ]
  },
  {
   "cell_type": "code",
   "execution_count": 36,
   "id": "332d417b",
   "metadata": {
    "scrolled": true
   },
   "outputs": [
    {
     "name": "stdout",
     "output_type": "stream",
     "text": [
      "MainScreenAppear\n",
      "0.9861861861861861 0.9834319526627219\n",
      "p-значение:  0.3486684291093256\n",
      "Не получилось отвергнуть нулевую гипотезу по событию MainScreenAppear: нет оснований считать доли разными\n",
      " \n",
      "OffersScreenAppear\n",
      "0.613013013013013 0.6039447731755424\n",
      "p-значение:  0.44582745409482394\n",
      "Не получилось отвергнуть нулевую гипотезу по событию OffersScreenAppear: нет оснований считать доли разными\n",
      " \n",
      "CartScreenAppear\n",
      "0.5013013013013013 0.48520710059171596\n",
      "p-значение:  0.18683558686831558\n",
      "Не получилось отвергнуть нулевую гипотезу по событию CartScreenAppear: нет оснований считать доли разными\n",
      " \n",
      "PaymentScreenSuccessful\n",
      "0.4720720720720721 0.4658777120315582\n",
      "p-значение:  0.6107918742187335\n",
      "Не получилось отвергнуть нулевую гипотезу по событию PaymentScreenSuccessful: нет оснований считать доли разными\n",
      " \n"
     ]
    }
   ],
   "source": [
    "# посмотрим на результаты с объединённой контрольной группой.\n",
    "aab(united, [246, 248], 0.05)"
   ]
  },
  {
   "cell_type": "markdown",
   "id": "ab715c04",
   "metadata": {},
   "source": [
    "Различия между объединенными контрольными группами 246,247 и группой 248, совершившими все события, статистически не значимы. Таким образом можно сказать, что изменение шрифтов во всем приложении не повлияло на воронку продаж, и пользователи переходят от шага к шагу в одинаковых пропорциях, независимо от шрифта приложения."
   ]
  },
  {
   "cell_type": "markdown",
   "id": "3789a56d",
   "metadata": {},
   "source": [
    "5. Какой уровень значимости вы выбрали при проверке статистических гипотез выше? Посчитайте, сколько проверок статистических гипотез вы сделали. При уровне значимости 0.1 каждый десятый раз можно получать ложный результат. Какой уровень значимости стоит применить? Если вы хотите изменить его, проделайте предыдущие пункты и проверьте свои выводы."
   ]
  },
  {
   "cell_type": "markdown",
   "id": "c9e6b4eb",
   "metadata": {},
   "source": [
    "Уровень значимости везде был равен 5% (0.05). Всего было проведено 16 статистических тестов. Несмотря на то, что тесты были множественные, т.е. проводились несколько раз на одних и тех же данных, использовать методы корректировки уровня значимости нецелесообразно. В нашем случае при статистическом уровне значимости в 5% нулевые гипотезы не отвергаются, следовательно при уменьшении уровня значимости они не отвергались бы тем более."
   ]
  },
  {
   "cell_type": "markdown",
   "id": "83a76c62",
   "metadata": {},
   "source": [
    "**Вывод по разделу:**\n",
    "\n",
    "Проведенный тест не обнаружил статистически значимых различий между выборками 246 и 247. Самое популярное событие - главный экран. Разбиение на группы работает корректно. Изменение шрифтов в приложении не повлияло на воронку продаж, пользователи переходят от шага к шагу в одинаковых пропорциях. Было проведено 16 статистических тестов с уровнем значимости 5%, нулевые гипотезы не отвергаются. Корректировка уровня значимости не требуется."
   ]
  },
  {
   "cell_type": "markdown",
   "id": "07eefa83",
   "metadata": {},
   "source": [
    "## Общий вывод:"
   ]
  },
  {
   "cell_type": "markdown",
   "id": "48b9a656",
   "metadata": {},
   "source": [
    "В ходе работы была проведена подготовка и проверка данных о работе мобильного приложения-магазина. Узнали, что по общему количеству 243713 событий в логе и 7551 пользователей в логе. На одного пользователя в среднем приходится 20 событий. Данные в логе содержатся за 13 дней. Узнали, что основное ĸоличество событий произошло в период с 1 августа по 7 августа. Поэтому данные до 01 августа были удалены(около 1%), это не повлияло на наши результаты. Узнали какие события есть в логе их 5. При изучении воронки событий узнали, что самое частое событие это MainScreenAppear - появление главного экрана - 117328 раз. И что событие Tutorial самое малочисленное, т.е. большинство пользователей его игнорируют. Возможно, что пользователи просто предпочитают его пропустить в надежде, что интерфейс приложения окажется максимально понятным. Соотвественно это событие выбивается из цепочки - удалили его. От первого события(главный экран) до последнего (успешная оплата) доходит 47.7% пользователей. Самые большие потери происходят при переходе с главного экрана в каталог товаров, теряется 38% пользователей. Необходимо было исследовать и проанализировать конверсию пользователей в приложении и изучить результаты А/А/В-теста, в котором 2 контрольние группы видели версию приложения со старыми шрифтами, а экспериментальная с новыми. В результате всех и каждого A/A/B эксперемента значимой разницы между группами не выявлено. Поэтому можно утверждать, что на поведение пользователей изменение шрифта значимого эффекта не оказало. Тестирование можно назвать успешным - **изменение шрифта не повлияло на поведение пользователей**."
   ]
  }
 ],
 "metadata": {
  "ExecuteTimeLog": [
   {
    "duration": 1614,
    "start_time": "2023-04-30T19:59:35.431Z"
   },
   {
    "duration": 539,
    "start_time": "2023-04-30T19:59:37.047Z"
   },
   {
    "duration": 18,
    "start_time": "2023-04-30T19:59:37.588Z"
   },
   {
    "duration": 22,
    "start_time": "2023-04-30T19:59:37.608Z"
   },
   {
    "duration": 59,
    "start_time": "2023-04-30T19:59:37.632Z"
   },
   {
    "duration": 12,
    "start_time": "2023-04-30T19:59:37.693Z"
   },
   {
    "duration": 99,
    "start_time": "2023-04-30T19:59:37.707Z"
   },
   {
    "duration": 145,
    "start_time": "2023-04-30T19:59:37.808Z"
   },
   {
    "duration": 97,
    "start_time": "2023-04-30T19:59:37.955Z"
   },
   {
    "duration": 29,
    "start_time": "2023-04-30T19:59:38.054Z"
   },
   {
    "duration": 91,
    "start_time": "2023-04-30T19:59:38.085Z"
   },
   {
    "duration": 29,
    "start_time": "2023-04-30T19:59:38.178Z"
   },
   {
    "duration": 19,
    "start_time": "2023-04-30T19:59:38.209Z"
   },
   {
    "duration": 20,
    "start_time": "2023-04-30T19:59:38.231Z"
   },
   {
    "duration": 10,
    "start_time": "2023-04-30T19:59:38.253Z"
   },
   {
    "duration": 329,
    "start_time": "2023-04-30T19:59:38.265Z"
   },
   {
    "duration": 26,
    "start_time": "2023-04-30T19:59:38.596Z"
   },
   {
    "duration": 31,
    "start_time": "2023-04-30T19:59:38.623Z"
   },
   {
    "duration": 11,
    "start_time": "2023-04-30T19:59:38.656Z"
   },
   {
    "duration": 73,
    "start_time": "2023-04-30T19:59:38.669Z"
   },
   {
    "duration": 41,
    "start_time": "2023-04-30T19:59:38.744Z"
   },
   {
    "duration": 79,
    "start_time": "2023-04-30T19:59:38.787Z"
   },
   {
    "duration": 123,
    "start_time": "2023-04-30T19:59:38.868Z"
   },
   {
    "duration": 34,
    "start_time": "2023-04-30T19:59:38.993Z"
   },
   {
    "duration": 206,
    "start_time": "2023-04-30T19:59:39.029Z"
   },
   {
    "duration": 0,
    "start_time": "2023-04-30T19:59:39.240Z"
   },
   {
    "duration": 0,
    "start_time": "2023-04-30T19:59:39.242Z"
   },
   {
    "duration": 0,
    "start_time": "2023-04-30T19:59:39.243Z"
   },
   {
    "duration": 0,
    "start_time": "2023-04-30T19:59:39.244Z"
   },
   {
    "duration": 0,
    "start_time": "2023-04-30T19:59:39.245Z"
   },
   {
    "duration": 0,
    "start_time": "2023-04-30T19:59:39.246Z"
   },
   {
    "duration": 0,
    "start_time": "2023-04-30T19:59:39.247Z"
   },
   {
    "duration": 0,
    "start_time": "2023-04-30T19:59:39.248Z"
   },
   {
    "duration": 0,
    "start_time": "2023-04-30T19:59:39.250Z"
   },
   {
    "duration": 41,
    "start_time": "2023-04-30T20:06:07.750Z"
   },
   {
    "duration": 39,
    "start_time": "2023-04-30T20:06:11.490Z"
   },
   {
    "duration": 141,
    "start_time": "2023-04-30T20:06:11.532Z"
   },
   {
    "duration": 106,
    "start_time": "2023-04-30T20:06:11.675Z"
   },
   {
    "duration": 7,
    "start_time": "2023-04-30T20:06:11.783Z"
   },
   {
    "duration": 181,
    "start_time": "2023-04-30T20:06:11.792Z"
   },
   {
    "duration": 152,
    "start_time": "2023-04-30T20:06:11.976Z"
   },
   {
    "duration": 19,
    "start_time": "2023-04-30T20:06:12.130Z"
   },
   {
    "duration": 0,
    "start_time": "2023-04-30T20:06:12.151Z"
   },
   {
    "duration": 0,
    "start_time": "2023-04-30T20:06:12.152Z"
   },
   {
    "duration": 22,
    "start_time": "2023-04-30T20:18:57.703Z"
   },
   {
    "duration": 226,
    "start_time": "2023-04-30T20:19:53.794Z"
   },
   {
    "duration": 19,
    "start_time": "2023-04-30T20:19:59.156Z"
   },
   {
    "duration": 190,
    "start_time": "2023-04-30T20:19:59.178Z"
   },
   {
    "duration": 1070,
    "start_time": "2023-05-01T20:20:28.395Z"
   },
   {
    "duration": 202,
    "start_time": "2023-05-01T20:20:29.467Z"
   },
   {
    "duration": 13,
    "start_time": "2023-05-01T20:20:29.670Z"
   },
   {
    "duration": 18,
    "start_time": "2023-05-01T20:20:29.685Z"
   },
   {
    "duration": 63,
    "start_time": "2023-05-01T20:20:29.705Z"
   },
   {
    "duration": 8,
    "start_time": "2023-05-01T20:20:29.770Z"
   },
   {
    "duration": 76,
    "start_time": "2023-05-01T20:20:29.779Z"
   },
   {
    "duration": 107,
    "start_time": "2023-05-01T20:20:29.857Z"
   },
   {
    "duration": 85,
    "start_time": "2023-05-01T20:20:29.965Z"
   },
   {
    "duration": 26,
    "start_time": "2023-05-01T20:20:30.053Z"
   },
   {
    "duration": 82,
    "start_time": "2023-05-01T20:20:30.080Z"
   },
   {
    "duration": 28,
    "start_time": "2023-05-01T20:20:30.164Z"
   },
   {
    "duration": 9,
    "start_time": "2023-05-01T20:20:30.193Z"
   },
   {
    "duration": 46,
    "start_time": "2023-05-01T20:20:30.203Z"
   },
   {
    "duration": 19,
    "start_time": "2023-05-01T20:20:30.251Z"
   },
   {
    "duration": 21,
    "start_time": "2023-05-01T20:20:30.272Z"
   },
   {
    "duration": 9,
    "start_time": "2023-05-01T20:20:30.295Z"
   },
   {
    "duration": 284,
    "start_time": "2023-05-01T20:20:30.306Z"
   },
   {
    "duration": 23,
    "start_time": "2023-05-01T20:20:30.592Z"
   },
   {
    "duration": 41,
    "start_time": "2023-05-01T20:20:30.616Z"
   },
   {
    "duration": 48,
    "start_time": "2023-05-01T20:20:30.659Z"
   },
   {
    "duration": 69,
    "start_time": "2023-05-01T20:20:30.709Z"
   },
   {
    "duration": 48,
    "start_time": "2023-05-01T20:20:30.779Z"
   },
   {
    "duration": 60,
    "start_time": "2023-05-01T20:20:30.829Z"
   },
   {
    "duration": 104,
    "start_time": "2023-05-01T20:20:30.890Z"
   },
   {
    "duration": 40,
    "start_time": "2023-05-01T20:20:30.995Z"
   },
   {
    "duration": 71,
    "start_time": "2023-05-01T20:20:31.037Z"
   },
   {
    "duration": 43,
    "start_time": "2023-05-01T20:20:31.111Z"
   },
   {
    "duration": 123,
    "start_time": "2023-05-01T20:20:31.156Z"
   },
   {
    "duration": 82,
    "start_time": "2023-05-01T20:20:31.281Z"
   },
   {
    "duration": 5,
    "start_time": "2023-05-01T20:20:31.365Z"
   },
   {
    "duration": 132,
    "start_time": "2023-05-01T20:20:31.372Z"
   },
   {
    "duration": 121,
    "start_time": "2023-05-01T20:20:31.505Z"
   },
   {
    "duration": 109,
    "start_time": "2023-05-01T20:20:31.634Z"
   },
   {
    "duration": 13,
    "start_time": "2023-05-01T20:20:31.744Z"
   },
   {
    "duration": 132,
    "start_time": "2023-05-01T20:20:31.759Z"
   }
  ],
  "kernelspec": {
   "display_name": "Python 3 (ipykernel)",
   "language": "python",
   "name": "python3"
  },
  "language_info": {
   "codemirror_mode": {
    "name": "ipython",
    "version": 3
   },
   "file_extension": ".py",
   "mimetype": "text/x-python",
   "name": "python",
   "nbconvert_exporter": "python",
   "pygments_lexer": "ipython3",
   "version": "3.9.13"
  },
  "toc": {
   "base_numbering": 1,
   "nav_menu": {},
   "number_sections": true,
   "sideBar": true,
   "skip_h1_title": true,
   "title_cell": "Table of Contents",
   "title_sidebar": "Contents",
   "toc_cell": false,
   "toc_position": {},
   "toc_section_display": true,
   "toc_window_display": false
  }
 },
 "nbformat": 4,
 "nbformat_minor": 5
}
