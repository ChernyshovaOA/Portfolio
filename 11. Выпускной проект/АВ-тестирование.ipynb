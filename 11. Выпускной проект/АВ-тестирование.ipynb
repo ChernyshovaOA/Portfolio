{
 "cells": [
  {
   "cell_type": "markdown",
   "id": "7c2caf55",
   "metadata": {},
   "source": [
    "# Проектная работа: A/B-тестирование"
   ]
  },
  {
   "cell_type": "markdown",
   "id": "f83f41ad",
   "metadata": {},
   "source": [
    "### Задача:\n",
    "\n",
    "Провести оценку результатов A/B-теста. \n",
    "\n",
    "В нашем распоряжении есть датасет с действиями пользователей, техническое задание и несколько вспомогательных датасетов.\n",
    "Необходимо оценить корректность проведения теста и проанализировать его результаты."
   ]
  },
  {
   "cell_type": "markdown",
   "id": "bb9a834f",
   "metadata": {},
   "source": [
    "### Техническое задание\n",
    "\n",
    "- Название теста: `recommender_system_test`;\n",
    "- группы: А — контрольная, B — новая платёжная воронка;\n",
    "- дата запуска: 2020-12-07;\n",
    "- дата остановки набора новых пользователей: 2020-12-21;\n",
    "- дата остановки: 2021-01-04;\n",
    "- аудитория: в тест должно быть отобрано 15% новых пользователей из региона EU;\n",
    "- назначение теста: тестирование изменений, связанных с внедрением улучшенной рекомендательной системы;\n",
    "- ожидаемое количество участников теста: 6000.\n",
    "- ожидаемый эффект: за 14 дней с момента регистрации пользователи покажут улучшение каждой метрики не менее, чем на 10%:\n",
    "    - конверсии в просмотр карточек товаров — событие `product_page`,\n",
    "    - просмотры корзины — `product_cart`,\n",
    "    - покупки — `purchase`."
   ]
  },
  {
   "cell_type": "markdown",
   "id": "40d47a1c",
   "metadata": {},
   "source": [
    "### Описание данных\n",
    "\n",
    "1. `ab_project_marketing_events.csv` — календарь маркетинговых событий на 2020 год.\n",
    "\n",
    "Структура файла:\n",
    "\n",
    "- `name` — название маркетингового события;\n",
    "- `regions` — регионы, в которых будет проводиться рекламная кампания;\n",
    "- `start_dt` — дата начала кампании;\n",
    "- `finish_dt` — дата завершения кампании.\n",
    "\n",
    "2. `final_ab_new_users.csv` — пользователи, зарегистрировавшиеся с 7 до 21 декабря 2020 года.\n",
    "\n",
    "Структура файла:\n",
    "\n",
    "- `user_id` — идентификатор пользователя;\n",
    "- `first_date` — дата регистрации;\n",
    "- `region` — регион пользователя;\n",
    "- `device` — устройство, с которого происходила регистрация.\n",
    "\n",
    "3. `final_ab_events.csv` — действия новых пользователей в период с 7 декабря 2020 по 4 января 2021 года.\n",
    "\n",
    "Структура файла:\n",
    "\n",
    "- `user_id` — идентификатор пользователя;\n",
    "- `event_dt` — дата и время события;\n",
    "- `event_name` — тип события;\n",
    "- `details` — дополнительные данные о событии. Например, для покупок, `purchase,` в этом поле хранится стоимость покупки в долларах.\n",
    "\n",
    "4. `final_ab_participants.csv` — таблица участников тестов.\n",
    "\n",
    "Структура файла:\n",
    "\n",
    "- `user_id` — идентификатор пользователя;\n",
    "- `ab_test` — название теста;\n",
    "- `group` — группа пользователя."
   ]
  },
  {
   "cell_type": "markdown",
   "id": "a32ceb71",
   "metadata": {},
   "source": [
    "### Инструкция:\n",
    "\n",
    "1. Загрузка данных, просмотр и изучение\n",
    "2. Предобработка данных\n",
    "3. Оценка соответствия теста техническому заданию\n",
    "4. Исследовательский анализ данных\n",
    "5. Исследование конверсии в воронке на разных этапах\n",
    "6. A/B-тестирование\n",
    "7. Общий вывод"
   ]
  },
  {
   "cell_type": "markdown",
   "id": "da6e16ab",
   "metadata": {},
   "source": [
    "## 1. Загрузка данных, просмотр и изучение"
   ]
  },
  {
   "cell_type": "code",
   "execution_count": 48,
   "id": "785c81b9",
   "metadata": {},
   "outputs": [],
   "source": [
    "# загружаем необходимые библиотеки\n",
    "import pandas as pd                                         # для анализа данных\n",
    "import numpy as np                                          # для математических вычислений\n",
    "import math as mth                                          # для математических вычислений\n",
    "\n",
    "import seaborn as sns                                       # для визуализации данных\n",
    "import matplotlib.pyplot as plt                             # для визуализации\n",
    "from plotly import graph_objects as go                      # для визуализации\n",
    "\n",
    "import datetime as dt                                       # для преобразования к типу данных 'дата'\n",
    "from datetime import timedelta\n",
    "\n",
    "from scipy import stats as st                               # для высокоуровневых математических вычислений \n",
    "from statsmodels.stats.proportion import proportions_ztest  # статистика пропорции z-тест, метод статистической проверки гипотез\n",
    "\n",
    "import warnings                                             # для предупреждений в программе \n",
    "warnings.filterwarnings('ignore')                           # фильтр предупреждений"
   ]
  },
  {
   "cell_type": "code",
   "execution_count": 49,
   "id": "cd31205e",
   "metadata": {},
   "outputs": [],
   "source": [
    "# загружаем данные\n",
    "try:\n",
    "    calendar, users, actions, participants = (\n",
    "    pd.read_csv('/datasets/ab_project_marketing_events.csv'),  # календарь маркетинговых событий на 2020 год\n",
    "    pd.read_csv('/datasets/final_ab_new_users.csv'),           # пользователи, зарегистрировавшиеся с 7 до 21 декабря 2020 года\n",
    "    pd.read_csv('/datasets/final_ab_events.csv'),              # действия новых пользователей в период с 7 декабря 2020 по 4 января 2021 года\n",
    "    pd.read_csv('/datasets/final_ab_participants.csv')         # таблица участников тестов\n",
    ")\n",
    "except:\n",
    "    calendar, users, actions, participants = (\n",
    "    pd.read_csv('C:/py/Дипломный проект/AB-тестирование/ab_project_marketing_events.csv'),  # календарь маркетинговых событий на 2020 год\n",
    "    pd.read_csv('C:/py/Дипломный проект/AB-тестирование/final_ab_new_users.csv'),           # пользователи, зарегистрировавшиеся с 7 до 21 декабря 2020 года\n",
    "    pd.read_csv('C:/py/Дипломный проект/AB-тестирование/final_ab_events.csv'),              # действия новых пользователей в период с 7 декабря 2020 по 4 января 2021 года\n",
    "    pd.read_csv('C:/py/Дипломный проект/AB-тестирование/final_ab_participants.csv')         # таблица участников тестов\n",
    ")"
   ]
  },
  {
   "cell_type": "code",
   "execution_count": 50,
   "id": "f1582363",
   "metadata": {},
   "outputs": [],
   "source": [
    "# создадим функцию для первичного анализа данных датафрема с календарем маркетинговых событий на 2020 год, посмотрим распределение численных значений,\n",
    "# приведём названия к нижнему регистру, проверим на дубликаты и пропуски\n",
    "def information(calendar):\n",
    "    calendar.info()\n",
    "    column=calendar.describe().columns\n",
    "    display(calendar.describe())\n",
    "    for index in calendar.columns:\n",
    "        if index not in column:\n",
    "            calendar[index] = calendar[index].str.lower()\n",
    "    print ('Количество явных дубликатов -', calendar.duplicated().sum())\n",
    "    print ('Количество пропусков -', calendar.isna().sum())\n",
    "    return calendar"
   ]
  },
  {
   "cell_type": "code",
   "execution_count": 51,
   "id": "d8fb39f3",
   "metadata": {},
   "outputs": [
    {
     "name": "stdout",
     "output_type": "stream",
     "text": [
      "<class 'pandas.core.frame.DataFrame'>\n",
      "RangeIndex: 14 entries, 0 to 13\n",
      "Data columns (total 4 columns):\n",
      " #   Column     Non-Null Count  Dtype \n",
      "---  ------     --------------  ----- \n",
      " 0   name       14 non-null     object\n",
      " 1   regions    14 non-null     object\n",
      " 2   start_dt   14 non-null     object\n",
      " 3   finish_dt  14 non-null     object\n",
      "dtypes: object(4)\n",
      "memory usage: 576.0+ bytes\n"
     ]
    },
    {
     "data": {
      "text/html": [
       "<div>\n",
       "<style scoped>\n",
       "    .dataframe tbody tr th:only-of-type {\n",
       "        vertical-align: middle;\n",
       "    }\n",
       "\n",
       "    .dataframe tbody tr th {\n",
       "        vertical-align: top;\n",
       "    }\n",
       "\n",
       "    .dataframe thead th {\n",
       "        text-align: right;\n",
       "    }\n",
       "</style>\n",
       "<table border=\"1\" class=\"dataframe\">\n",
       "  <thead>\n",
       "    <tr style=\"text-align: right;\">\n",
       "      <th></th>\n",
       "      <th>name</th>\n",
       "      <th>regions</th>\n",
       "      <th>start_dt</th>\n",
       "      <th>finish_dt</th>\n",
       "    </tr>\n",
       "  </thead>\n",
       "  <tbody>\n",
       "    <tr>\n",
       "      <th>count</th>\n",
       "      <td>14</td>\n",
       "      <td>14</td>\n",
       "      <td>14</td>\n",
       "      <td>14</td>\n",
       "    </tr>\n",
       "    <tr>\n",
       "      <th>unique</th>\n",
       "      <td>14</td>\n",
       "      <td>6</td>\n",
       "      <td>14</td>\n",
       "      <td>14</td>\n",
       "    </tr>\n",
       "    <tr>\n",
       "      <th>top</th>\n",
       "      <td>Christmas&amp;New Year Promo</td>\n",
       "      <td>APAC</td>\n",
       "      <td>2020-12-25</td>\n",
       "      <td>2021-01-03</td>\n",
       "    </tr>\n",
       "    <tr>\n",
       "      <th>freq</th>\n",
       "      <td>1</td>\n",
       "      <td>4</td>\n",
       "      <td>1</td>\n",
       "      <td>1</td>\n",
       "    </tr>\n",
       "  </tbody>\n",
       "</table>\n",
       "</div>"
      ],
      "text/plain": [
       "                            name regions    start_dt   finish_dt\n",
       "count                         14      14          14          14\n",
       "unique                        14       6          14          14\n",
       "top     Christmas&New Year Promo    APAC  2020-12-25  2021-01-03\n",
       "freq                           1       4           1           1"
      ]
     },
     "metadata": {},
     "output_type": "display_data"
    },
    {
     "name": "stdout",
     "output_type": "stream",
     "text": [
      "Количество явных дубликатов - 0\n",
      "Количество пропусков - name         0\n",
      "regions      0\n",
      "start_dt     0\n",
      "finish_dt    0\n",
      "dtype: int64\n"
     ]
    },
    {
     "data": {
      "text/html": [
       "<div>\n",
       "<style scoped>\n",
       "    .dataframe tbody tr th:only-of-type {\n",
       "        vertical-align: middle;\n",
       "    }\n",
       "\n",
       "    .dataframe tbody tr th {\n",
       "        vertical-align: top;\n",
       "    }\n",
       "\n",
       "    .dataframe thead th {\n",
       "        text-align: right;\n",
       "    }\n",
       "</style>\n",
       "<table border=\"1\" class=\"dataframe\">\n",
       "  <thead>\n",
       "    <tr style=\"text-align: right;\">\n",
       "      <th></th>\n",
       "      <th>name</th>\n",
       "      <th>regions</th>\n",
       "      <th>start_dt</th>\n",
       "      <th>finish_dt</th>\n",
       "    </tr>\n",
       "  </thead>\n",
       "  <tbody>\n",
       "    <tr>\n",
       "      <th>0</th>\n",
       "      <td>Christmas&amp;New Year Promo</td>\n",
       "      <td>EU, N.America</td>\n",
       "      <td>2020-12-25</td>\n",
       "      <td>2021-01-03</td>\n",
       "    </tr>\n",
       "    <tr>\n",
       "      <th>1</th>\n",
       "      <td>St. Valentine's Day Giveaway</td>\n",
       "      <td>EU, CIS, APAC, N.America</td>\n",
       "      <td>2020-02-14</td>\n",
       "      <td>2020-02-16</td>\n",
       "    </tr>\n",
       "    <tr>\n",
       "      <th>2</th>\n",
       "      <td>St. Patric's Day Promo</td>\n",
       "      <td>EU, N.America</td>\n",
       "      <td>2020-03-17</td>\n",
       "      <td>2020-03-19</td>\n",
       "    </tr>\n",
       "    <tr>\n",
       "      <th>3</th>\n",
       "      <td>Easter Promo</td>\n",
       "      <td>EU, CIS, APAC, N.America</td>\n",
       "      <td>2020-04-12</td>\n",
       "      <td>2020-04-19</td>\n",
       "    </tr>\n",
       "    <tr>\n",
       "      <th>4</th>\n",
       "      <td>4th of July Promo</td>\n",
       "      <td>N.America</td>\n",
       "      <td>2020-07-04</td>\n",
       "      <td>2020-07-11</td>\n",
       "    </tr>\n",
       "    <tr>\n",
       "      <th>5</th>\n",
       "      <td>Black Friday Ads Campaign</td>\n",
       "      <td>EU, CIS, APAC, N.America</td>\n",
       "      <td>2020-11-26</td>\n",
       "      <td>2020-12-01</td>\n",
       "    </tr>\n",
       "    <tr>\n",
       "      <th>6</th>\n",
       "      <td>Chinese New Year Promo</td>\n",
       "      <td>APAC</td>\n",
       "      <td>2020-01-25</td>\n",
       "      <td>2020-02-07</td>\n",
       "    </tr>\n",
       "    <tr>\n",
       "      <th>7</th>\n",
       "      <td>Labor day (May 1st) Ads Campaign</td>\n",
       "      <td>EU, CIS, APAC</td>\n",
       "      <td>2020-05-01</td>\n",
       "      <td>2020-05-03</td>\n",
       "    </tr>\n",
       "    <tr>\n",
       "      <th>8</th>\n",
       "      <td>International Women's Day Promo</td>\n",
       "      <td>EU, CIS, APAC</td>\n",
       "      <td>2020-03-08</td>\n",
       "      <td>2020-03-10</td>\n",
       "    </tr>\n",
       "    <tr>\n",
       "      <th>9</th>\n",
       "      <td>Victory Day CIS (May 9th) Event</td>\n",
       "      <td>CIS</td>\n",
       "      <td>2020-05-09</td>\n",
       "      <td>2020-05-11</td>\n",
       "    </tr>\n",
       "    <tr>\n",
       "      <th>10</th>\n",
       "      <td>CIS New Year Gift Lottery</td>\n",
       "      <td>CIS</td>\n",
       "      <td>2020-12-30</td>\n",
       "      <td>2021-01-07</td>\n",
       "    </tr>\n",
       "    <tr>\n",
       "      <th>11</th>\n",
       "      <td>Dragon Boat Festival Giveaway</td>\n",
       "      <td>APAC</td>\n",
       "      <td>2020-06-25</td>\n",
       "      <td>2020-07-01</td>\n",
       "    </tr>\n",
       "    <tr>\n",
       "      <th>12</th>\n",
       "      <td>Single's Day Gift Promo</td>\n",
       "      <td>APAC</td>\n",
       "      <td>2020-11-11</td>\n",
       "      <td>2020-11-12</td>\n",
       "    </tr>\n",
       "    <tr>\n",
       "      <th>13</th>\n",
       "      <td>Chinese Moon Festival</td>\n",
       "      <td>APAC</td>\n",
       "      <td>2020-10-01</td>\n",
       "      <td>2020-10-07</td>\n",
       "    </tr>\n",
       "  </tbody>\n",
       "</table>\n",
       "</div>"
      ],
      "text/plain": [
       "                                name                   regions    start_dt  \\\n",
       "0           Christmas&New Year Promo             EU, N.America  2020-12-25   \n",
       "1       St. Valentine's Day Giveaway  EU, CIS, APAC, N.America  2020-02-14   \n",
       "2             St. Patric's Day Promo             EU, N.America  2020-03-17   \n",
       "3                       Easter Promo  EU, CIS, APAC, N.America  2020-04-12   \n",
       "4                  4th of July Promo                 N.America  2020-07-04   \n",
       "5          Black Friday Ads Campaign  EU, CIS, APAC, N.America  2020-11-26   \n",
       "6             Chinese New Year Promo                      APAC  2020-01-25   \n",
       "7   Labor day (May 1st) Ads Campaign             EU, CIS, APAC  2020-05-01   \n",
       "8    International Women's Day Promo             EU, CIS, APAC  2020-03-08   \n",
       "9    Victory Day CIS (May 9th) Event                       CIS  2020-05-09   \n",
       "10         CIS New Year Gift Lottery                       CIS  2020-12-30   \n",
       "11     Dragon Boat Festival Giveaway                      APAC  2020-06-25   \n",
       "12           Single's Day Gift Promo                      APAC  2020-11-11   \n",
       "13             Chinese Moon Festival                      APAC  2020-10-01   \n",
       "\n",
       "     finish_dt  \n",
       "0   2021-01-03  \n",
       "1   2020-02-16  \n",
       "2   2020-03-19  \n",
       "3   2020-04-19  \n",
       "4   2020-07-11  \n",
       "5   2020-12-01  \n",
       "6   2020-02-07  \n",
       "7   2020-05-03  \n",
       "8   2020-03-10  \n",
       "9   2020-05-11  \n",
       "10  2021-01-07  \n",
       "11  2020-07-01  \n",
       "12  2020-11-12  \n",
       "13  2020-10-07  "
      ]
     },
     "execution_count": 51,
     "metadata": {},
     "output_type": "execute_result"
    }
   ],
   "source": [
    "information(calendar)"
   ]
  },
  {
   "cell_type": "markdown",
   "id": "44364a05",
   "metadata": {},
   "source": [
    "Таблица состоит из 14 строк и 4 столбцов. Присутствует некорректный тип в столбцах с датой и временем, необходимо изменить."
   ]
  },
  {
   "cell_type": "code",
   "execution_count": 52,
   "id": "93b2669c",
   "metadata": {},
   "outputs": [],
   "source": [
    "# создадим функцию для первичного анализа данных датафрейма с пользователями, зарегистрировавших с 7 до 21 декабря 2020 года, посмотрим распределение численных значений,\n",
    "# приведём названия к нижнему регистру, проверим на дубликаты и пропуски\n",
    "def information(users):\n",
    "    users.info()\n",
    "    column=users.describe().columns\n",
    "    display(users.describe())\n",
    "    for index in users.columns:\n",
    "        if index not in column:\n",
    "            users[index] = users[index].str.lower()\n",
    "    print ('Количество явных дубликатов -', users.duplicated().sum())\n",
    "    print ('Количество пропусков -', users.isna().sum())\n",
    "    return users"
   ]
  },
  {
   "cell_type": "code",
   "execution_count": 53,
   "id": "586c6f38",
   "metadata": {},
   "outputs": [
    {
     "name": "stdout",
     "output_type": "stream",
     "text": [
      "<class 'pandas.core.frame.DataFrame'>\n",
      "RangeIndex: 61733 entries, 0 to 61732\n",
      "Data columns (total 4 columns):\n",
      " #   Column      Non-Null Count  Dtype \n",
      "---  ------      --------------  ----- \n",
      " 0   user_id     61733 non-null  object\n",
      " 1   first_date  61733 non-null  object\n",
      " 2   region      61733 non-null  object\n",
      " 3   device      61733 non-null  object\n",
      "dtypes: object(4)\n",
      "memory usage: 1.9+ MB\n"
     ]
    },
    {
     "data": {
      "text/html": [
       "<div>\n",
       "<style scoped>\n",
       "    .dataframe tbody tr th:only-of-type {\n",
       "        vertical-align: middle;\n",
       "    }\n",
       "\n",
       "    .dataframe tbody tr th {\n",
       "        vertical-align: top;\n",
       "    }\n",
       "\n",
       "    .dataframe thead th {\n",
       "        text-align: right;\n",
       "    }\n",
       "</style>\n",
       "<table border=\"1\" class=\"dataframe\">\n",
       "  <thead>\n",
       "    <tr style=\"text-align: right;\">\n",
       "      <th></th>\n",
       "      <th>user_id</th>\n",
       "      <th>first_date</th>\n",
       "      <th>region</th>\n",
       "      <th>device</th>\n",
       "    </tr>\n",
       "  </thead>\n",
       "  <tbody>\n",
       "    <tr>\n",
       "      <th>count</th>\n",
       "      <td>61733</td>\n",
       "      <td>61733</td>\n",
       "      <td>61733</td>\n",
       "      <td>61733</td>\n",
       "    </tr>\n",
       "    <tr>\n",
       "      <th>unique</th>\n",
       "      <td>61733</td>\n",
       "      <td>17</td>\n",
       "      <td>4</td>\n",
       "      <td>4</td>\n",
       "    </tr>\n",
       "    <tr>\n",
       "      <th>top</th>\n",
       "      <td>D72A72121175D8BE</td>\n",
       "      <td>2020-12-21</td>\n",
       "      <td>EU</td>\n",
       "      <td>Android</td>\n",
       "    </tr>\n",
       "    <tr>\n",
       "      <th>freq</th>\n",
       "      <td>1</td>\n",
       "      <td>6290</td>\n",
       "      <td>46270</td>\n",
       "      <td>27520</td>\n",
       "    </tr>\n",
       "  </tbody>\n",
       "</table>\n",
       "</div>"
      ],
      "text/plain": [
       "                 user_id  first_date region   device\n",
       "count              61733       61733  61733    61733\n",
       "unique             61733          17      4        4\n",
       "top     D72A72121175D8BE  2020-12-21     EU  Android\n",
       "freq                   1        6290  46270    27520"
      ]
     },
     "metadata": {},
     "output_type": "display_data"
    },
    {
     "name": "stdout",
     "output_type": "stream",
     "text": [
      "Количество явных дубликатов - 0\n",
      "Количество пропусков - user_id       0\n",
      "first_date    0\n",
      "region        0\n",
      "device        0\n",
      "dtype: int64\n"
     ]
    },
    {
     "data": {
      "text/html": [
       "<div>\n",
       "<style scoped>\n",
       "    .dataframe tbody tr th:only-of-type {\n",
       "        vertical-align: middle;\n",
       "    }\n",
       "\n",
       "    .dataframe tbody tr th {\n",
       "        vertical-align: top;\n",
       "    }\n",
       "\n",
       "    .dataframe thead th {\n",
       "        text-align: right;\n",
       "    }\n",
       "</style>\n",
       "<table border=\"1\" class=\"dataframe\">\n",
       "  <thead>\n",
       "    <tr style=\"text-align: right;\">\n",
       "      <th></th>\n",
       "      <th>user_id</th>\n",
       "      <th>first_date</th>\n",
       "      <th>region</th>\n",
       "      <th>device</th>\n",
       "    </tr>\n",
       "  </thead>\n",
       "  <tbody>\n",
       "    <tr>\n",
       "      <th>0</th>\n",
       "      <td>D72A72121175D8BE</td>\n",
       "      <td>2020-12-07</td>\n",
       "      <td>EU</td>\n",
       "      <td>PC</td>\n",
       "    </tr>\n",
       "    <tr>\n",
       "      <th>1</th>\n",
       "      <td>F1C668619DFE6E65</td>\n",
       "      <td>2020-12-07</td>\n",
       "      <td>N.America</td>\n",
       "      <td>Android</td>\n",
       "    </tr>\n",
       "    <tr>\n",
       "      <th>2</th>\n",
       "      <td>2E1BF1D4C37EA01F</td>\n",
       "      <td>2020-12-07</td>\n",
       "      <td>EU</td>\n",
       "      <td>PC</td>\n",
       "    </tr>\n",
       "    <tr>\n",
       "      <th>3</th>\n",
       "      <td>50734A22C0C63768</td>\n",
       "      <td>2020-12-07</td>\n",
       "      <td>EU</td>\n",
       "      <td>iPhone</td>\n",
       "    </tr>\n",
       "    <tr>\n",
       "      <th>4</th>\n",
       "      <td>E1BDDCE0DAFA2679</td>\n",
       "      <td>2020-12-07</td>\n",
       "      <td>N.America</td>\n",
       "      <td>iPhone</td>\n",
       "    </tr>\n",
       "    <tr>\n",
       "      <th>...</th>\n",
       "      <td>...</td>\n",
       "      <td>...</td>\n",
       "      <td>...</td>\n",
       "      <td>...</td>\n",
       "    </tr>\n",
       "    <tr>\n",
       "      <th>61728</th>\n",
       "      <td>1DB53B933257165D</td>\n",
       "      <td>2020-12-20</td>\n",
       "      <td>EU</td>\n",
       "      <td>Android</td>\n",
       "    </tr>\n",
       "    <tr>\n",
       "      <th>61729</th>\n",
       "      <td>538643EB4527ED03</td>\n",
       "      <td>2020-12-20</td>\n",
       "      <td>EU</td>\n",
       "      <td>Mac</td>\n",
       "    </tr>\n",
       "    <tr>\n",
       "      <th>61730</th>\n",
       "      <td>7ADEE837D5D8CBBD</td>\n",
       "      <td>2020-12-20</td>\n",
       "      <td>EU</td>\n",
       "      <td>PC</td>\n",
       "    </tr>\n",
       "    <tr>\n",
       "      <th>61731</th>\n",
       "      <td>1C7D23927835213F</td>\n",
       "      <td>2020-12-20</td>\n",
       "      <td>EU</td>\n",
       "      <td>iPhone</td>\n",
       "    </tr>\n",
       "    <tr>\n",
       "      <th>61732</th>\n",
       "      <td>8F04273BB2860229</td>\n",
       "      <td>2020-12-20</td>\n",
       "      <td>EU</td>\n",
       "      <td>Android</td>\n",
       "    </tr>\n",
       "  </tbody>\n",
       "</table>\n",
       "<p>61733 rows × 4 columns</p>\n",
       "</div>"
      ],
      "text/plain": [
       "                user_id  first_date     region   device\n",
       "0      D72A72121175D8BE  2020-12-07         EU       PC\n",
       "1      F1C668619DFE6E65  2020-12-07  N.America  Android\n",
       "2      2E1BF1D4C37EA01F  2020-12-07         EU       PC\n",
       "3      50734A22C0C63768  2020-12-07         EU   iPhone\n",
       "4      E1BDDCE0DAFA2679  2020-12-07  N.America   iPhone\n",
       "...                 ...         ...        ...      ...\n",
       "61728  1DB53B933257165D  2020-12-20         EU  Android\n",
       "61729  538643EB4527ED03  2020-12-20         EU      Mac\n",
       "61730  7ADEE837D5D8CBBD  2020-12-20         EU       PC\n",
       "61731  1C7D23927835213F  2020-12-20         EU   iPhone\n",
       "61732  8F04273BB2860229  2020-12-20         EU  Android\n",
       "\n",
       "[61733 rows x 4 columns]"
      ]
     },
     "execution_count": 53,
     "metadata": {},
     "output_type": "execute_result"
    }
   ],
   "source": [
    "information(users)"
   ]
  },
  {
   "cell_type": "markdown",
   "id": "d636d84a",
   "metadata": {},
   "source": [
    "Таблица состоит из 61733 строк и 4 столбцов, так же некорректный тип столбца даты и времени, необходимо изменить на правильный."
   ]
  },
  {
   "cell_type": "code",
   "execution_count": 54,
   "id": "68318b90",
   "metadata": {},
   "outputs": [],
   "source": [
    "# создадим функцию для первичного анализа данных датафрейма с действиями новых пользователей в период с 7 декабря 2020 по 4 января 2021 года, посмотрим распределение численных значений,\n",
    "# приведём названия к нижнему регистру, проверим на дубликаты и пропуски\n",
    "def information(actions):\n",
    "    actions.info()\n",
    "    column=actions.describe().columns\n",
    "    display(actions.describe())\n",
    "    for index in actions.columns:\n",
    "        if index not in column:\n",
    "            actions[index] = actions[index].str.lower()\n",
    "    print ('Количество явных дубликатов -', actions.duplicated().sum())\n",
    "    print ('Количество пропусков -', actions.isna().sum())\n",
    "    return actions"
   ]
  },
  {
   "cell_type": "code",
   "execution_count": 55,
   "id": "18449961",
   "metadata": {},
   "outputs": [
    {
     "name": "stdout",
     "output_type": "stream",
     "text": [
      "<class 'pandas.core.frame.DataFrame'>\n",
      "RangeIndex: 440317 entries, 0 to 440316\n",
      "Data columns (total 4 columns):\n",
      " #   Column      Non-Null Count   Dtype  \n",
      "---  ------      --------------   -----  \n",
      " 0   user_id     440317 non-null  object \n",
      " 1   event_dt    440317 non-null  object \n",
      " 2   event_name  440317 non-null  object \n",
      " 3   details     62740 non-null   float64\n",
      "dtypes: float64(1), object(3)\n",
      "memory usage: 13.4+ MB\n"
     ]
    },
    {
     "data": {
      "text/html": [
       "<div>\n",
       "<style scoped>\n",
       "    .dataframe tbody tr th:only-of-type {\n",
       "        vertical-align: middle;\n",
       "    }\n",
       "\n",
       "    .dataframe tbody tr th {\n",
       "        vertical-align: top;\n",
       "    }\n",
       "\n",
       "    .dataframe thead th {\n",
       "        text-align: right;\n",
       "    }\n",
       "</style>\n",
       "<table border=\"1\" class=\"dataframe\">\n",
       "  <thead>\n",
       "    <tr style=\"text-align: right;\">\n",
       "      <th></th>\n",
       "      <th>details</th>\n",
       "    </tr>\n",
       "  </thead>\n",
       "  <tbody>\n",
       "    <tr>\n",
       "      <th>count</th>\n",
       "      <td>62740.000000</td>\n",
       "    </tr>\n",
       "    <tr>\n",
       "      <th>mean</th>\n",
       "      <td>23.877631</td>\n",
       "    </tr>\n",
       "    <tr>\n",
       "      <th>std</th>\n",
       "      <td>72.180465</td>\n",
       "    </tr>\n",
       "    <tr>\n",
       "      <th>min</th>\n",
       "      <td>4.990000</td>\n",
       "    </tr>\n",
       "    <tr>\n",
       "      <th>25%</th>\n",
       "      <td>4.990000</td>\n",
       "    </tr>\n",
       "    <tr>\n",
       "      <th>50%</th>\n",
       "      <td>4.990000</td>\n",
       "    </tr>\n",
       "    <tr>\n",
       "      <th>75%</th>\n",
       "      <td>9.990000</td>\n",
       "    </tr>\n",
       "    <tr>\n",
       "      <th>max</th>\n",
       "      <td>499.990000</td>\n",
       "    </tr>\n",
       "  </tbody>\n",
       "</table>\n",
       "</div>"
      ],
      "text/plain": [
       "            details\n",
       "count  62740.000000\n",
       "mean      23.877631\n",
       "std       72.180465\n",
       "min        4.990000\n",
       "25%        4.990000\n",
       "50%        4.990000\n",
       "75%        9.990000\n",
       "max      499.990000"
      ]
     },
     "metadata": {},
     "output_type": "display_data"
    },
    {
     "name": "stdout",
     "output_type": "stream",
     "text": [
      "Количество явных дубликатов - 0\n",
      "Количество пропусков - user_id            0\n",
      "event_dt           0\n",
      "event_name         0\n",
      "details       377577\n",
      "dtype: int64\n"
     ]
    },
    {
     "data": {
      "text/html": [
       "<div>\n",
       "<style scoped>\n",
       "    .dataframe tbody tr th:only-of-type {\n",
       "        vertical-align: middle;\n",
       "    }\n",
       "\n",
       "    .dataframe tbody tr th {\n",
       "        vertical-align: top;\n",
       "    }\n",
       "\n",
       "    .dataframe thead th {\n",
       "        text-align: right;\n",
       "    }\n",
       "</style>\n",
       "<table border=\"1\" class=\"dataframe\">\n",
       "  <thead>\n",
       "    <tr style=\"text-align: right;\">\n",
       "      <th></th>\n",
       "      <th>user_id</th>\n",
       "      <th>event_dt</th>\n",
       "      <th>event_name</th>\n",
       "      <th>details</th>\n",
       "    </tr>\n",
       "  </thead>\n",
       "  <tbody>\n",
       "    <tr>\n",
       "      <th>0</th>\n",
       "      <td>e1bddce0dafa2679</td>\n",
       "      <td>2020-12-07 20:22:03</td>\n",
       "      <td>purchase</td>\n",
       "      <td>99.99</td>\n",
       "    </tr>\n",
       "    <tr>\n",
       "      <th>1</th>\n",
       "      <td>7b6452f081f49504</td>\n",
       "      <td>2020-12-07 09:22:53</td>\n",
       "      <td>purchase</td>\n",
       "      <td>9.99</td>\n",
       "    </tr>\n",
       "    <tr>\n",
       "      <th>2</th>\n",
       "      <td>9cd9f34546df254c</td>\n",
       "      <td>2020-12-07 12:59:29</td>\n",
       "      <td>purchase</td>\n",
       "      <td>4.99</td>\n",
       "    </tr>\n",
       "    <tr>\n",
       "      <th>3</th>\n",
       "      <td>96f27a054b191457</td>\n",
       "      <td>2020-12-07 04:02:40</td>\n",
       "      <td>purchase</td>\n",
       "      <td>4.99</td>\n",
       "    </tr>\n",
       "    <tr>\n",
       "      <th>4</th>\n",
       "      <td>1fd7660fdf94ca1f</td>\n",
       "      <td>2020-12-07 10:15:09</td>\n",
       "      <td>purchase</td>\n",
       "      <td>4.99</td>\n",
       "    </tr>\n",
       "    <tr>\n",
       "      <th>...</th>\n",
       "      <td>...</td>\n",
       "      <td>...</td>\n",
       "      <td>...</td>\n",
       "      <td>...</td>\n",
       "    </tr>\n",
       "    <tr>\n",
       "      <th>440312</th>\n",
       "      <td>245e85f65c358e08</td>\n",
       "      <td>2020-12-30 19:35:55</td>\n",
       "      <td>login</td>\n",
       "      <td>NaN</td>\n",
       "    </tr>\n",
       "    <tr>\n",
       "      <th>440313</th>\n",
       "      <td>9385a108f5a0a7a7</td>\n",
       "      <td>2020-12-30 10:54:15</td>\n",
       "      <td>login</td>\n",
       "      <td>NaN</td>\n",
       "    </tr>\n",
       "    <tr>\n",
       "      <th>440314</th>\n",
       "      <td>db650b7559ac6eac</td>\n",
       "      <td>2020-12-30 10:59:09</td>\n",
       "      <td>login</td>\n",
       "      <td>NaN</td>\n",
       "    </tr>\n",
       "    <tr>\n",
       "      <th>440315</th>\n",
       "      <td>f80c9bddea02e53c</td>\n",
       "      <td>2020-12-30 09:53:39</td>\n",
       "      <td>login</td>\n",
       "      <td>NaN</td>\n",
       "    </tr>\n",
       "    <tr>\n",
       "      <th>440316</th>\n",
       "      <td>7aec61159b672cc5</td>\n",
       "      <td>2020-12-30 11:36:13</td>\n",
       "      <td>login</td>\n",
       "      <td>NaN</td>\n",
       "    </tr>\n",
       "  </tbody>\n",
       "</table>\n",
       "<p>440317 rows × 4 columns</p>\n",
       "</div>"
      ],
      "text/plain": [
       "                 user_id             event_dt event_name  details\n",
       "0       e1bddce0dafa2679  2020-12-07 20:22:03   purchase    99.99\n",
       "1       7b6452f081f49504  2020-12-07 09:22:53   purchase     9.99\n",
       "2       9cd9f34546df254c  2020-12-07 12:59:29   purchase     4.99\n",
       "3       96f27a054b191457  2020-12-07 04:02:40   purchase     4.99\n",
       "4       1fd7660fdf94ca1f  2020-12-07 10:15:09   purchase     4.99\n",
       "...                  ...                  ...        ...      ...\n",
       "440312  245e85f65c358e08  2020-12-30 19:35:55      login      NaN\n",
       "440313  9385a108f5a0a7a7  2020-12-30 10:54:15      login      NaN\n",
       "440314  db650b7559ac6eac  2020-12-30 10:59:09      login      NaN\n",
       "440315  f80c9bddea02e53c  2020-12-30 09:53:39      login      NaN\n",
       "440316  7aec61159b672cc5  2020-12-30 11:36:13      login      NaN\n",
       "\n",
       "[440317 rows x 4 columns]"
      ]
     },
     "execution_count": 55,
     "metadata": {},
     "output_type": "execute_result"
    }
   ],
   "source": [
    "information(actions)"
   ]
  },
  {
   "cell_type": "markdown",
   "id": "64be44cc",
   "metadata": {},
   "source": [
    "Таблица состоит из 440317 строк и 4 столбцов, так же некорректный тип столбца даты и времени, необходимо изменить на правильный.\n",
    "Присутствуют пропущенные значения: 377577 строк в столбце с дополнительными данными о событии, необходимо отдельно посмотреть."
   ]
  },
  {
   "cell_type": "code",
   "execution_count": 56,
   "id": "d9e59016",
   "metadata": {},
   "outputs": [],
   "source": [
    "# создадим функцию для первичного анализа данных датафрейма с таблицей участников тестов, посмотрим распределение численных значений,\n",
    "# приведём названия к нижнему регистру, проверим на дубликаты и пропуски\n",
    "def information(participants):\n",
    "    participants.info()\n",
    "    column=participants.describe().columns\n",
    "    display(participants.describe())\n",
    "    for index in participants.columns:\n",
    "        if index not in column:\n",
    "            participants[index] = participants[index].str.lower()\n",
    "    print ('Количество явных дубликатов -', participants.duplicated().sum())\n",
    "    print ('Количество пропусков -', participants.isna().sum())\n",
    "    return participants"
   ]
  },
  {
   "cell_type": "code",
   "execution_count": 57,
   "id": "4f8d927b",
   "metadata": {},
   "outputs": [
    {
     "name": "stdout",
     "output_type": "stream",
     "text": [
      "<class 'pandas.core.frame.DataFrame'>\n",
      "RangeIndex: 18268 entries, 0 to 18267\n",
      "Data columns (total 3 columns):\n",
      " #   Column   Non-Null Count  Dtype \n",
      "---  ------   --------------  ----- \n",
      " 0   user_id  18268 non-null  object\n",
      " 1   group    18268 non-null  object\n",
      " 2   ab_test  18268 non-null  object\n",
      "dtypes: object(3)\n",
      "memory usage: 428.3+ KB\n"
     ]
    },
    {
     "data": {
      "text/html": [
       "<div>\n",
       "<style scoped>\n",
       "    .dataframe tbody tr th:only-of-type {\n",
       "        vertical-align: middle;\n",
       "    }\n",
       "\n",
       "    .dataframe tbody tr th {\n",
       "        vertical-align: top;\n",
       "    }\n",
       "\n",
       "    .dataframe thead th {\n",
       "        text-align: right;\n",
       "    }\n",
       "</style>\n",
       "<table border=\"1\" class=\"dataframe\">\n",
       "  <thead>\n",
       "    <tr style=\"text-align: right;\">\n",
       "      <th></th>\n",
       "      <th>user_id</th>\n",
       "      <th>group</th>\n",
       "      <th>ab_test</th>\n",
       "    </tr>\n",
       "  </thead>\n",
       "  <tbody>\n",
       "    <tr>\n",
       "      <th>count</th>\n",
       "      <td>18268</td>\n",
       "      <td>18268</td>\n",
       "      <td>18268</td>\n",
       "    </tr>\n",
       "    <tr>\n",
       "      <th>unique</th>\n",
       "      <td>16666</td>\n",
       "      <td>2</td>\n",
       "      <td>2</td>\n",
       "    </tr>\n",
       "    <tr>\n",
       "      <th>top</th>\n",
       "      <td>0FDFDA0B2DEC2D91</td>\n",
       "      <td>A</td>\n",
       "      <td>interface_eu_test</td>\n",
       "    </tr>\n",
       "    <tr>\n",
       "      <th>freq</th>\n",
       "      <td>2</td>\n",
       "      <td>9655</td>\n",
       "      <td>11567</td>\n",
       "    </tr>\n",
       "  </tbody>\n",
       "</table>\n",
       "</div>"
      ],
      "text/plain": [
       "                 user_id  group            ab_test\n",
       "count              18268  18268              18268\n",
       "unique             16666      2                  2\n",
       "top     0FDFDA0B2DEC2D91      A  interface_eu_test\n",
       "freq                   2   9655              11567"
      ]
     },
     "metadata": {},
     "output_type": "display_data"
    },
    {
     "name": "stdout",
     "output_type": "stream",
     "text": [
      "Количество явных дубликатов - 0\n",
      "Количество пропусков - user_id    0\n",
      "group      0\n",
      "ab_test    0\n",
      "dtype: int64\n"
     ]
    },
    {
     "data": {
      "text/html": [
       "<div>\n",
       "<style scoped>\n",
       "    .dataframe tbody tr th:only-of-type {\n",
       "        vertical-align: middle;\n",
       "    }\n",
       "\n",
       "    .dataframe tbody tr th {\n",
       "        vertical-align: top;\n",
       "    }\n",
       "\n",
       "    .dataframe thead th {\n",
       "        text-align: right;\n",
       "    }\n",
       "</style>\n",
       "<table border=\"1\" class=\"dataframe\">\n",
       "  <thead>\n",
       "    <tr style=\"text-align: right;\">\n",
       "      <th></th>\n",
       "      <th>user_id</th>\n",
       "      <th>group</th>\n",
       "      <th>ab_test</th>\n",
       "    </tr>\n",
       "  </thead>\n",
       "  <tbody>\n",
       "    <tr>\n",
       "      <th>0</th>\n",
       "      <td>D1ABA3E2887B6A73</td>\n",
       "      <td>A</td>\n",
       "      <td>recommender_system_test</td>\n",
       "    </tr>\n",
       "    <tr>\n",
       "      <th>1</th>\n",
       "      <td>A7A3664BD6242119</td>\n",
       "      <td>A</td>\n",
       "      <td>recommender_system_test</td>\n",
       "    </tr>\n",
       "    <tr>\n",
       "      <th>2</th>\n",
       "      <td>DABC14FDDFADD29E</td>\n",
       "      <td>A</td>\n",
       "      <td>recommender_system_test</td>\n",
       "    </tr>\n",
       "    <tr>\n",
       "      <th>3</th>\n",
       "      <td>04988C5DF189632E</td>\n",
       "      <td>A</td>\n",
       "      <td>recommender_system_test</td>\n",
       "    </tr>\n",
       "    <tr>\n",
       "      <th>4</th>\n",
       "      <td>482F14783456D21B</td>\n",
       "      <td>B</td>\n",
       "      <td>recommender_system_test</td>\n",
       "    </tr>\n",
       "    <tr>\n",
       "      <th>...</th>\n",
       "      <td>...</td>\n",
       "      <td>...</td>\n",
       "      <td>...</td>\n",
       "    </tr>\n",
       "    <tr>\n",
       "      <th>18263</th>\n",
       "      <td>1D302F8688B91781</td>\n",
       "      <td>B</td>\n",
       "      <td>interface_eu_test</td>\n",
       "    </tr>\n",
       "    <tr>\n",
       "      <th>18264</th>\n",
       "      <td>3DE51B726983B657</td>\n",
       "      <td>A</td>\n",
       "      <td>interface_eu_test</td>\n",
       "    </tr>\n",
       "    <tr>\n",
       "      <th>18265</th>\n",
       "      <td>F501F79D332BE86C</td>\n",
       "      <td>A</td>\n",
       "      <td>interface_eu_test</td>\n",
       "    </tr>\n",
       "    <tr>\n",
       "      <th>18266</th>\n",
       "      <td>63FBE257B05F2245</td>\n",
       "      <td>A</td>\n",
       "      <td>interface_eu_test</td>\n",
       "    </tr>\n",
       "    <tr>\n",
       "      <th>18267</th>\n",
       "      <td>79F9ABFB029CF724</td>\n",
       "      <td>B</td>\n",
       "      <td>interface_eu_test</td>\n",
       "    </tr>\n",
       "  </tbody>\n",
       "</table>\n",
       "<p>18268 rows × 3 columns</p>\n",
       "</div>"
      ],
      "text/plain": [
       "                user_id group                  ab_test\n",
       "0      D1ABA3E2887B6A73     A  recommender_system_test\n",
       "1      A7A3664BD6242119     A  recommender_system_test\n",
       "2      DABC14FDDFADD29E     A  recommender_system_test\n",
       "3      04988C5DF189632E     A  recommender_system_test\n",
       "4      482F14783456D21B     B  recommender_system_test\n",
       "...                 ...   ...                      ...\n",
       "18263  1D302F8688B91781     B        interface_eu_test\n",
       "18264  3DE51B726983B657     A        interface_eu_test\n",
       "18265  F501F79D332BE86C     A        interface_eu_test\n",
       "18266  63FBE257B05F2245     A        interface_eu_test\n",
       "18267  79F9ABFB029CF724     B        interface_eu_test\n",
       "\n",
       "[18268 rows x 3 columns]"
      ]
     },
     "execution_count": 57,
     "metadata": {},
     "output_type": "execute_result"
    }
   ],
   "source": [
    "information(participants)"
   ]
  },
  {
   "cell_type": "markdown",
   "id": "0b4aebe4",
   "metadata": {},
   "source": [
    "Таблица состоит из 18268 строк (это наблюдений) и 3 столбцов."
   ]
  },
  {
   "cell_type": "markdown",
   "id": "052e0453",
   "metadata": {},
   "source": [
    "**Вывод по разделу:**\n",
    "\n",
    "Загрузили и изучили данные, выявили некооректный тип в столбцах с датой и временем и так же обнаружены пропущенные значения в датафрейме с действиями новых пользователей в период с 7 декабря 2020 по 4 января 2021 года."
   ]
  },
  {
   "cell_type": "markdown",
   "id": "af099711",
   "metadata": {},
   "source": [
    "## 2. Предобработка данных"
   ]
  },
  {
   "cell_type": "code",
   "execution_count": 58,
   "id": "790b323b",
   "metadata": {},
   "outputs": [],
   "source": [
    "# изменим тип данных на datetime \n",
    "calendar['start_dt'] = pd.to_datetime(calendar['start_dt'])\n",
    "calendar['finish_dt'] = pd.to_datetime(calendar['finish_dt'])\n",
    "users['first_date'] = pd.to_datetime(users['first_date'])\n",
    "actions['event_dt'] = pd.to_datetime(actions['event_dt'])"
   ]
  },
  {
   "cell_type": "code",
   "execution_count": 59,
   "id": "e9eeb9ba",
   "metadata": {},
   "outputs": [
    {
     "name": "stdout",
     "output_type": "stream",
     "text": [
      "<class 'pandas.core.frame.DataFrame'>\n",
      "RangeIndex: 14 entries, 0 to 13\n",
      "Data columns (total 4 columns):\n",
      " #   Column     Non-Null Count  Dtype         \n",
      "---  ------     --------------  -----         \n",
      " 0   name       14 non-null     object        \n",
      " 1   regions    14 non-null     object        \n",
      " 2   start_dt   14 non-null     datetime64[ns]\n",
      " 3   finish_dt  14 non-null     datetime64[ns]\n",
      "dtypes: datetime64[ns](2), object(2)\n",
      "memory usage: 576.0+ bytes\n",
      "<class 'pandas.core.frame.DataFrame'>\n",
      "RangeIndex: 61733 entries, 0 to 61732\n",
      "Data columns (total 4 columns):\n",
      " #   Column      Non-Null Count  Dtype         \n",
      "---  ------      --------------  -----         \n",
      " 0   user_id     61733 non-null  object        \n",
      " 1   first_date  61733 non-null  datetime64[ns]\n",
      " 2   region      61733 non-null  object        \n",
      " 3   device      61733 non-null  object        \n",
      "dtypes: datetime64[ns](1), object(3)\n",
      "memory usage: 1.9+ MB\n",
      "<class 'pandas.core.frame.DataFrame'>\n",
      "RangeIndex: 440317 entries, 0 to 440316\n",
      "Data columns (total 4 columns):\n",
      " #   Column      Non-Null Count   Dtype         \n",
      "---  ------      --------------   -----         \n",
      " 0   user_id     440317 non-null  object        \n",
      " 1   event_dt    440317 non-null  datetime64[ns]\n",
      " 2   event_name  440317 non-null  object        \n",
      " 3   details     62740 non-null   float64       \n",
      "dtypes: datetime64[ns](1), float64(1), object(2)\n",
      "memory usage: 13.4+ MB\n"
     ]
    }
   ],
   "source": [
    "# убедимся, что тип изменился на правильный\n",
    "calendar.info()\n",
    "users.info()\n",
    "actions.info()"
   ]
  },
  {
   "cell_type": "code",
   "execution_count": 60,
   "id": "4017c538",
   "metadata": {},
   "outputs": [
    {
     "data": {
      "text/plain": [
       "array([ 99.99,   9.99,   4.99, 499.99,    nan])"
      ]
     },
     "execution_count": 60,
     "metadata": {},
     "output_type": "execute_result"
    }
   ],
   "source": [
    "# посмотрим столбец на уникальные в котором присутствует много пропусков\n",
    "actions['details'].unique()"
   ]
  },
  {
   "cell_type": "markdown",
   "id": "e9b95f6c",
   "metadata": {},
   "source": [
    "Так как это столбец с дополнительными данными, то скорее всего этот столбец заполняется когда есть дополнительная информация, поэтому пропуски в данном столбце приемлены, оставим их."
   ]
  },
  {
   "cell_type": "markdown",
   "id": "15cf42a9",
   "metadata": {},
   "source": [
    "**Вывод по разделу:**\n",
    "\n",
    "Заменены типы столбцов с датами на корректный. По пропускам приняли решение оставить."
   ]
  },
  {
   "cell_type": "markdown",
   "id": "79f12586",
   "metadata": {},
   "source": [
    "## 3. Оценка соответствия теста техническому заданию:"
   ]
  },
  {
   "cell_type": "markdown",
   "id": "34ec84af",
   "metadata": {},
   "source": [
    "- Соединение таблицы:"
   ]
  },
  {
   "cell_type": "code",
   "execution_count": 61,
   "id": "c650de29",
   "metadata": {},
   "outputs": [],
   "source": [
    "# приведём к нижнему регистру данные в столбце с идентификатором пользователя\n",
    "users['user_id'] = users['user_id'].str.lower()\n",
    "actions['user_id'] = actions['user_id'].str.lower()\n",
    "participants['user_id'] = participants['user_id'].str.lower()"
   ]
  },
  {
   "cell_type": "code",
   "execution_count": 62,
   "id": "097aa526",
   "metadata": {},
   "outputs": [
    {
     "data": {
      "text/html": [
       "<div>\n",
       "<style scoped>\n",
       "    .dataframe tbody tr th:only-of-type {\n",
       "        vertical-align: middle;\n",
       "    }\n",
       "\n",
       "    .dataframe tbody tr th {\n",
       "        vertical-align: top;\n",
       "    }\n",
       "\n",
       "    .dataframe thead th {\n",
       "        text-align: right;\n",
       "    }\n",
       "</style>\n",
       "<table border=\"1\" class=\"dataframe\">\n",
       "  <thead>\n",
       "    <tr style=\"text-align: right;\">\n",
       "      <th></th>\n",
       "      <th>user_id</th>\n",
       "      <th>event_dt</th>\n",
       "      <th>event_name</th>\n",
       "      <th>details</th>\n",
       "      <th>first_date</th>\n",
       "      <th>region</th>\n",
       "      <th>device</th>\n",
       "      <th>group</th>\n",
       "      <th>ab_test</th>\n",
       "    </tr>\n",
       "  </thead>\n",
       "  <tbody>\n",
       "    <tr>\n",
       "      <th>0</th>\n",
       "      <td>e1bddce0dafa2679</td>\n",
       "      <td>2020-12-07</td>\n",
       "      <td>purchase</td>\n",
       "      <td>99.99</td>\n",
       "      <td>2020-12-07</td>\n",
       "      <td>N.America</td>\n",
       "      <td>iPhone</td>\n",
       "      <td>NaN</td>\n",
       "      <td>NaN</td>\n",
       "    </tr>\n",
       "    <tr>\n",
       "      <th>1</th>\n",
       "      <td>7b6452f081f49504</td>\n",
       "      <td>2020-12-07</td>\n",
       "      <td>purchase</td>\n",
       "      <td>9.99</td>\n",
       "      <td>2020-12-07</td>\n",
       "      <td>EU</td>\n",
       "      <td>iPhone</td>\n",
       "      <td>NaN</td>\n",
       "      <td>NaN</td>\n",
       "    </tr>\n",
       "    <tr>\n",
       "      <th>2</th>\n",
       "      <td>9cd9f34546df254c</td>\n",
       "      <td>2020-12-07</td>\n",
       "      <td>purchase</td>\n",
       "      <td>4.99</td>\n",
       "      <td>2020-12-07</td>\n",
       "      <td>N.America</td>\n",
       "      <td>iPhone</td>\n",
       "      <td>NaN</td>\n",
       "      <td>NaN</td>\n",
       "    </tr>\n",
       "    <tr>\n",
       "      <th>3</th>\n",
       "      <td>96f27a054b191457</td>\n",
       "      <td>2020-12-07</td>\n",
       "      <td>purchase</td>\n",
       "      <td>4.99</td>\n",
       "      <td>2020-12-07</td>\n",
       "      <td>EU</td>\n",
       "      <td>iPhone</td>\n",
       "      <td>B</td>\n",
       "      <td>interface_eu_test</td>\n",
       "    </tr>\n",
       "    <tr>\n",
       "      <th>4</th>\n",
       "      <td>1fd7660fdf94ca1f</td>\n",
       "      <td>2020-12-07</td>\n",
       "      <td>purchase</td>\n",
       "      <td>4.99</td>\n",
       "      <td>2020-12-07</td>\n",
       "      <td>EU</td>\n",
       "      <td>Android</td>\n",
       "      <td>NaN</td>\n",
       "      <td>NaN</td>\n",
       "    </tr>\n",
       "    <tr>\n",
       "      <th>...</th>\n",
       "      <td>...</td>\n",
       "      <td>...</td>\n",
       "      <td>...</td>\n",
       "      <td>...</td>\n",
       "      <td>...</td>\n",
       "      <td>...</td>\n",
       "      <td>...</td>\n",
       "      <td>...</td>\n",
       "      <td>...</td>\n",
       "    </tr>\n",
       "    <tr>\n",
       "      <th>446206</th>\n",
       "      <td>245e85f65c358e08</td>\n",
       "      <td>2020-12-30</td>\n",
       "      <td>login</td>\n",
       "      <td>NaN</td>\n",
       "      <td>2020-12-07</td>\n",
       "      <td>EU</td>\n",
       "      <td>Android</td>\n",
       "      <td>NaN</td>\n",
       "      <td>NaN</td>\n",
       "    </tr>\n",
       "    <tr>\n",
       "      <th>446207</th>\n",
       "      <td>9385a108f5a0a7a7</td>\n",
       "      <td>2020-12-30</td>\n",
       "      <td>login</td>\n",
       "      <td>NaN</td>\n",
       "      <td>2020-12-07</td>\n",
       "      <td>EU</td>\n",
       "      <td>PC</td>\n",
       "      <td>NaN</td>\n",
       "      <td>NaN</td>\n",
       "    </tr>\n",
       "    <tr>\n",
       "      <th>446208</th>\n",
       "      <td>db650b7559ac6eac</td>\n",
       "      <td>2020-12-30</td>\n",
       "      <td>login</td>\n",
       "      <td>NaN</td>\n",
       "      <td>2020-12-07</td>\n",
       "      <td>EU</td>\n",
       "      <td>Android</td>\n",
       "      <td>NaN</td>\n",
       "      <td>NaN</td>\n",
       "    </tr>\n",
       "    <tr>\n",
       "      <th>446209</th>\n",
       "      <td>f80c9bddea02e53c</td>\n",
       "      <td>2020-12-30</td>\n",
       "      <td>login</td>\n",
       "      <td>NaN</td>\n",
       "      <td>2020-12-07</td>\n",
       "      <td>EU</td>\n",
       "      <td>iPhone</td>\n",
       "      <td>A</td>\n",
       "      <td>interface_eu_test</td>\n",
       "    </tr>\n",
       "    <tr>\n",
       "      <th>446210</th>\n",
       "      <td>7aec61159b672cc5</td>\n",
       "      <td>2020-12-30</td>\n",
       "      <td>login</td>\n",
       "      <td>NaN</td>\n",
       "      <td>2020-12-07</td>\n",
       "      <td>EU</td>\n",
       "      <td>iPhone</td>\n",
       "      <td>NaN</td>\n",
       "      <td>NaN</td>\n",
       "    </tr>\n",
       "  </tbody>\n",
       "</table>\n",
       "<p>446211 rows × 9 columns</p>\n",
       "</div>"
      ],
      "text/plain": [
       "                 user_id    event_dt event_name  details first_date  \\\n",
       "0       e1bddce0dafa2679  2020-12-07   purchase    99.99 2020-12-07   \n",
       "1       7b6452f081f49504  2020-12-07   purchase     9.99 2020-12-07   \n",
       "2       9cd9f34546df254c  2020-12-07   purchase     4.99 2020-12-07   \n",
       "3       96f27a054b191457  2020-12-07   purchase     4.99 2020-12-07   \n",
       "4       1fd7660fdf94ca1f  2020-12-07   purchase     4.99 2020-12-07   \n",
       "...                  ...         ...        ...      ...        ...   \n",
       "446206  245e85f65c358e08  2020-12-30      login      NaN 2020-12-07   \n",
       "446207  9385a108f5a0a7a7  2020-12-30      login      NaN 2020-12-07   \n",
       "446208  db650b7559ac6eac  2020-12-30      login      NaN 2020-12-07   \n",
       "446209  f80c9bddea02e53c  2020-12-30      login      NaN 2020-12-07   \n",
       "446210  7aec61159b672cc5  2020-12-30      login      NaN 2020-12-07   \n",
       "\n",
       "           region   device group            ab_test  \n",
       "0       N.America   iPhone   NaN                NaN  \n",
       "1              EU   iPhone   NaN                NaN  \n",
       "2       N.America   iPhone   NaN                NaN  \n",
       "3              EU   iPhone     B  interface_eu_test  \n",
       "4              EU  Android   NaN                NaN  \n",
       "...           ...      ...   ...                ...  \n",
       "446206         EU  Android   NaN                NaN  \n",
       "446207         EU       PC   NaN                NaN  \n",
       "446208         EU  Android   NaN                NaN  \n",
       "446209         EU   iPhone     A  interface_eu_test  \n",
       "446210         EU   iPhone   NaN                NaN  \n",
       "\n",
       "[446211 rows x 9 columns]"
      ]
     },
     "execution_count": 62,
     "metadata": {},
     "output_type": "execute_result"
    }
   ],
   "source": [
    "# соединим три таблицы в одну общую по столбцу пользователи\n",
    "data = pd.merge(actions, users, on='user_id', how='left')\n",
    "data = pd.merge(data, participants, on='user_id', how='left')\n",
    "# приведём столбец с датой события в другой формат без времени\n",
    "data['event_dt'] = data['event_dt'].dt.strftime('%Y-%m-%d')\n",
    "data"
   ]
  },
  {
   "cell_type": "markdown",
   "id": "e21a97f0",
   "metadata": {},
   "source": [
    "- Проверим на распредление и пересечение пользователей по тестам. Дальнейший анализ будем проводить с группой рекомендательной системы: "
   ]
  },
  {
   "cell_type": "code",
   "execution_count": 63,
   "id": "150b9209",
   "metadata": {},
   "outputs": [
    {
     "data": {
      "text/plain": [
       "interface_eu_test          81927\n",
       "recommender_system_test    24698\n",
       "Name: ab_test, dtype: int64"
      ]
     },
     "execution_count": 63,
     "metadata": {},
     "output_type": "execute_result"
    }
   ],
   "source": [
    "# посчитаем распределение по группе тестов\n",
    "data['ab_test'].value_counts()"
   ]
  },
  {
   "cell_type": "code",
   "execution_count": 64,
   "id": "a2074571",
   "metadata": {},
   "outputs": [
    {
     "data": {
      "text/html": [
       "<div>\n",
       "<style scoped>\n",
       "    .dataframe tbody tr th:only-of-type {\n",
       "        vertical-align: middle;\n",
       "    }\n",
       "\n",
       "    .dataframe tbody tr th {\n",
       "        vertical-align: top;\n",
       "    }\n",
       "\n",
       "    .dataframe thead th {\n",
       "        text-align: right;\n",
       "    }\n",
       "</style>\n",
       "<table border=\"1\" class=\"dataframe\">\n",
       "  <thead>\n",
       "    <tr style=\"text-align: right;\">\n",
       "      <th></th>\n",
       "      <th>user_id</th>\n",
       "      <th>ab_test</th>\n",
       "    </tr>\n",
       "  </thead>\n",
       "  <tbody>\n",
       "    <tr>\n",
       "      <th>0</th>\n",
       "      <td>001064feaab631a1</td>\n",
       "      <td>2</td>\n",
       "    </tr>\n",
       "    <tr>\n",
       "      <th>1</th>\n",
       "      <td>00341d8401f0f665</td>\n",
       "      <td>2</td>\n",
       "    </tr>\n",
       "    <tr>\n",
       "      <th>2</th>\n",
       "      <td>0082295a41a867b5</td>\n",
       "      <td>2</td>\n",
       "    </tr>\n",
       "    <tr>\n",
       "      <th>3</th>\n",
       "      <td>00e68f103c66c1f7</td>\n",
       "      <td>2</td>\n",
       "    </tr>\n",
       "    <tr>\n",
       "      <th>4</th>\n",
       "      <td>00efa157f7b6e1c4</td>\n",
       "      <td>2</td>\n",
       "    </tr>\n",
       "    <tr>\n",
       "      <th>...</th>\n",
       "      <td>...</td>\n",
       "      <td>...</td>\n",
       "    </tr>\n",
       "    <tr>\n",
       "      <th>882</th>\n",
       "      <td>fea0c585a53e7027</td>\n",
       "      <td>2</td>\n",
       "    </tr>\n",
       "    <tr>\n",
       "      <th>883</th>\n",
       "      <td>fec0bca6c323872f</td>\n",
       "      <td>2</td>\n",
       "    </tr>\n",
       "    <tr>\n",
       "      <th>884</th>\n",
       "      <td>ff2174a1aa0ead20</td>\n",
       "      <td>2</td>\n",
       "    </tr>\n",
       "    <tr>\n",
       "      <th>885</th>\n",
       "      <td>ff44696e39039d29</td>\n",
       "      <td>2</td>\n",
       "    </tr>\n",
       "    <tr>\n",
       "      <th>886</th>\n",
       "      <td>fff28d02b1eacbe1</td>\n",
       "      <td>2</td>\n",
       "    </tr>\n",
       "  </tbody>\n",
       "</table>\n",
       "<p>887 rows × 2 columns</p>\n",
       "</div>"
      ],
      "text/plain": [
       "              user_id  ab_test\n",
       "0    001064feaab631a1        2\n",
       "1    00341d8401f0f665        2\n",
       "2    0082295a41a867b5        2\n",
       "3    00e68f103c66c1f7        2\n",
       "4    00efa157f7b6e1c4        2\n",
       "..                ...      ...\n",
       "882  fea0c585a53e7027        2\n",
       "883  fec0bca6c323872f        2\n",
       "884  ff2174a1aa0ead20        2\n",
       "885  ff44696e39039d29        2\n",
       "886  fff28d02b1eacbe1        2\n",
       "\n",
       "[887 rows x 2 columns]"
      ]
     },
     "execution_count": 64,
     "metadata": {},
     "output_type": "execute_result"
    }
   ],
   "source": [
    "# посмотрим пересечение тестовой аудитории с конкурирующим тестом\n",
    "intersection_num = data.groupby('user_id').agg({'ab_test':'nunique'}).query('ab_test == 2').reset_index()\n",
    "intersection_num"
   ]
  },
  {
   "cell_type": "code",
   "execution_count": 65,
   "id": "1390fd0b",
   "metadata": {},
   "outputs": [
    {
     "data": {
      "text/html": [
       "<div>\n",
       "<style scoped>\n",
       "    .dataframe tbody tr th:only-of-type {\n",
       "        vertical-align: middle;\n",
       "    }\n",
       "\n",
       "    .dataframe tbody tr th {\n",
       "        vertical-align: top;\n",
       "    }\n",
       "\n",
       "    .dataframe thead th {\n",
       "        text-align: right;\n",
       "    }\n",
       "</style>\n",
       "<table border=\"1\" class=\"dataframe\">\n",
       "  <thead>\n",
       "    <tr style=\"text-align: right;\">\n",
       "      <th></th>\n",
       "      <th>group</th>\n",
       "      <th>user_id</th>\n",
       "    </tr>\n",
       "  </thead>\n",
       "  <tbody>\n",
       "    <tr>\n",
       "      <th>0</th>\n",
       "      <td>A</td>\n",
       "      <td>665</td>\n",
       "    </tr>\n",
       "    <tr>\n",
       "      <th>1</th>\n",
       "      <td>B</td>\n",
       "      <td>222</td>\n",
       "    </tr>\n",
       "  </tbody>\n",
       "</table>\n",
       "</div>"
      ],
      "text/plain": [
       "  group  user_id\n",
       "0     A      665\n",
       "1     B      222"
      ]
     },
     "execution_count": 65,
     "metadata": {},
     "output_type": "execute_result"
    }
   ],
   "source": [
    "intersection = pd.merge(intersection_num, data, on=['user_id'], how='inner')\n",
    "intersection = intersection.groupby(['user_id','ab_test_y', 'group']).agg({'event_dt':'count'}).reset_index()\n",
    "intersection = intersection.query('ab_test_y == \"recommender_system_test\"')\n",
    "intersection\n",
    "intersection2 = intersection.groupby(['group']).agg({'user_id':'count'})\n",
    "intersection2.reset_index()"
   ]
  },
  {
   "cell_type": "code",
   "execution_count": 66,
   "id": "57afe35f",
   "metadata": {},
   "outputs": [
    {
     "name": "stdout",
     "output_type": "stream",
     "text": [
      "Количество пользователей в группе A =  665\n",
      "Количество пользователей в группе B =  222\n",
      "Доля пользователей группы A  =  0.75\n",
      "Доля пользователей группы B  =  0.25\n"
     ]
    }
   ],
   "source": [
    "# проверяем распределение пользовалтелей в группах для пересекающихся пользователей\n",
    "print ('Количество пользователей в группе A = ', len(intersection.query('group == \"A\"')))\n",
    "print ('Количество пользователей в группе B = ', len(intersection.query('group == \"B\"')))\n",
    "print ('Доля пользователей группы A  = ', round(len(intersection.query('group == \"A\"')) / len (intersection), 2))\n",
    "print ('Доля пользователей группы B  = ', round(len(intersection.query('group == \"B\"')) / len (intersection), 2))"
   ]
  },
  {
   "cell_type": "code",
   "execution_count": 67,
   "id": "41f95ea3",
   "metadata": {},
   "outputs": [
    {
     "name": "stdout",
     "output_type": "stream",
     "text": [
      "Количество пользователей в группе A =  7874\n",
      "Количество пользователей в группе B =  6205\n",
      "Доля пользователей группы A  =  0.56\n",
      "Доля пользователей группы B  =  0.44\n"
     ]
    },
    {
     "data": {
      "text/html": [
       "<div>\n",
       "<style scoped>\n",
       "    .dataframe tbody tr th:only-of-type {\n",
       "        vertical-align: middle;\n",
       "    }\n",
       "\n",
       "    .dataframe tbody tr th {\n",
       "        vertical-align: top;\n",
       "    }\n",
       "\n",
       "    .dataframe thead th {\n",
       "        text-align: right;\n",
       "    }\n",
       "</style>\n",
       "<table border=\"1\" class=\"dataframe\">\n",
       "  <thead>\n",
       "    <tr style=\"text-align: right;\">\n",
       "      <th></th>\n",
       "      <th>group</th>\n",
       "      <th>n_users</th>\n",
       "    </tr>\n",
       "  </thead>\n",
       "  <tbody>\n",
       "    <tr>\n",
       "      <th>0</th>\n",
       "      <td>A</td>\n",
       "      <td>7874</td>\n",
       "    </tr>\n",
       "    <tr>\n",
       "      <th>1</th>\n",
       "      <td>B</td>\n",
       "      <td>6205</td>\n",
       "    </tr>\n",
       "  </tbody>\n",
       "</table>\n",
       "</div>"
      ],
      "text/plain": [
       "  group  n_users\n",
       "0     A     7874\n",
       "1     B     6205"
      ]
     },
     "metadata": {},
     "output_type": "display_data"
    }
   ],
   "source": [
    "# проверяем распределение пользовалтелей в группах общего датафрейма\n",
    "group_users_count = data.groupby(['user_id', 'group']).agg({'event_dt':'count'}).reset_index()\n",
    "print ('Количество пользователей в группе A = ', len(group_users_count.query('group == \"A\"')))\n",
    "print ('Количество пользователей в группе B = ', len(group_users_count.query('group == \"B\"')))\n",
    "print ('Доля пользователей группы A  = ', round(len(group_users_count.query('group == \"A\"')) / len (group_users_count), 2))\n",
    "print ('Доля пользователей группы B  = ', round(len(group_users_count.query('group == \"B\"')) / len (group_users_count), 2))\n",
    "group_users_count = data.groupby('group').agg({'user_id': ['nunique']}).reset_index().sort_values(by= ('user_id', 'nunique'), ascending=False)\n",
    "group_users_count.columns = ['group', 'n_users']\n",
    "display(group_users_count)"
   ]
  },
  {
   "cell_type": "code",
   "execution_count": 68,
   "id": "c7d2d7fb",
   "metadata": {},
   "outputs": [
    {
     "name": "stdout",
     "output_type": "stream",
     "text": [
      "Количество участников в 2х группах: 0\n"
     ]
    }
   ],
   "source": [
    "# посмотрим пересечение тестовой аудитории \"recommender_system_test\" между группами\n",
    "intersection_num = data.query('ab_test==\"recommender_system_test\"').groupby('user_id').agg({'group':'nunique'}).query('group == 2').reset_index()\n",
    "print (f'Количество участников в 2х группах: {len(intersection_num)}')"
   ]
  },
  {
   "cell_type": "markdown",
   "id": "dd8d5191",
   "metadata": {},
   "source": [
    "нет пользователей участвующих одновременно в 2х группах А\\В нашего теста."
   ]
  },
  {
   "cell_type": "markdown",
   "id": "ad0275bf",
   "metadata": {},
   "source": [
    "Провели дополнительный анализ для пересекающихся пользователей. В распределении видно, что отношение количества пользователей в группах датасета такое же, как и в распределении по проверке пересекающихся пользователей в тестах. Т.к. отношение 75 \\ 25 одинаковое, то считаю, что необходимо оставить таких пользователей. Так же наблюдается несоответствие исходных данных с условием ТЗ о необходимом количестве участников (6000). При удалении их будет еще меньше."
   ]
  },
  {
   "cell_type": "code",
   "execution_count": 69,
   "id": "20ad4ea5",
   "metadata": {},
   "outputs": [
    {
     "data": {
      "text/html": [
       "<div>\n",
       "<style scoped>\n",
       "    .dataframe tbody tr th:only-of-type {\n",
       "        vertical-align: middle;\n",
       "    }\n",
       "\n",
       "    .dataframe tbody tr th {\n",
       "        vertical-align: top;\n",
       "    }\n",
       "\n",
       "    .dataframe thead th {\n",
       "        text-align: right;\n",
       "    }\n",
       "</style>\n",
       "<table border=\"1\" class=\"dataframe\">\n",
       "  <thead>\n",
       "    <tr style=\"text-align: right;\">\n",
       "      <th></th>\n",
       "      <th>user_id</th>\n",
       "      <th>event_dt</th>\n",
       "      <th>event_name</th>\n",
       "      <th>details</th>\n",
       "      <th>first_date</th>\n",
       "      <th>region</th>\n",
       "      <th>device</th>\n",
       "      <th>group</th>\n",
       "      <th>ab_test</th>\n",
       "    </tr>\n",
       "  </thead>\n",
       "  <tbody>\n",
       "    <tr>\n",
       "      <th>5</th>\n",
       "      <td>831887fe7f2d6cba</td>\n",
       "      <td>2020-12-07</td>\n",
       "      <td>purchase</td>\n",
       "      <td>4.99</td>\n",
       "      <td>2020-12-07</td>\n",
       "      <td>EU</td>\n",
       "      <td>Android</td>\n",
       "      <td>A</td>\n",
       "      <td>recommender_system_test</td>\n",
       "    </tr>\n",
       "    <tr>\n",
       "      <th>17</th>\n",
       "      <td>3c5dd0288ac4fe23</td>\n",
       "      <td>2020-12-07</td>\n",
       "      <td>purchase</td>\n",
       "      <td>4.99</td>\n",
       "      <td>2020-12-07</td>\n",
       "      <td>EU</td>\n",
       "      <td>PC</td>\n",
       "      <td>A</td>\n",
       "      <td>recommender_system_test</td>\n",
       "    </tr>\n",
       "    <tr>\n",
       "      <th>58</th>\n",
       "      <td>49ea242586c87836</td>\n",
       "      <td>2020-12-07</td>\n",
       "      <td>purchase</td>\n",
       "      <td>99.99</td>\n",
       "      <td>2020-12-07</td>\n",
       "      <td>EU</td>\n",
       "      <td>iPhone</td>\n",
       "      <td>B</td>\n",
       "      <td>recommender_system_test</td>\n",
       "    </tr>\n",
       "    <tr>\n",
       "      <th>71</th>\n",
       "      <td>2b06eb547b7aad08</td>\n",
       "      <td>2020-12-07</td>\n",
       "      <td>purchase</td>\n",
       "      <td>4.99</td>\n",
       "      <td>2020-12-07</td>\n",
       "      <td>EU</td>\n",
       "      <td>PC</td>\n",
       "      <td>A</td>\n",
       "      <td>recommender_system_test</td>\n",
       "    </tr>\n",
       "    <tr>\n",
       "      <th>75</th>\n",
       "      <td>a640f31cac7823a6</td>\n",
       "      <td>2020-12-07</td>\n",
       "      <td>purchase</td>\n",
       "      <td>4.99</td>\n",
       "      <td>2020-12-07</td>\n",
       "      <td>EU</td>\n",
       "      <td>PC</td>\n",
       "      <td>B</td>\n",
       "      <td>recommender_system_test</td>\n",
       "    </tr>\n",
       "    <tr>\n",
       "      <th>...</th>\n",
       "      <td>...</td>\n",
       "      <td>...</td>\n",
       "      <td>...</td>\n",
       "      <td>...</td>\n",
       "      <td>...</td>\n",
       "      <td>...</td>\n",
       "      <td>...</td>\n",
       "      <td>...</td>\n",
       "      <td>...</td>\n",
       "    </tr>\n",
       "    <tr>\n",
       "      <th>446131</th>\n",
       "      <td>d21f0d4fdcd82db2</td>\n",
       "      <td>2020-12-29</td>\n",
       "      <td>login</td>\n",
       "      <td>NaN</td>\n",
       "      <td>2020-12-20</td>\n",
       "      <td>EU</td>\n",
       "      <td>iPhone</td>\n",
       "      <td>A</td>\n",
       "      <td>recommender_system_test</td>\n",
       "    </tr>\n",
       "    <tr>\n",
       "      <th>446150</th>\n",
       "      <td>96bdd55846d1f7f6</td>\n",
       "      <td>2020-12-29</td>\n",
       "      <td>login</td>\n",
       "      <td>NaN</td>\n",
       "      <td>2020-12-20</td>\n",
       "      <td>EU</td>\n",
       "      <td>iPhone</td>\n",
       "      <td>A</td>\n",
       "      <td>recommender_system_test</td>\n",
       "    </tr>\n",
       "    <tr>\n",
       "      <th>446160</th>\n",
       "      <td>553bae96c6eb6240</td>\n",
       "      <td>2020-12-29</td>\n",
       "      <td>login</td>\n",
       "      <td>NaN</td>\n",
       "      <td>2020-12-20</td>\n",
       "      <td>EU</td>\n",
       "      <td>Android</td>\n",
       "      <td>A</td>\n",
       "      <td>recommender_system_test</td>\n",
       "    </tr>\n",
       "    <tr>\n",
       "      <th>446174</th>\n",
       "      <td>dd4352cdcf8c3d57</td>\n",
       "      <td>2020-12-30</td>\n",
       "      <td>login</td>\n",
       "      <td>NaN</td>\n",
       "      <td>2020-12-07</td>\n",
       "      <td>EU</td>\n",
       "      <td>Android</td>\n",
       "      <td>B</td>\n",
       "      <td>recommender_system_test</td>\n",
       "    </tr>\n",
       "    <tr>\n",
       "      <th>446183</th>\n",
       "      <td>75845c83258fbf73</td>\n",
       "      <td>2020-12-30</td>\n",
       "      <td>login</td>\n",
       "      <td>NaN</td>\n",
       "      <td>2020-12-07</td>\n",
       "      <td>EU</td>\n",
       "      <td>Android</td>\n",
       "      <td>B</td>\n",
       "      <td>recommender_system_test</td>\n",
       "    </tr>\n",
       "  </tbody>\n",
       "</table>\n",
       "<p>24698 rows × 9 columns</p>\n",
       "</div>"
      ],
      "text/plain": [
       "                 user_id    event_dt event_name  details first_date region  \\\n",
       "5       831887fe7f2d6cba  2020-12-07   purchase     4.99 2020-12-07     EU   \n",
       "17      3c5dd0288ac4fe23  2020-12-07   purchase     4.99 2020-12-07     EU   \n",
       "58      49ea242586c87836  2020-12-07   purchase    99.99 2020-12-07     EU   \n",
       "71      2b06eb547b7aad08  2020-12-07   purchase     4.99 2020-12-07     EU   \n",
       "75      a640f31cac7823a6  2020-12-07   purchase     4.99 2020-12-07     EU   \n",
       "...                  ...         ...        ...      ...        ...    ...   \n",
       "446131  d21f0d4fdcd82db2  2020-12-29      login      NaN 2020-12-20     EU   \n",
       "446150  96bdd55846d1f7f6  2020-12-29      login      NaN 2020-12-20     EU   \n",
       "446160  553bae96c6eb6240  2020-12-29      login      NaN 2020-12-20     EU   \n",
       "446174  dd4352cdcf8c3d57  2020-12-30      login      NaN 2020-12-07     EU   \n",
       "446183  75845c83258fbf73  2020-12-30      login      NaN 2020-12-07     EU   \n",
       "\n",
       "         device group                  ab_test  \n",
       "5       Android     A  recommender_system_test  \n",
       "17           PC     A  recommender_system_test  \n",
       "58       iPhone     B  recommender_system_test  \n",
       "71           PC     A  recommender_system_test  \n",
       "75           PC     B  recommender_system_test  \n",
       "...         ...   ...                      ...  \n",
       "446131   iPhone     A  recommender_system_test  \n",
       "446150   iPhone     A  recommender_system_test  \n",
       "446160  Android     A  recommender_system_test  \n",
       "446174  Android     B  recommender_system_test  \n",
       "446183  Android     B  recommender_system_test  \n",
       "\n",
       "[24698 rows x 9 columns]"
      ]
     },
     "execution_count": 69,
     "metadata": {},
     "output_type": "execute_result"
    }
   ],
   "source": [
    "# отберём тестовую группу \n",
    "data = data.query('ab_test==\"recommender_system_test\"')\n",
    "data"
   ]
  },
  {
   "cell_type": "code",
   "execution_count": 70,
   "id": "6e53c159",
   "metadata": {},
   "outputs": [
    {
     "name": "stdout",
     "output_type": "stream",
     "text": [
      "Всего пользователей после фильтрации: 3675 пользователей\n"
     ]
    }
   ],
   "source": [
    "# посчитаем общее количество пользователей после фильтрации\n",
    "users_total = len(data['user_id'].unique())\n",
    "print(\"Всего пользователей после фильтрации: {} пользователей\".format(users_total))"
   ]
  },
  {
   "cell_type": "code",
   "execution_count": 71,
   "id": "2d649ea7",
   "metadata": {},
   "outputs": [
    {
     "data": {
      "text/plain": [
       "A    19304\n",
       "B     5394\n",
       "Name: group, dtype: int64"
      ]
     },
     "execution_count": 71,
     "metadata": {},
     "output_type": "execute_result"
    }
   ],
   "source": [
    "# посчитаем распределение событий по группе тестов\n",
    "data['group'].value_counts()"
   ]
  },
  {
   "cell_type": "code",
   "execution_count": 72,
   "id": "667a83d3",
   "metadata": {},
   "outputs": [
    {
     "data": {
      "text/plain": [
       "recommender_system_test    24698\n",
       "Name: ab_test, dtype: int64"
      ]
     },
     "execution_count": 72,
     "metadata": {},
     "output_type": "execute_result"
    }
   ],
   "source": [
    "# посчитаем уникальных пользователей из таблицы таблицы участников тестов \n",
    "data['ab_test'].value_counts()"
   ]
  },
  {
   "cell_type": "markdown",
   "id": "9541fb36",
   "metadata": {},
   "source": [
    "- проверим, все ли пользователи, зарегистрированные в тесте, совершали за период проведения теста события:"
   ]
  },
  {
   "cell_type": "code",
   "execution_count": 73,
   "id": "1fa34e2a",
   "metadata": {},
   "outputs": [
    {
     "name": "stdout",
     "output_type": "stream",
     "text": [
      "Пользователи зарегистрированные в тесте, НО не совершали за период проведения теста события: 3026\n"
     ]
    }
   ],
   "source": [
    "# посчитаем количество пользователей не вошедших в дальнейший анализ \n",
    "bad_users = len(participants.query('ab_test == \"recommender_system_test\"')) - len(data['user_id'].unique())\n",
    "print(f'Пользователи зарегистрированные в тесте, НО не совершали за период проведения теста события: {bad_users}')"
   ]
  },
  {
   "cell_type": "markdown",
   "id": "0477533f",
   "metadata": {},
   "source": [
    "Вывод:\n",
    "\n",
    "Из 6701 участников теста исключили из анализа 3026 пользователей не совершавших ни одного действия."
   ]
  },
  {
   "cell_type": "markdown",
   "id": "b3c18cff",
   "metadata": {},
   "source": [
    "- проверим, что в тест отобрано 15% новых пользователей из региона EU:"
   ]
  },
  {
   "cell_type": "code",
   "execution_count": 74,
   "id": "e2b07d50",
   "metadata": {},
   "outputs": [
    {
     "name": "stdout",
     "output_type": "stream",
     "text": [
      "Процент новых пользователей из региона EU: 15%\n"
     ]
    }
   ],
   "source": [
    "# посчитаем количество всех новых пользователей из EU\n",
    "data_eu = len(data.query('region == \"EU\"')) \n",
    "# найдем аудиторию из EU\n",
    "auditorium_eu = data.groupby('region').agg({'user_id':'nunique'}).loc['EU', 'user_id']\n",
    "prc = auditorium_eu / data_eu\n",
    "print(\"Процент новых пользователей из региона EU: {:.0%}\".format(prc))"
   ]
  },
  {
   "cell_type": "markdown",
   "id": "f96a1ead",
   "metadata": {},
   "source": [
    " Как видим совпадает процент новых пользователей из региона EU."
   ]
  },
  {
   "cell_type": "markdown",
   "id": "35f3b411",
   "metadata": {},
   "source": [
    "- Проверим, были ли во время проведения теста маркетинговые мероприятия, которые могли бы повлиять на результат:"
   ]
  },
  {
   "cell_type": "code",
   "execution_count": 75,
   "id": "2a2390a7",
   "metadata": {},
   "outputs": [],
   "source": [
    "# создадим переменные начало, конец, и конец набора пользователей\n",
    "t_start = dt.date(2020, 12, 7)\n",
    "t_finish = dt.date(2021, 1, 4)\n",
    "reg_finish = dt.date(2020, 12, 21)"
   ]
  },
  {
   "cell_type": "code",
   "execution_count": 76,
   "id": "4952e5d5",
   "metadata": {},
   "outputs": [
    {
     "data": {
      "text/html": [
       "<div>\n",
       "<style scoped>\n",
       "    .dataframe tbody tr th:only-of-type {\n",
       "        vertical-align: middle;\n",
       "    }\n",
       "\n",
       "    .dataframe tbody tr th {\n",
       "        vertical-align: top;\n",
       "    }\n",
       "\n",
       "    .dataframe thead th {\n",
       "        text-align: right;\n",
       "    }\n",
       "</style>\n",
       "<table border=\"1\" class=\"dataframe\">\n",
       "  <thead>\n",
       "    <tr style=\"text-align: right;\">\n",
       "      <th></th>\n",
       "      <th>name</th>\n",
       "      <th>regions</th>\n",
       "      <th>start_dt</th>\n",
       "      <th>finish_dt</th>\n",
       "    </tr>\n",
       "  </thead>\n",
       "  <tbody>\n",
       "    <tr>\n",
       "      <th>0</th>\n",
       "      <td>Christmas&amp;New Year Promo</td>\n",
       "      <td>EU, N.America</td>\n",
       "      <td>2020-12-25</td>\n",
       "      <td>2021-01-03</td>\n",
       "    </tr>\n",
       "    <tr>\n",
       "      <th>10</th>\n",
       "      <td>CIS New Year Gift Lottery</td>\n",
       "      <td>CIS</td>\n",
       "      <td>2020-12-30</td>\n",
       "      <td>2021-01-07</td>\n",
       "    </tr>\n",
       "  </tbody>\n",
       "</table>\n",
       "</div>"
      ],
      "text/plain": [
       "                         name        regions   start_dt  finish_dt\n",
       "0    Christmas&New Year Promo  EU, N.America 2020-12-25 2021-01-03\n",
       "10  CIS New Year Gift Lottery            CIS 2020-12-30 2021-01-07"
      ]
     },
     "execution_count": 76,
     "metadata": {},
     "output_type": "execute_result"
    }
   ],
   "source": [
    "# отфильтруем датасет на нужные даты\n",
    "calendar = calendar[(calendar['start_dt'] <= \"2021-01-04\") & \n",
    "                                          (calendar['finish_dt'] >= \"2020-12-07\")]\n",
    "calendar"
   ]
  },
  {
   "cell_type": "markdown",
   "id": "eb6b673f",
   "metadata": {},
   "source": [
    "Во время набора пользователей на тест проходили 2 маркетинговых мероприятия в период с 25 декабря до 3 января - рождественское и новогоднее промо в Европе и Североной Америке. И новогодняя лотерея в СНГ. Возможно, эти акции повлияли на активность пользователей в последнюю неделю теста."
   ]
  },
  {
   "cell_type": "markdown",
   "id": "677525bc",
   "metadata": {},
   "source": [
    "- По условию ТЗ дата остановки набора новых пользователей должна быть 21 декабря 2020. Уберем пользователей зарегистрировавшихся после 21 декабря:"
   ]
  },
  {
   "cell_type": "code",
   "execution_count": 77,
   "id": "f8667300",
   "metadata": {},
   "outputs": [
    {
     "name": "stdout",
     "output_type": "stream",
     "text": [
      "Дата первой записи в логе после фильтрации:: 2020-12-07 00:00:00 \n",
      "Дата последней записи в логе после фильтрации:: 2020-12-21 00:00:00 \n",
      "Период ведения лога после фильтрации: 14 days 00:00:00 \n"
     ]
    }
   ],
   "source": [
    "# оставим пользователей по 21-12-2020.\n",
    "data = data.query('first_date <= \"2020-12-21\"')\n",
    "# оставим только регион EU\n",
    "data = data.query('region == \"EU\"')\n",
    "# найдем минимальную и максимальную дату\n",
    "min_first_date = data['first_date'].min()\n",
    "max_first_date = data['first_date'].max()\n",
    "\n",
    "print(\"Дата первой записи в логе после фильтрации:: {} \".format(min_first_date))\n",
    "print(\"Дата последней записи в логе после фильтрации:: {} \".format(max_first_date))\n",
    "print(\"Период ведения лога после фильтрации: {} \".format(max_first_date - min_first_date))"
   ]
  },
  {
   "cell_type": "markdown",
   "id": "9c8bfe66",
   "metadata": {},
   "source": [
    "- По условию ТЗ активных дней для каждого пользователя должно быть не более 14 дней. Уберем остальные события."
   ]
  },
  {
   "cell_type": "code",
   "execution_count": 78,
   "id": "e6024389",
   "metadata": {},
   "outputs": [
    {
     "name": "stdout",
     "output_type": "stream",
     "text": [
      "пользователей : 3481 -  событий: 23420\n",
      "пользователей : 3481 -  событий: 22828\n"
     ]
    }
   ],
   "source": [
    "# делаем фильтр в 14 дней\n",
    "\n",
    "print(f'пользователей : {data.user_id.nunique()} -  событий: {data.event_dt.count()}')\n",
    "data['first_date'] = pd.to_datetime(data['first_date'])\n",
    "data['event_dt1'] = pd.to_datetime(data['event_dt'])\n",
    "\n",
    "# вычисляем дату, до которой нужно оставить события\n",
    "data['lifetime'] = data['first_date'] + dt.timedelta(days=14)\n",
    "\n",
    "# фильтруем DataFrame по дате события\n",
    "data = data[data['event_dt1'] <= data['lifetime']]\n",
    "\n",
    "# удаляем столбец с датой отсечки\n",
    "data.drop('lifetime', axis=1, inplace=True)\n",
    "print(f'пользователей : {data.user_id.nunique()} -  событий: {data.event_dt.count()}')\n"
   ]
  },
  {
   "cell_type": "markdown",
   "id": "41ac4a66",
   "metadata": {},
   "source": [
    "## 4. Исследовательский анализ  данных"
   ]
  },
  {
   "cell_type": "markdown",
   "id": "f489ba3d",
   "metadata": {},
   "source": [
    "- Анализ событий:"
   ]
  },
  {
   "cell_type": "code",
   "execution_count": 79,
   "id": "2c75820a",
   "metadata": {},
   "outputs": [
    {
     "name": "stdout",
     "output_type": "stream",
     "text": [
      "Всего событий в логе: 22828 событий\n",
      "Всего пользователей в логе: 3481 пользователей\n",
      "В среднем на одного пользователя приходится: 7 событий\n"
     ]
    }
   ],
   "source": [
    "# посчитаем общее количество событий\n",
    "number_events = len(data)\n",
    "print(\"Всего событий в логе: {} событий\".format(number_events))\n",
    "# посчитаем общее количество пользователей\n",
    "number_users = len(data['user_id'].unique())\n",
    "print(\"Всего пользователей в логе: {} пользователей\".format(number_users))\n",
    "print(\"В среднем на одного пользователя приходится: {} событий\".format(round(number_events/number_users)))"
   ]
  },
  {
   "cell_type": "code",
   "execution_count": 80,
   "id": "6e6f6c8c",
   "metadata": {},
   "outputs": [
    {
     "data": {
      "image/png": "[encoded data removed]",
      "text/plain": [
       "<Figure size 1000x500 with 1 Axes>"
      ]
     },
     "metadata": {},
     "output_type": "display_data"
    }
   ],
   "source": [
    "# сгруппируем данные по event_date и посчитаем количество событий\n",
    "number_events = data.groupby('event_dt').agg({'event_name': ['count']}).reset_index()\n",
    "number_events.columns = ['event_dt', 'n_events']\n",
    "# применим метод dt.strftime() — он превращает объект Series с типом datetime в строку в формате даты \n",
    "#number_events['event_dt'] = number_events['event_dt'].dt.strftime('%Y-%m-%d')\n",
    "# строим график\n",
    "plt.figure(figsize=(10,5))\n",
    "plt.title('Количество событий в логе по дате') \n",
    "sns.barplot(x='event_dt', y='n_events', data=number_events)\n",
    "plt.xticks(rotation= 70)\n",
    "plt.show()"
   ]
  },
  {
   "cell_type": "markdown",
   "id": "0513490a",
   "metadata": {},
   "source": [
    "По графику видно, что после 29 декабря 2020 года неполные данные. По ТЗ для тестирования нужно, чтобы были полные данные до 4 января 2021 год. Скорее всего произошел какой-то сбой в записи событий. Не будем учитывать эти неполные данные и уберём такие события после 29 декабря."
   ]
  },
  {
   "cell_type": "code",
   "execution_count": 81,
   "id": "c255d1c1",
   "metadata": {},
   "outputs": [],
   "source": [
    "# отфильтруем данные, оставив до 29 декабря\n",
    "data = data.query('event_dt <= \"2020-12-29\"')"
   ]
  },
  {
   "cell_type": "code",
   "execution_count": 82,
   "id": "90adc7bd",
   "metadata": {},
   "outputs": [
    {
     "name": "stdout",
     "output_type": "stream",
     "text": [
      "Всего событий в логе после фильтрации: 22828 событий\n",
      "Всего пользователей в логе после фильтрации: 3481 пользователей\n",
      "В среднем на одного пользователя приходится после фильтрации: 6 событий\n"
     ]
    }
   ],
   "source": [
    "# посчитаем общее количество событий после фильтрации\n",
    "events_total = len(data)\n",
    "print(\"Всего событий в логе после фильтрации: {} событий\".format(events_total))\n",
    "\n",
    "# Посчитаем общее кол-во пользователей после фильтрации.\n",
    "users_events_total = len(data['user_id'].unique())\n",
    "print(\"Всего пользователей в логе после фильтрации: {} пользователей\".format(users_events_total))\n",
    "print(\"В среднем на одного пользователя приходится после фильтрации: {} событий\".format(\n",
    "    int(data.groupby('user_id').agg({'event_name':'count'})['event_name'].mean())))"
   ]
  },
  {
   "cell_type": "code",
   "execution_count": 83,
   "id": "55eb97c8",
   "metadata": {},
   "outputs": [
    {
     "data": {
      "image/png": "[encoded data removed]",
      "text/plain": [
       "<Figure size 1000x500 with 1 Axes>"
      ]
     },
     "metadata": {},
     "output_type": "display_data"
    }
   ],
   "source": [
    "# сгруппируем по событию и посчитаем количество записей для каждого события\n",
    "number_entries = data.groupby('event_name').agg({'event_dt':'count'}).reset_index().sort_values(by='event_dt', ascending=False)\n",
    "number_entries.columns = ['event_name', 'n_events']\n",
    "# посчитаем долю событий от общего количества\n",
    "number_entries['share_events'] = ((number_entries['n_events'] / number_entries['n_events'].sum()) * 100).round(2)\n",
    "# построим график\n",
    "plt.figure(figsize=(10, 5))\n",
    "plt.title('Количество событий в логе') \n",
    "sns.barplot(x='n_events', y=['login', 'product_page', 'product_cart', 'purchase'], data=number_entries)\n",
    "plt.show()"
   ]
  },
  {
   "cell_type": "code",
   "execution_count": 84,
   "id": "ec045b73",
   "metadata": {},
   "outputs": [
    {
     "data": {
      "text/html": [
       "<div>\n",
       "<style scoped>\n",
       "    .dataframe tbody tr th:only-of-type {\n",
       "        vertical-align: middle;\n",
       "    }\n",
       "\n",
       "    .dataframe tbody tr th {\n",
       "        vertical-align: top;\n",
       "    }\n",
       "\n",
       "    .dataframe thead th {\n",
       "        text-align: right;\n",
       "    }\n",
       "</style>\n",
       "<table border=\"1\" class=\"dataframe\">\n",
       "  <thead>\n",
       "    <tr style=\"text-align: right;\">\n",
       "      <th></th>\n",
       "      <th>event_name</th>\n",
       "      <th>n_events</th>\n",
       "      <th>share_events</th>\n",
       "    </tr>\n",
       "  </thead>\n",
       "  <tbody>\n",
       "    <tr>\n",
       "      <th>0</th>\n",
       "      <td>login</td>\n",
       "      <td>10313</td>\n",
       "      <td>45.18</td>\n",
       "    </tr>\n",
       "    <tr>\n",
       "      <th>2</th>\n",
       "      <td>product_page</td>\n",
       "      <td>6382</td>\n",
       "      <td>27.96</td>\n",
       "    </tr>\n",
       "    <tr>\n",
       "      <th>3</th>\n",
       "      <td>purchase</td>\n",
       "      <td>3123</td>\n",
       "      <td>13.68</td>\n",
       "    </tr>\n",
       "    <tr>\n",
       "      <th>1</th>\n",
       "      <td>product_cart</td>\n",
       "      <td>3010</td>\n",
       "      <td>13.19</td>\n",
       "    </tr>\n",
       "  </tbody>\n",
       "</table>\n",
       "</div>"
      ],
      "text/plain": [
       "     event_name  n_events  share_events\n",
       "0         login     10313         45.18\n",
       "2  product_page      6382         27.96\n",
       "3      purchase      3123         13.68\n",
       "1  product_cart      3010         13.19"
      ]
     },
     "execution_count": 84,
     "metadata": {},
     "output_type": "execute_result"
    }
   ],
   "source": [
    "number_entries"
   ]
  },
  {
   "cell_type": "markdown",
   "id": "b61a8560",
   "metadata": {},
   "source": [
    "4 события:\n",
    "\n",
    "1. **login** - вход в систему, это событие происходит чаще всего 10949 раз;\n",
    "2. **product_page** - просмотр карточек товаров, 6777 раз;\n",
    "3. **product_cart** - корзина, это событие происходит меньше всего 3185 раз;\n",
    "4. **purchase** - покупка, 3275 раз.\n",
    "\n",
    "Получается, что 90 пользователей переходят сразу к оплате, обходя корзину."
   ]
  },
  {
   "cell_type": "markdown",
   "id": "32bb6952",
   "metadata": {},
   "source": [
    "- Посмотрим обладают ли выборки одинаковыми распределениями количества событий на пользователя, для начала сравним группы:"
   ]
  },
  {
   "cell_type": "code",
   "execution_count": 85,
   "id": "0fa2384e",
   "metadata": {},
   "outputs": [],
   "source": [
    "# сравним группы А и В\n",
    "group_A = data.query('group == \"A\"')\n",
    "group_B = data.query('group == \"B\"')"
   ]
  },
  {
   "cell_type": "code",
   "execution_count": 86,
   "id": "13e20119",
   "metadata": {},
   "outputs": [
    {
     "data": {
      "text/plain": [
       "'Cреднее количество событий на пользователя группы А'"
      ]
     },
     "metadata": {},
     "output_type": "display_data"
    },
    {
     "data": {
      "text/html": [
       "<div>\n",
       "<style scoped>\n",
       "    .dataframe tbody tr th:only-of-type {\n",
       "        vertical-align: middle;\n",
       "    }\n",
       "\n",
       "    .dataframe tbody tr th {\n",
       "        vertical-align: top;\n",
       "    }\n",
       "\n",
       "    .dataframe thead th {\n",
       "        text-align: right;\n",
       "    }\n",
       "</style>\n",
       "<table border=\"1\" class=\"dataframe\">\n",
       "  <thead>\n",
       "    <tr style=\"text-align: right;\">\n",
       "      <th></th>\n",
       "      <th>event_name</th>\n",
       "      <th>mean_A</th>\n",
       "    </tr>\n",
       "  </thead>\n",
       "  <tbody>\n",
       "    <tr>\n",
       "      <th>0</th>\n",
       "      <td>login</td>\n",
       "      <td>3.06</td>\n",
       "    </tr>\n",
       "    <tr>\n",
       "      <th>1</th>\n",
       "      <td>product_cart</td>\n",
       "      <td>3.05</td>\n",
       "    </tr>\n",
       "    <tr>\n",
       "      <th>2</th>\n",
       "      <td>product_page</td>\n",
       "      <td>3.04</td>\n",
       "    </tr>\n",
       "    <tr>\n",
       "      <th>3</th>\n",
       "      <td>purchase</td>\n",
       "      <td>3.00</td>\n",
       "    </tr>\n",
       "  </tbody>\n",
       "</table>\n",
       "</div>"
      ],
      "text/plain": [
       "     event_name  mean_A\n",
       "0         login    3.06\n",
       "1  product_cart    3.05\n",
       "2  product_page    3.04\n",
       "3      purchase    3.00"
      ]
     },
     "metadata": {},
     "output_type": "display_data"
    },
    {
     "data": {
      "text/plain": [
       "'Cреднее количество событий на пользователя группы В'"
      ]
     },
     "metadata": {},
     "output_type": "display_data"
    },
    {
     "data": {
      "text/html": [
       "<div>\n",
       "<style scoped>\n",
       "    .dataframe tbody tr th:only-of-type {\n",
       "        vertical-align: middle;\n",
       "    }\n",
       "\n",
       "    .dataframe tbody tr th {\n",
       "        vertical-align: top;\n",
       "    }\n",
       "\n",
       "    .dataframe thead th {\n",
       "        text-align: right;\n",
       "    }\n",
       "</style>\n",
       "<table border=\"1\" class=\"dataframe\">\n",
       "  <thead>\n",
       "    <tr style=\"text-align: right;\">\n",
       "      <th></th>\n",
       "      <th>event_name</th>\n",
       "      <th>mean_B</th>\n",
       "    </tr>\n",
       "  </thead>\n",
       "  <tbody>\n",
       "    <tr>\n",
       "      <th>0</th>\n",
       "      <td>login</td>\n",
       "      <td>2.68</td>\n",
       "    </tr>\n",
       "    <tr>\n",
       "      <th>1</th>\n",
       "      <td>product_cart</td>\n",
       "      <td>2.56</td>\n",
       "    </tr>\n",
       "    <tr>\n",
       "      <th>2</th>\n",
       "      <td>product_page</td>\n",
       "      <td>2.55</td>\n",
       "    </tr>\n",
       "    <tr>\n",
       "      <th>3</th>\n",
       "      <td>purchase</td>\n",
       "      <td>2.51</td>\n",
       "    </tr>\n",
       "  </tbody>\n",
       "</table>\n",
       "</div>"
      ],
      "text/plain": [
       "     event_name  mean_B\n",
       "0         login    2.68\n",
       "1  product_cart    2.56\n",
       "2  product_page    2.55\n",
       "3      purchase    2.51"
      ]
     },
     "metadata": {},
     "output_type": "display_data"
    }
   ],
   "source": [
    "# добавим среднее количество событий на пользователя\n",
    "mean_A = group_A.pivot_table(index=['user_id', 'event_name'], values='event_dt', aggfunc='count').reset_index()\\\n",
    "                      .groupby('event_name').agg({'event_dt':'mean'}).reset_index().round(2)\n",
    "mean_A.columns = ['event_name', 'mean_A']\n",
    "display(\"Cреднее количество событий на пользователя группы А\")\n",
    "display(mean_A)\n",
    "\n",
    "mean_B = group_B.pivot_table(index=['user_id', 'event_name'], values='event_dt', aggfunc='count').reset_index()\\\n",
    "                      .groupby('event_name').agg({'event_dt':'mean'}).reset_index().round(2)\n",
    "mean_B.columns = ['event_name', 'mean_B']\n",
    "display(\"Cреднее количество событий на пользователя группы В\")\n",
    "display(mean_B)"
   ]
  },
  {
   "cell_type": "code",
   "execution_count": 87,
   "id": "ce0e5a90",
   "metadata": {},
   "outputs": [
    {
     "data": {
      "image/png": "[encoded data removed]",
      "text/plain": [
       "<Figure size 1000x500 with 1 Axes>"
      ]
     },
     "metadata": {},
     "output_type": "display_data"
    }
   ],
   "source": [
    "distribution_A = group_A.pivot_table(index=['user_id'],values='event_name',aggfunc='count').reset_index()\n",
    "distribution_B = group_B.pivot_table(index=['user_id'],values='event_name',aggfunc='count').reset_index()\n",
    "# строим график\n",
    "plt.figure(figsize=(10, 5))\n",
    "sns.distplot(distribution_A['event_name'], bins=10)\n",
    "sns.distplot(distribution_B['event_name'], bins=10)\n",
    "plt.legend(labels = ('A', 'B'))\n",
    "plt.title('Распределение количества событий на одного пользователя')\n",
    "plt.show()"
   ]
  },
  {
   "cell_type": "markdown",
   "id": "efd23e51",
   "metadata": {},
   "source": [
    "На графике видим, что среднее число взаимодействий на одного пользователя у группы А больше, чем в группе В. Группы обладают различным распределением взаимодействий, и разными средним количеством событий на одного пользователя."
   ]
  },
  {
   "cell_type": "markdown",
   "id": "39932fde",
   "metadata": {},
   "source": [
    "- Распределение событий по датам:"
   ]
  },
  {
   "cell_type": "code",
   "execution_count": 88,
   "id": "95a9e390",
   "metadata": {},
   "outputs": [
    {
     "data": {
      "image/png": "[encoded data removed]",
      "text/plain": [
       "<Figure size 1500x800 with 1 Axes>"
      ]
     },
     "metadata": {},
     "output_type": "display_data"
    }
   ],
   "source": [
    "# подготовим сводную таблицу для грфиков\n",
    "data_date = data.pivot_table(index=['event_dt', 'group'], values='event_name', aggfunc='count').reset_index(level='group')\n",
    "# построим графики\n",
    "plt.figure(figsize=(15, 8))                                                                # создаём полотно графика\n",
    "plt.minorticks_on()                                                                        # включаем второстепенные деления сетки\n",
    "plt.grid(which = 'minor', linewidth = 1)                                                   # изменяем параметры второстепенной сетки\n",
    "plt.grid(which = 'major', linewidth = 2)                                                   # изменяем параметры основной сетки\n",
    "data_date[data_date['group'] == 'A']['event_name'].plot(label='Группа А', marker ='o')     # построим график для группы А \n",
    "data_date[data_date['group'] == 'B']['event_name'].plot(label='Группа В', marker ='o')     # построим график для группы В\n",
    "plt.legend()                                                                               # включаем блок с отображением надписей \n",
    "plt.title('Распределение событий по датам')\n",
    "plt.xlabel('Дата')\n",
    "plt.ylabel('Количество событий')\n",
    "plt.show()                                                                                 # выводим график на экран"
   ]
  },
  {
   "cell_type": "markdown",
   "id": "e1aabe29",
   "metadata": {},
   "source": [
    "На графике видим неравномерное распределение событий по датам в группах. В группе А наблюдается наибольшее количество событий 21 декабря. В группе В - распределение равномерное."
   ]
  },
  {
   "cell_type": "markdown",
   "id": "ab1bc976",
   "metadata": {},
   "source": [
    "### 5. Исследование конверсии в воронке на разных этапах"
   ]
  },
  {
   "cell_type": "code",
   "execution_count": 89,
   "id": "3ba56724",
   "metadata": {},
   "outputs": [],
   "source": [
    "# подготовим данные для создания воронки по группам для каждого события\n",
    "login_a = group_A.query('event_name == \"login\"')                        # отберём события со входом из таблицы группы А\n",
    "login_a_users = np.asarray(login_a['user_id'].unique())                 # конвертируем матрицу А в массив\n",
    "login_b = group_B.query('event_name == \"login\"')                        # отберём события со входом из таблицы группы B\n",
    "login_b_users = np.asarray(login_b['user_id'].unique())                 # конвертируем матрицу B в массив\n",
    "\n",
    "product_page_a = group_A.query('event_name == \"product_page\"')          # отберём события с просмотром карточки товара из таблицы группы А\n",
    "product_page_a_users = np.asarray(product_page_a['user_id'].unique())   # конвертируем матрицу А в массив\n",
    "product_page_b = group_B.query('event_name == \"product_page\"')          # отберём события с просмотром карточки товара из таблицы группы В\n",
    "product_page_b_users = np.asarray(product_page_b['user_id'].unique())   # конвертируем матрицу В в массив\n",
    "                                  \n",
    "product_cart_a = group_A.query('event_name == \"product_cart\"')          # отберём события с корзиной из таблицы группы А\n",
    "product_cart_a_users = np.asarray(product_cart_a['user_id'].unique())   # конвертируем матрицу А в массив\n",
    "product_cart_b = group_B.query('event_name == \"product_cart\"')          # отберём события с корзиной из таблицы группы В\n",
    "product_cart_b_users = np.asarray(product_cart_b['user_id'].unique())   # конвертируем матрицу В в массив\n",
    "                                  \n",
    "purchase_a = group_A.query('event_name == \"purchase\"')                  # отберём события с покупкой товара из таблицы группы А\n",
    "purchase_a_users = np.asarray(purchase_a['user_id'].unique())           # конвертируем матрицу А в массив\n",
    "purchase_b = group_B.query('event_name == \"purchase\"')                  # отберём события с покупкой товара из таблицы группы В\n",
    "purchase_b_users = np.asarray(purchase_b['user_id'].unique())           # конвертируем матрицу В в массив"
   ]
  },
  {
   "cell_type": "code",
   "execution_count": 90,
   "id": "b09eabf4",
   "metadata": {},
   "outputs": [
    {
     "data": {
      "application/vnd.plotly.v1+json": {
       "config": {
        "plotlyServerURL": "https://plot.ly"
       },
       "data": [
        {
         "marker": {
          "color": "orange"
         },
         "name": "Группа А",
         "type": "funnel",
         "x": [
          2604,
          1685,
          782,
          833
         ],
         "y": [
          "Вход в систему",
          "Просмотр карточек товаров",
          "Корзина",
          "Покупка"
         ]
        },
        {
         "marker": {
          "color": "green"
         },
         "name": "Группа В",
         "type": "funnel",
         "x": [
          876,
          493,
          244,
          249
         ],
         "y": [
          "Вход в систему",
          "Просмотр карточек товаров",
          "Корзина",
          "Покупка"
         ]
        }
       ],
       "layout": {
        "template": {
         "data": {
          "bar": [
           {
            "error_x": {
             "color": "#2a3f5f"
            },
            "error_y": {
             "color": "#2a3f5f"
            },
            "marker": {
             "line": {
              "color": "#E5ECF6",
              "width": 0.5
             },
             "pattern": {
              "fillmode": "overlay",
              "size": 10,
              "solidity": 0.2
             }
            },
            "type": "bar"
           }
          ],
          "barpolar": [
           {
            "marker": {
             "line": {
              "color": "#E5ECF6",
              "width": 0.5
             },
             "pattern": {
              "fillmode": "overlay",
              "size": 10,
              "solidity": 0.2
             }
            },
            "type": "barpolar"
           }
          ],
          "carpet": [
           {
            "aaxis": {
             "endlinecolor": "#2a3f5f",
             "gridcolor": "white",
             "linecolor": "white",
             "minorgridcolor": "white",
             "startlinecolor": "#2a3f5f"
            },
            "baxis": {
             "endlinecolor": "#2a3f5f",
             "gridcolor": "white",
             "linecolor": "white",
             "minorgridcolor": "white",
             "startlinecolor": "#2a3f5f"
            },
            "type": "carpet"
           }
          ],
          "choropleth": [
           {
            "colorbar": {
             "outlinewidth": 0,
             "ticks": ""
            },
            "type": "choropleth"
           }
          ],
          "contour": [
           {
            "colorbar": {
             "outlinewidth": 0,
             "ticks": ""
            },
            "colorscale": [
             [
              0,
              "#0d0887"
             ],
             [
              0.1111111111111111,
              "#46039f"
             ],
             [
              0.2222222222222222,
              "#7201a8"
             ],
             [
              0.3333333333333333,
              "#9c179e"
             ],
             [
              0.4444444444444444,
              "#bd3786"
             ],
             [
              0.5555555555555556,
              "#d8576b"
             ],
             [
              0.6666666666666666,
              "#ed7953"
             ],
             [
              0.7777777777777778,
              "#fb9f3a"
             ],
             [
              0.8888888888888888,
              "#fdca26"
             ],
             [
              1,
              "#f0f921"
             ]
            ],
            "type": "contour"
           }
          ],
          "contourcarpet": [
           {
            "colorbar": {
             "outlinewidth": 0,
             "ticks": ""
            },
            "type": "contourcarpet"
           }
          ],
          "heatmap": [
           {
            "colorbar": {
             "outlinewidth": 0,
             "ticks": ""
            },
            "colorscale": [
             [
              0,
              "#0d0887"
             ],
             [
              0.1111111111111111,
              "#46039f"
             ],
             [
              0.2222222222222222,
              "#7201a8"
             ],
             [
              0.3333333333333333,
              "#9c179e"
             ],
             [
              0.4444444444444444,
              "#bd3786"
             ],
             [
              0.5555555555555556,
              "#d8576b"
             ],
             [
              0.6666666666666666,
              "#ed7953"
             ],
             [
              0.7777777777777778,
              "#fb9f3a"
             ],
             [
              0.8888888888888888,
              "#fdca26"
             ],
             [
              1,
              "#f0f921"
             ]
            ],
            "type": "heatmap"
           }
          ],
          "heatmapgl": [
           {
            "colorbar": {
             "outlinewidth": 0,
             "ticks": ""
            },
            "colorscale": [
             [
              0,
              "#0d0887"
             ],
             [
              0.1111111111111111,
              "#46039f"
             ],
             [
              0.2222222222222222,
              "#7201a8"
             ],
             [
              0.3333333333333333,
              "#9c179e"
             ],
             [
              0.4444444444444444,
              "#bd3786"
             ],
             [
              0.5555555555555556,
              "#d8576b"
             ],
             [
              0.6666666666666666,
              "#ed7953"
             ],
             [
              0.7777777777777778,
              "#fb9f3a"
             ],
             [
              0.8888888888888888,
              "#fdca26"
             ],
             [
              1,
              "#f0f921"
             ]
            ],
            "type": "heatmapgl"
           }
          ],
          "histogram": [
           {
            "marker": {
             "pattern": {
              "fillmode": "overlay",
              "size": 10,
              "solidity": 0.2
             }
            },
            "type": "histogram"
           }
          ],
          "histogram2d": [
           {
            "colorbar": {
             "outlinewidth": 0,
             "ticks": ""
            },
            "colorscale": [
             [
              0,
              "#0d0887"
             ],
             [
              0.1111111111111111,
              "#46039f"
             ],
             [
              0.2222222222222222,
              "#7201a8"
             ],
             [
              0.3333333333333333,
              "#9c179e"
             ],
             [
              0.4444444444444444,
              "#bd3786"
             ],
             [
              0.5555555555555556,
              "#d8576b"
             ],
             [
              0.6666666666666666,
              "#ed7953"
             ],
             [
              0.7777777777777778,
              "#fb9f3a"
             ],
             [
              0.8888888888888888,
              "#fdca26"
             ],
             [
              1,
              "#f0f921"
             ]
            ],
            "type": "histogram2d"
           }
          ],
          "histogram2dcontour": [
           {
            "colorbar": {
             "outlinewidth": 0,
             "ticks": ""
            },
            "colorscale": [
             [
              0,
              "#0d0887"
             ],
             [
              0.1111111111111111,
              "#46039f"
             ],
             [
              0.2222222222222222,
              "#7201a8"
             ],
             [
              0.3333333333333333,
              "#9c179e"
             ],
             [
              0.4444444444444444,
              "#bd3786"
             ],
             [
              0.5555555555555556,
              "#d8576b"
             ],
             [
              0.6666666666666666,
              "#ed7953"
             ],
             [
              0.7777777777777778,
              "#fb9f3a"
             ],
             [
              0.8888888888888888,
              "#fdca26"
             ],
             [
              1,
              "#f0f921"
             ]
            ],
            "type": "histogram2dcontour"
           }
          ],
          "mesh3d": [
           {
            "colorbar": {
             "outlinewidth": 0,
             "ticks": ""
            },
            "type": "mesh3d"
           }
          ],
          "parcoords": [
           {
            "line": {
             "colorbar": {
              "outlinewidth": 0,
              "ticks": ""
             }
            },
            "type": "parcoords"
           }
          ],
          "pie": [
           {
            "automargin": true,
            "type": "pie"
           }
          ],
          "scatter": [
           {
            "fillpattern": {
             "fillmode": "overlay",
             "size": 10,
             "solidity": 0.2
            },
            "type": "scatter"
           }
          ],
          "scatter3d": [
           {
            "line": {
             "colorbar": {
              "outlinewidth": 0,
              "ticks": ""
             }
            },
            "marker": {
             "colorbar": {
              "outlinewidth": 0,
              "ticks": ""
             }
            },
            "type": "scatter3d"
           }
          ],
          "scattercarpet": [
           {
            "marker": {
             "colorbar": {
              "outlinewidth": 0,
              "ticks": ""
             }
            },
            "type": "scattercarpet"
           }
          ],
          "scattergeo": [
           {
            "marker": {
             "colorbar": {
              "outlinewidth": 0,
              "ticks": ""
             }
            },
            "type": "scattergeo"
           }
          ],
          "scattergl": [
           {
            "marker": {
             "colorbar": {
              "outlinewidth": 0,
              "ticks": ""
             }
            },
            "type": "scattergl"
           }
          ],
          "scattermapbox": [
           {
            "marker": {
             "colorbar": {
              "outlinewidth": 0,
              "ticks": ""
             }
            },
            "type": "scattermapbox"
           }
          ],
          "scatterpolar": [
           {
            "marker": {
             "colorbar": {
              "outlinewidth": 0,
              "ticks": ""
             }
            },
            "type": "scatterpolar"
           }
          ],
          "scatterpolargl": [
           {
            "marker": {
             "colorbar": {
              "outlinewidth": 0,
              "ticks": ""
             }
            },
            "type": "scatterpolargl"
           }
          ],
          "scatterternary": [
           {
            "marker": {
             "colorbar": {
              "outlinewidth": 0,
              "ticks": ""
             }
            },
            "type": "scatterternary"
           }
          ],
          "surface": [
           {
            "colorbar": {
             "outlinewidth": 0,
             "ticks": ""
            },
            "colorscale": [
             [
              0,
              "#0d0887"
             ],
             [
              0.1111111111111111,
              "#46039f"
             ],
             [
              0.2222222222222222,
              "#7201a8"
             ],
             [
              0.3333333333333333,
              "#9c179e"
             ],
             [
              0.4444444444444444,
              "#bd3786"
             ],
             [
              0.5555555555555556,
              "#d8576b"
             ],
             [
              0.6666666666666666,
              "#ed7953"
             ],
             [
              0.7777777777777778,
              "#fb9f3a"
             ],
             [
              0.8888888888888888,
              "#fdca26"
             ],
             [
              1,
              "#f0f921"
             ]
            ],
            "type": "surface"
           }
          ],
          "table": [
           {
            "cells": {
             "fill": {
              "color": "#EBF0F8"
             },
             "line": {
              "color": "white"
             }
            },
            "header": {
             "fill": {
              "color": "#C8D4E3"
             },
             "line": {
              "color": "white"
             }
            },
            "type": "table"
           }
          ]
         },
         "layout": {
          "annotationdefaults": {
           "arrowcolor": "#2a3f5f",
           "arrowhead": 0,
           "arrowwidth": 1
          },
          "autotypenumbers": "strict",
          "coloraxis": {
           "colorbar": {
            "outlinewidth": 0,
            "ticks": ""
           }
          },
          "colorscale": {
           "diverging": [
            [
             0,
             "#8e0152"
            ],
            [
             0.1,
             "#c51b7d"
            ],
            [
             0.2,
             "#de77ae"
            ],
            [
             0.3,
             "#f1b6da"
            ],
            [
             0.4,
             "#fde0ef"
            ],
            [
             0.5,
             "#f7f7f7"
            ],
            [
             0.6,
             "#e6f5d0"
            ],
            [
             0.7,
             "#b8e186"
            ],
            [
             0.8,
             "#7fbc41"
            ],
            [
             0.9,
             "#4d9221"
            ],
            [
             1,
             "#276419"
            ]
           ],
           "sequential": [
            [
             0,
             "#0d0887"
            ],
            [
             0.1111111111111111,
             "#46039f"
            ],
            [
             0.2222222222222222,
             "#7201a8"
            ],
            [
             0.3333333333333333,
             "#9c179e"
            ],
            [
             0.4444444444444444,
             "#bd3786"
            ],
            [
             0.5555555555555556,
             "#d8576b"
            ],
            [
             0.6666666666666666,
             "#ed7953"
            ],
            [
             0.7777777777777778,
             "#fb9f3a"
            ],
            [
             0.8888888888888888,
             "#fdca26"
            ],
            [
             1,
             "#f0f921"
            ]
           ],
           "sequentialminus": [
            [
             0,
             "#0d0887"
            ],
            [
             0.1111111111111111,
             "#46039f"
            ],
            [
             0.2222222222222222,
             "#7201a8"
            ],
            [
             0.3333333333333333,
             "#9c179e"
            ],
            [
             0.4444444444444444,
             "#bd3786"
            ],
            [
             0.5555555555555556,
             "#d8576b"
            ],
            [
             0.6666666666666666,
             "#ed7953"
            ],
            [
             0.7777777777777778,
             "#fb9f3a"
            ],
            [
             0.8888888888888888,
             "#fdca26"
            ],
            [
             1,
             "#f0f921"
            ]
           ]
          },
          "colorway": [
           "#636efa",
           "#EF553B",
           "#00cc96",
           "#ab63fa",
           "#FFA15A",
           "#19d3f3",
           "#FF6692",
           "#B6E880",
           "#FF97FF",
           "#FECB52"
          ],
          "font": {
           "color": "#2a3f5f"
          },
          "geo": {
           "bgcolor": "white",
           "lakecolor": "white",
           "landcolor": "#E5ECF6",
           "showlakes": true,
           "showland": true,
           "subunitcolor": "white"
          },
          "hoverlabel": {
           "align": "left"
          },
          "hovermode": "closest",
          "mapbox": {
           "style": "light"
          },
          "paper_bgcolor": "white",
          "plot_bgcolor": "#E5ECF6",
          "polar": {
           "angularaxis": {
            "gridcolor": "white",
            "linecolor": "white",
            "ticks": ""
           },
           "bgcolor": "#E5ECF6",
           "radialaxis": {
            "gridcolor": "white",
            "linecolor": "white",
            "ticks": ""
           }
          },
          "scene": {
           "xaxis": {
            "backgroundcolor": "#E5ECF6",
            "gridcolor": "white",
            "gridwidth": 2,
            "linecolor": "white",
            "showbackground": true,
            "ticks": "",
            "zerolinecolor": "white"
           },
           "yaxis": {
            "backgroundcolor": "#E5ECF6",
            "gridcolor": "white",
            "gridwidth": 2,
            "linecolor": "white",
            "showbackground": true,
            "ticks": "",
            "zerolinecolor": "white"
           },
           "zaxis": {
            "backgroundcolor": "#E5ECF6",
            "gridcolor": "white",
            "gridwidth": 2,
            "linecolor": "white",
            "showbackground": true,
            "ticks": "",
            "zerolinecolor": "white"
           }
          },
          "shapedefaults": {
           "line": {
            "color": "#2a3f5f"
           }
          },
          "ternary": {
           "aaxis": {
            "gridcolor": "white",
            "linecolor": "white",
            "ticks": ""
           },
           "baxis": {
            "gridcolor": "white",
            "linecolor": "white",
            "ticks": ""
           },
           "bgcolor": "#E5ECF6",
           "caxis": {
            "gridcolor": "white",
            "linecolor": "white",
            "ticks": ""
           }
          },
          "title": {
           "x": 0.05
          },
          "xaxis": {
           "automargin": true,
           "gridcolor": "white",
           "linecolor": "white",
           "ticks": "",
           "title": {
            "standoff": 15
           },
           "zerolinecolor": "white",
           "zerolinewidth": 2
          },
          "yaxis": {
           "automargin": true,
           "gridcolor": "white",
           "linecolor": "white",
           "ticks": "",
           "title": {
            "standoff": 15
           },
           "zerolinecolor": "white",
           "zerolinewidth": 2
          }
         }
        }
       }
      },
      "text/html": [
       "<div>                            <div id=\"a964fe37-3911-4d94-b423-ddfbbe22100c\" class=\"plotly-graph-div\" style=\"height:525px; width:100%;\"></div>            <script type=\"text/javascript\">                require([\"plotly\"], function(Plotly) {                    window.PLOTLYENV=window.PLOTLYENV || {};                                    if (document.getElementById(\"a964fe37-3911-4d94-b423-ddfbbe22100c\")) {                    Plotly.newPlot(                        \"a964fe37-3911-4d94-b423-ddfbbe22100c\",                        [{\"marker\":{\"color\":\"orange\"},\"name\":\"\\u0413\\u0440\\u0443\\u043f\\u043f\\u0430 \\u0410\",\"x\":[2604,1685,782,833],\"y\":[\"\\u0412\\u0445\\u043e\\u0434 \\u0432 \\u0441\\u0438\\u0441\\u0442\\u0435\\u043c\\u0443\",\"\\u041f\\u0440\\u043e\\u0441\\u043c\\u043e\\u0442\\u0440 \\u043a\\u0430\\u0440\\u0442\\u043e\\u0447\\u0435\\u043a \\u0442\\u043e\\u0432\\u0430\\u0440\\u043e\\u0432\",\"\\u041a\\u043e\\u0440\\u0437\\u0438\\u043d\\u0430\",\"\\u041f\\u043e\\u043a\\u0443\\u043f\\u043a\\u0430\"],\"type\":\"funnel\"},{\"marker\":{\"color\":\"green\"},\"name\":\"\\u0413\\u0440\\u0443\\u043f\\u043f\\u0430 \\u0412\",\"x\":[876,493,244,249],\"y\":[\"\\u0412\\u0445\\u043e\\u0434 \\u0432 \\u0441\\u0438\\u0441\\u0442\\u0435\\u043c\\u0443\",\"\\u041f\\u0440\\u043e\\u0441\\u043c\\u043e\\u0442\\u0440 \\u043a\\u0430\\u0440\\u0442\\u043e\\u0447\\u0435\\u043a \\u0442\\u043e\\u0432\\u0430\\u0440\\u043e\\u0432\",\"\\u041a\\u043e\\u0440\\u0437\\u0438\\u043d\\u0430\",\"\\u041f\\u043e\\u043a\\u0443\\u043f\\u043a\\u0430\"],\"type\":\"funnel\"}],                        {\"template\":{\"data\":{\"histogram2dcontour\":[{\"type\":\"histogram2dcontour\",\"colorbar\":{\"outlinewidth\":0,\"ticks\":\"\"},\"colorscale\":[[0.0,\"#0d0887\"],[0.1111111111111111,\"#46039f\"],[0.2222222222222222,\"#7201a8\"],[0.3333333333333333,\"#9c179e\"],[0.4444444444444444,\"#bd3786\"],[0.5555555555555556,\"#d8576b\"],[0.6666666666666666,\"#ed7953\"],[0.7777777777777778,\"#fb9f3a\"],[0.8888888888888888,\"#fdca26\"],[1.0,\"#f0f921\"]]}],\"choropleth\":[{\"type\":\"choropleth\",\"colorbar\":{\"outlinewidth\":0,\"ticks\":\"\"}}],\"histogram2d\":[{\"type\":\"histogram2d\",\"colorbar\":{\"outlinewidth\":0,\"ticks\":\"\"},\"colorscale\":[[0.0,\"#0d0887\"],[0.1111111111111111,\"#46039f\"],[0.2222222222222222,\"#7201a8\"],[0.3333333333333333,\"#9c179e\"],[0.4444444444444444,\"#bd3786\"],[0.5555555555555556,\"#d8576b\"],[0.6666666666666666,\"#ed7953\"],[0.7777777777777778,\"#fb9f3a\"],[0.8888888888888888,\"#fdca26\"],[1.0,\"#f0f921\"]]}],\"heatmap\":[{\"type\":\"heatmap\",\"colorbar\":{\"outlinewidth\":0,\"ticks\":\"\"},\"colorscale\":[[0.0,\"#0d0887\"],[0.1111111111111111,\"#46039f\"],[0.2222222222222222,\"#7201a8\"],[0.3333333333333333,\"#9c179e\"],[0.4444444444444444,\"#bd3786\"],[0.5555555555555556,\"#d8576b\"],[0.6666666666666666,\"#ed7953\"],[0.7777777777777778,\"#fb9f3a\"],[0.8888888888888888,\"#fdca26\"],[1.0,\"#f0f921\"]]}],\"heatmapgl\":[{\"type\":\"heatmapgl\",\"colorbar\":{\"outlinewidth\":0,\"ticks\":\"\"},\"colorscale\":[[0.0,\"#0d0887\"],[0.1111111111111111,\"#46039f\"],[0.2222222222222222,\"#7201a8\"],[0.3333333333333333,\"#9c179e\"],[0.4444444444444444,\"#bd3786\"],[0.5555555555555556,\"#d8576b\"],[0.6666666666666666,\"#ed7953\"],[0.7777777777777778,\"#fb9f3a\"],[0.8888888888888888,\"#fdca26\"],[1.0,\"#f0f921\"]]}],\"contourcarpet\":[{\"type\":\"contourcarpet\",\"colorbar\":{\"outlinewidth\":0,\"ticks\":\"\"}}],\"contour\":[{\"type\":\"contour\",\"colorbar\":{\"outlinewidth\":0,\"ticks\":\"\"},\"colorscale\":[[0.0,\"#0d0887\"],[0.1111111111111111,\"#46039f\"],[0.2222222222222222,\"#7201a8\"],[0.3333333333333333,\"#9c179e\"],[0.4444444444444444,\"#bd3786\"],[0.5555555555555556,\"#d8576b\"],[0.6666666666666666,\"#ed7953\"],[0.7777777777777778,\"#fb9f3a\"],[0.8888888888888888,\"#fdca26\"],[1.0,\"#f0f921\"]]}],\"surface\":[{\"type\":\"surface\",\"colorbar\":{\"outlinewidth\":0,\"ticks\":\"\"},\"colorscale\":[[0.0,\"#0d0887\"],[0.1111111111111111,\"#46039f\"],[0.2222222222222222,\"#7201a8\"],[0.3333333333333333,\"#9c179e\"],[0.4444444444444444,\"#bd3786\"],[0.5555555555555556,\"#d8576b\"],[0.6666666666666666,\"#ed7953\"],[0.7777777777777778,\"#fb9f3a\"],[0.8888888888888888,\"#fdca26\"],[1.0,\"#f0f921\"]]}],\"mesh3d\":[{\"type\":\"mesh3d\",\"colorbar\":{\"outlinewidth\":0,\"ticks\":\"\"}}],\"scatter\":[{\"fillpattern\":{\"fillmode\":\"overlay\",\"size\":10,\"solidity\":0.2},\"type\":\"scatter\"}],\"parcoords\":[{\"type\":\"parcoords\",\"line\":{\"colorbar\":{\"outlinewidth\":0,\"ticks\":\"\"}}}],\"scatterpolargl\":[{\"type\":\"scatterpolargl\",\"marker\":{\"colorbar\":{\"outlinewidth\":0,\"ticks\":\"\"}}}],\"bar\":[{\"error_x\":{\"color\":\"#2a3f5f\"},\"error_y\":{\"color\":\"#2a3f5f\"},\"marker\":{\"line\":{\"color\":\"#E5ECF6\",\"width\":0.5},\"pattern\":{\"fillmode\":\"overlay\",\"size\":10,\"solidity\":0.2}},\"type\":\"bar\"}],\"scattergeo\":[{\"type\":\"scattergeo\",\"marker\":{\"colorbar\":{\"outlinewidth\":0,\"ticks\":\"\"}}}],\"scatterpolar\":[{\"type\":\"scatterpolar\",\"marker\":{\"colorbar\":{\"outlinewidth\":0,\"ticks\":\"\"}}}],\"histogram\":[{\"marker\":{\"pattern\":{\"fillmode\":\"overlay\",\"size\":10,\"solidity\":0.2}},\"type\":\"histogram\"}],\"scattergl\":[{\"type\":\"scattergl\",\"marker\":{\"colorbar\":{\"outlinewidth\":0,\"ticks\":\"\"}}}],\"scatter3d\":[{\"type\":\"scatter3d\",\"line\":{\"colorbar\":{\"outlinewidth\":0,\"ticks\":\"\"}},\"marker\":{\"colorbar\":{\"outlinewidth\":0,\"ticks\":\"\"}}}],\"scattermapbox\":[{\"type\":\"scattermapbox\",\"marker\":{\"colorbar\":{\"outlinewidth\":0,\"ticks\":\"\"}}}],\"scatterternary\":[{\"type\":\"scatterternary\",\"marker\":{\"colorbar\":{\"outlinewidth\":0,\"ticks\":\"\"}}}],\"scattercarpet\":[{\"type\":\"scattercarpet\",\"marker\":{\"colorbar\":{\"outlinewidth\":0,\"ticks\":\"\"}}}],\"carpet\":[{\"aaxis\":{\"endlinecolor\":\"#2a3f5f\",\"gridcolor\":\"white\",\"linecolor\":\"white\",\"minorgridcolor\":\"white\",\"startlinecolor\":\"#2a3f5f\"},\"baxis\":{\"endlinecolor\":\"#2a3f5f\",\"gridcolor\":\"white\",\"linecolor\":\"white\",\"minorgridcolor\":\"white\",\"startlinecolor\":\"#2a3f5f\"},\"type\":\"carpet\"}],\"table\":[{\"cells\":{\"fill\":{\"color\":\"#EBF0F8\"},\"line\":{\"color\":\"white\"}},\"header\":{\"fill\":{\"color\":\"#C8D4E3\"},\"line\":{\"color\":\"white\"}},\"type\":\"table\"}],\"barpolar\":[{\"marker\":{\"line\":{\"color\":\"#E5ECF6\",\"width\":0.5},\"pattern\":{\"fillmode\":\"overlay\",\"size\":10,\"solidity\":0.2}},\"type\":\"barpolar\"}],\"pie\":[{\"automargin\":true,\"type\":\"pie\"}]},\"layout\":{\"autotypenumbers\":\"strict\",\"colorway\":[\"#636efa\",\"#EF553B\",\"#00cc96\",\"#ab63fa\",\"#FFA15A\",\"#19d3f3\",\"#FF6692\",\"#B6E880\",\"#FF97FF\",\"#FECB52\"],\"font\":{\"color\":\"#2a3f5f\"},\"hovermode\":\"closest\",\"hoverlabel\":{\"align\":\"left\"},\"paper_bgcolor\":\"white\",\"plot_bgcolor\":\"#E5ECF6\",\"polar\":{\"bgcolor\":\"#E5ECF6\",\"angularaxis\":{\"gridcolor\":\"white\",\"linecolor\":\"white\",\"ticks\":\"\"},\"radialaxis\":{\"gridcolor\":\"white\",\"linecolor\":\"white\",\"ticks\":\"\"}},\"ternary\":{\"bgcolor\":\"#E5ECF6\",\"aaxis\":{\"gridcolor\":\"white\",\"linecolor\":\"white\",\"ticks\":\"\"},\"baxis\":{\"gridcolor\":\"white\",\"linecolor\":\"white\",\"ticks\":\"\"},\"caxis\":{\"gridcolor\":\"white\",\"linecolor\":\"white\",\"ticks\":\"\"}},\"coloraxis\":{\"colorbar\":{\"outlinewidth\":0,\"ticks\":\"\"}},\"colorscale\":{\"sequential\":[[0.0,\"#0d0887\"],[0.1111111111111111,\"#46039f\"],[0.2222222222222222,\"#7201a8\"],[0.3333333333333333,\"#9c179e\"],[0.4444444444444444,\"#bd3786\"],[0.5555555555555556,\"#d8576b\"],[0.6666666666666666,\"#ed7953\"],[0.7777777777777778,\"#fb9f3a\"],[0.8888888888888888,\"#fdca26\"],[1.0,\"#f0f921\"]],\"sequentialminus\":[[0.0,\"#0d0887\"],[0.1111111111111111,\"#46039f\"],[0.2222222222222222,\"#7201a8\"],[0.3333333333333333,\"#9c179e\"],[0.4444444444444444,\"#bd3786\"],[0.5555555555555556,\"#d8576b\"],[0.6666666666666666,\"#ed7953\"],[0.7777777777777778,\"#fb9f3a\"],[0.8888888888888888,\"#fdca26\"],[1.0,\"#f0f921\"]],\"diverging\":[[0,\"#8e0152\"],[0.1,\"#c51b7d\"],[0.2,\"#de77ae\"],[0.3,\"#f1b6da\"],[0.4,\"#fde0ef\"],[0.5,\"#f7f7f7\"],[0.6,\"#e6f5d0\"],[0.7,\"#b8e186\"],[0.8,\"#7fbc41\"],[0.9,\"#4d9221\"],[1,\"#276419\"]]},\"xaxis\":{\"gridcolor\":\"white\",\"linecolor\":\"white\",\"ticks\":\"\",\"title\":{\"standoff\":15},\"zerolinecolor\":\"white\",\"automargin\":true,\"zerolinewidth\":2},\"yaxis\":{\"gridcolor\":\"white\",\"linecolor\":\"white\",\"ticks\":\"\",\"title\":{\"standoff\":15},\"zerolinecolor\":\"white\",\"automargin\":true,\"zerolinewidth\":2},\"scene\":{\"xaxis\":{\"backgroundcolor\":\"#E5ECF6\",\"gridcolor\":\"white\",\"linecolor\":\"white\",\"showbackground\":true,\"ticks\":\"\",\"zerolinecolor\":\"white\",\"gridwidth\":2},\"yaxis\":{\"backgroundcolor\":\"#E5ECF6\",\"gridcolor\":\"white\",\"linecolor\":\"white\",\"showbackground\":true,\"ticks\":\"\",\"zerolinecolor\":\"white\",\"gridwidth\":2},\"zaxis\":{\"backgroundcolor\":\"#E5ECF6\",\"gridcolor\":\"white\",\"linecolor\":\"white\",\"showbackground\":true,\"ticks\":\"\",\"zerolinecolor\":\"white\",\"gridwidth\":2}},\"shapedefaults\":{\"line\":{\"color\":\"#2a3f5f\"}},\"annotationdefaults\":{\"arrowcolor\":\"#2a3f5f\",\"arrowhead\":0,\"arrowwidth\":1},\"geo\":{\"bgcolor\":\"white\",\"landcolor\":\"#E5ECF6\",\"subunitcolor\":\"white\",\"showland\":true,\"showlakes\":true,\"lakecolor\":\"white\"},\"title\":{\"x\":0.05},\"mapbox\":{\"style\":\"light\"}}}},                        {\"responsive\": true}                    ).then(function(){\n",
       "                            \n",
       "var gd = document.getElementById('a964fe37-3911-4d94-b423-ddfbbe22100c');\n",
       "var x = new MutationObserver(function (mutations, observer) {{\n",
       "        var display = window.getComputedStyle(gd).display;\n",
       "        if (!display || display === 'none') {{\n",
       "            console.log([gd, 'removed!']);\n",
       "            Plotly.purge(gd);\n",
       "            observer.disconnect();\n",
       "        }}\n",
       "}});\n",
       "\n",
       "// Listen for the removal of the full notebook cells\n",
       "var notebookContainer = gd.closest('#notebook-container');\n",
       "if (notebookContainer) {{\n",
       "    x.observe(notebookContainer, {childList: true});\n",
       "}}\n",
       "\n",
       "// Listen for the clearing of the current output cell\n",
       "var outputEl = gd.closest('.output');\n",
       "if (outputEl) {{\n",
       "    x.observe(outputEl, {childList: true});\n",
       "}}\n",
       "\n",
       "                        })                };                });            </script>        </div>"
      ]
     },
     "metadata": {},
     "output_type": "display_data"
    }
   ],
   "source": [
    "# построим воронку событий с разделением по группам\n",
    "fig = go.Figure()\n",
    "\n",
    "fig.add_trace(go.Funnel(\n",
    "    name = 'Группа А',\n",
    "    y=['Вход в систему', 'Просмотр карточек товаров', 'Корзина', 'Покупка'],\n",
    "    x=[len(login_a_users), len(product_page_a_users), len(product_cart_a_users), len(purchase_a_users)], \n",
    "    marker={'color':'orange'}))\n",
    "\n",
    "fig.add_trace(go.Funnel(\n",
    "    name = 'Группа В',\n",
    "    y=['Вход в систему', 'Просмотр карточек товаров', 'Корзина', 'Покупка'],\n",
    "    x=[len(login_b_users), len(product_page_b_users), len(product_cart_b_users), len(purchase_b_users)], \n",
    "    marker={'color':'green'}))\n",
    "# выводим воронку на экран\n",
    "fig.show()"
   ]
  },
  {
   "cell_type": "markdown",
   "id": "783594bd",
   "metadata": {},
   "source": [
    "Все пользователи из групп А и В совершили вход в систему это 100%. Просмотр карточек товаров из группы А совершили 64,8%, из группы В 56,4%. В корзину перешли 30% и 27,5%. Покупку А - 331,7%, В - 27,6% от общего числа соответственно.\n",
    "\n",
    "Пользователи в обоих группах иногда покупают прямо со страницы товара, обходя шаг с просмотром корзины."
   ]
  },
  {
   "cell_type": "markdown",
   "id": "d270d0c2",
   "metadata": {},
   "source": [
    "###  6. A/B-тестирование"
   ]
  },
  {
   "cell_type": "markdown",
   "id": "d38c221d",
   "metadata": {},
   "source": [
    "Проверим статистическую разницу долей `z-критерием`:\n",
    "\n",
    "- ожидаемый эффект: за 14 дней с момента регистрации пользователи покажут улучшение каждой метрики не менее, чем на 10%:\n",
    "    - конверсии в просмотр карточек товаров — событие `product_page`,\n",
    "    - просмотры корзины — `product_cart`,\n",
    "    - покупки — `purchase`."
   ]
  },
  {
   "cell_type": "code",
   "execution_count": 91,
   "id": "27983383",
   "metadata": {},
   "outputs": [],
   "source": [
    "alpha = 0.05 # критический уровень статистической значимости\n",
    "\n",
    "def z_test(successes, trials): \n",
    "    # пропорция успехов в первой группе:\n",
    "    p1 = successes[0]/trials[0]\n",
    "    # пропорция успехов во второй группе:\n",
    "    p2 = successes[1]/trials[1]\n",
    "    # пропорция успехов в комбинированном датасете:\n",
    "    p_combined = (successes[0] + successes[1]) / (trials[0] + trials[1])\n",
    "    # разница пропорций в датасетах\n",
    "    difference = p1 - p2 \n",
    "    # считаем статистику в ст.отклонениях стандартного нормального распределения\n",
    "    z_value = difference / mth.sqrt(p_combined * (1 - p_combined) * (1/trials[0] + 1/trials[1]))\n",
    "    # задаем стандартное нормальное распределение (среднее 0, ст.отклонение 1)\n",
    "    distr = st.norm(0, 1)\n",
    "    p_value = (1 - distr.cdf(abs(z_value))) * 2\n",
    "    print('p-значение: ', p_value)\n",
    "    if p_value < alpha:\n",
    "        print('Отвергаем нулевую гипотезу: между выборками есть значимая разница')\n",
    "    else:\n",
    "        print('Не получилось отвергнуть нулевую гипотезу, нет оснований считать выборки разными')"
   ]
  },
  {
   "cell_type": "markdown",
   "id": "14cae594",
   "metadata": {},
   "source": [
    "- Проведём тест на проверку гипотезы о равенстве долей:\n",
    "\n",
    "**Нулевая гипотеза H0**: конверсии из шага в шаг в выборках равны\n",
    "\n",
    "**Альтернативная гипотезаH1**: конверсии из шага в шаг в выборках разные"
   ]
  },
  {
   "cell_type": "code",
   "execution_count": 92,
   "id": "3cf1bec0",
   "metadata": {},
   "outputs": [
    {
     "name": "stdout",
     "output_type": "stream",
     "text": [
      "p-значение:  8.195976000324734e-06\n",
      "Отвергаем нулевую гипотезу: между выборками есть значимая разница\n"
     ]
    }
   ],
   "source": [
    "# расчитаем p-значение для события просмотра карточек\n",
    "successes_page = np.array([len(product_page_a_users), len(product_page_b_users)])\n",
    "trials_page = np.array([len(login_a_users), len(login_b_users)])\n",
    "z_test(successes_page, trials_page)"
   ]
  },
  {
   "cell_type": "code",
   "execution_count": 93,
   "id": "3476c4c9",
   "metadata": {},
   "outputs": [
    {
     "name": "stdout",
     "output_type": "stream",
     "text": [
      "p-значение:  0.2276722007959906\n",
      "Не получилось отвергнуть нулевую гипотезу, нет оснований считать выборки разными\n"
     ]
    }
   ],
   "source": [
    "# расчитаем p-значение для события корзина\n",
    "successes_cart = np.array([len(product_cart_a_users), len(product_cart_b_users)])\n",
    "trials_cart = np.array([len(product_page_a_users), len(product_page_b_users)])\n",
    "z_test(successes_cart, trials_cart)"
   ]
  },
  {
   "cell_type": "code",
   "execution_count": 94,
   "id": "54a14617",
   "metadata": {},
   "outputs": [
    {
     "name": "stdout",
     "output_type": "stream",
     "text": [
      "p-значение:  0.6757323469354453\n",
      "Не получилось отвергнуть нулевую гипотезу, нет оснований считать выборки разными\n"
     ]
    }
   ],
   "source": [
    "# расчитаем p-значение для события покупка товара\n",
    "successes_purchase = np.array([len(purchase_a_users), len(purchase_b_users)])\n",
    "trials_purchase = np.array([len(product_page_a_users), len(product_page_b_users)])\n",
    "z_test(successes_purchase, trials_purchase)"
   ]
  },
  {
   "cell_type": "markdown",
   "id": "89387e55",
   "metadata": {},
   "source": [
    "Конверсия с первой страницы со входом в событие просомтра карточек товаров между группами А и В отличается. В последующих шагах конверсия между выборками не имеет статистических отличий."
   ]
  },
  {
   "cell_type": "markdown",
   "id": "913a6f3f",
   "metadata": {},
   "source": [
    "Ожидаемый эффект: за 14 дней с момента регистрации пользователи не показали улучшение каждой метрики не менее, чем на 10%. Это связано:\n",
    "1. С разным количеством пользователей в группах;\n",
    "2. Разное распределение количества событий в группах;\n",
    "3. Ожидаемое количество участников теста не соотвествует ТЗ (3675 активных пользователей из необходимых 6000)"
   ]
  },
  {
   "cell_type": "markdown",
   "id": "d130682e",
   "metadata": {},
   "source": [
    "## 7. Общий вывод:"
   ]
  },
  {
   "cell_type": "markdown",
   "id": "a67f8638",
   "metadata": {},
   "source": [
    "Корректность проведения теста можно оценить как не очень высокую.\n",
    "- Ожидаемое количество участников теста не соотвествует ТЗ (3675 активных пользователей из необходимых 6000);\n",
    "- Распределение пользователей по группам неравномерное, группа А в полтора раза больше В;\n",
    "- Во время набора пользователей на тест проходили 2 маркетинговых мероприятия в период с 25 декабря до 3 января - рождественское и новогоднее промо в Европе и Североной Америке. И новогодняя лотерея в СНГ. Возможно, эти акции повлияли на активность пользователей в последнюю неделю теста;\n",
    "- События в собранных данных обрываются раньше озвученного окончания теста, т.е. с 29 декабря 2020 года, скорее всего произошел какой-то сбой в записи событий и убрали их.\n",
    "\n",
    "Таким образом, условия, указанные в техническом задании, не выполнены.\n",
    "\n",
    "Кроме того, пользователи, попавшие в разные группы, проявляют разную активность в приложении, в группе B пользователи совершают меньше действий, чем в группе А. По конверсии на каждом этапе группа B заметно проигрывает группе А. Статистические значимые различия между группами есть только на этапе просмотров карточек товаров, а при просмотре корзины и при покупках статистически значимых различий нет. Таким образом, можно сделать вывод, что ожидаемого эффекта улучшенная рекомендательная система не достигла."
   ]
  },
  {
   "cell_type": "markdown",
   "id": "6f11538f",
   "metadata": {},
   "source": [
    "**Примечание**: \n",
    "\n",
    "Можно было бы сравнять группу А и В по количеству пользователей для `повторного` А/В анализа, но распределение событий в группе А не позволяют это сделать."
   ]
  },
  {
   "cell_type": "markdown",
   "id": "aa64be54",
   "metadata": {},
   "source": [
    "**Рекомендации:** \n",
    "\n",
    "Так как условия ТЗ не выполнены в полном объёме, то тестирование нельзя считать корректным, его необходимо провести на новых данных."
   ]
  }
 ],
 "metadata": {
  "ExecuteTimeLog": [
   {
    "duration": 1627,
    "start_time": "2023-06-26T11:29:03.965Z"
   },
   {
    "duration": 2248,
    "start_time": "2023-06-26T11:29:05.594Z"
   },
   {
    "duration": 5,
    "start_time": "2023-06-26T11:29:07.844Z"
   },
   {
    "duration": 51,
    "start_time": "2023-06-26T11:29:07.851Z"
   },
   {
    "duration": 5,
    "start_time": "2023-06-26T11:29:07.904Z"
   },
   {
    "duration": 226,
    "start_time": "2023-06-26T11:29:07.912Z"
   },
   {
    "duration": 4,
    "start_time": "2023-06-26T11:29:08.140Z"
   },
   {
    "duration": 953,
    "start_time": "2023-06-26T11:29:08.146Z"
   },
   {
    "duration": 4,
    "start_time": "2023-06-26T11:29:09.101Z"
   },
   {
    "duration": 89,
    "start_time": "2023-06-26T11:29:09.107Z"
   },
   {
    "duration": 128,
    "start_time": "2023-06-26T11:29:09.198Z"
   },
   {
    "duration": 72,
    "start_time": "2023-06-26T11:29:09.328Z"
   },
   {
    "duration": 8,
    "start_time": "2023-06-26T11:29:09.403Z"
   },
   {
    "duration": 186,
    "start_time": "2023-06-26T11:29:09.415Z"
   },
   {
    "duration": 2254,
    "start_time": "2023-06-26T11:29:09.603Z"
   },
   {
    "duration": 33,
    "start_time": "2023-06-26T11:29:11.859Z"
   },
   {
    "duration": 406,
    "start_time": "2023-06-26T11:29:11.894Z"
   },
   {
    "duration": 168,
    "start_time": "2023-06-26T11:29:12.302Z"
   },
   {
    "duration": 10,
    "start_time": "2023-06-26T11:29:12.472Z"
   },
   {
    "duration": 10,
    "start_time": "2023-06-26T11:29:12.483Z"
   },
   {
    "duration": 32,
    "start_time": "2023-06-26T11:29:12.495Z"
   },
   {
    "duration": 8,
    "start_time": "2023-06-26T11:29:12.529Z"
   },
   {
    "duration": 13,
    "start_time": "2023-06-26T11:29:12.568Z"
   },
   {
    "duration": 29,
    "start_time": "2023-06-26T11:29:12.583Z"
   },
   {
    "duration": 4,
    "start_time": "2023-06-26T11:29:12.614Z"
   },
   {
    "duration": 27,
    "start_time": "2023-06-26T11:29:12.620Z"
   },
   {
    "duration": 37,
    "start_time": "2023-06-26T11:29:12.668Z"
   },
   {
    "duration": 13,
    "start_time": "2023-06-26T11:29:12.707Z"
   },
   {
    "duration": 401,
    "start_time": "2023-06-26T11:29:12.721Z"
   },
   {
    "duration": 13,
    "start_time": "2023-06-26T11:29:13.124Z"
   },
   {
    "duration": 46,
    "start_time": "2023-06-26T11:29:13.139Z"
   },
   {
    "duration": 177,
    "start_time": "2023-06-26T11:29:13.188Z"
   },
   {
    "duration": 9,
    "start_time": "2023-06-26T11:29:13.367Z"
   },
   {
    "duration": 40,
    "start_time": "2023-06-26T11:29:13.378Z"
   },
   {
    "duration": 83,
    "start_time": "2023-06-26T11:29:13.420Z"
   },
   {
    "duration": 303,
    "start_time": "2023-06-26T11:29:13.505Z"
   },
   {
    "duration": 523,
    "start_time": "2023-06-26T11:29:13.810Z"
   },
   {
    "duration": 75,
    "start_time": "2023-06-26T11:29:14.335Z"
   },
   {
    "duration": 434,
    "start_time": "2023-06-26T11:29:14.411Z"
   },
   {
    "duration": 7,
    "start_time": "2023-06-26T11:29:14.847Z"
   },
   {
    "duration": 16,
    "start_time": "2023-06-26T11:29:14.857Z"
   },
   {
    "duration": 19,
    "start_time": "2023-06-26T11:29:14.876Z"
   },
   {
    "duration": 19,
    "start_time": "2023-06-26T11:29:14.897Z"
   },
   {
    "duration": 1114,
    "start_time": "2023-06-26T21:38:37.947Z"
   },
   {
    "duration": 951,
    "start_time": "2023-06-26T21:38:39.063Z"
   },
   {
    "duration": 4,
    "start_time": "2023-06-26T21:38:40.015Z"
   },
   {
    "duration": 65,
    "start_time": "2023-06-26T21:38:40.021Z"
   },
   {
    "duration": 4,
    "start_time": "2023-06-26T21:38:40.089Z"
   },
   {
    "duration": 187,
    "start_time": "2023-06-26T21:38:40.094Z"
   },
   {
    "duration": 4,
    "start_time": "2023-06-26T21:38:40.283Z"
   },
   {
    "duration": 932,
    "start_time": "2023-06-26T21:38:40.301Z"
   },
   {
    "duration": 4,
    "start_time": "2023-06-26T21:38:41.235Z"
   },
   {
    "duration": 77,
    "start_time": "2023-06-26T21:38:41.241Z"
   },
   {
    "duration": 115,
    "start_time": "2023-06-26T21:38:41.320Z"
   },
   {
    "duration": 66,
    "start_time": "2023-06-26T21:38:41.437Z"
   },
   {
    "duration": 7,
    "start_time": "2023-06-26T21:38:41.504Z"
   },
   {
    "duration": 173,
    "start_time": "2023-06-26T21:38:41.514Z"
   },
   {
    "duration": 2137,
    "start_time": "2023-06-26T21:38:41.689Z"
   },
   {
    "duration": 28,
    "start_time": "2023-06-26T21:38:43.828Z"
   },
   {
    "duration": 289,
    "start_time": "2023-06-26T21:38:43.858Z"
   },
   {
    "duration": 133,
    "start_time": "2023-06-26T21:38:44.148Z"
   },
   {
    "duration": 20,
    "start_time": "2023-06-26T21:38:44.282Z"
   },
   {
    "duration": 8,
    "start_time": "2023-06-26T21:38:44.303Z"
   },
   {
    "duration": 27,
    "start_time": "2023-06-26T21:38:44.313Z"
   },
   {
    "duration": 6,
    "start_time": "2023-06-26T21:38:44.342Z"
   },
   {
    "duration": 16,
    "start_time": "2023-06-26T21:38:44.349Z"
   },
   {
    "duration": 53,
    "start_time": "2023-06-26T21:38:44.366Z"
   },
   {
    "duration": 3,
    "start_time": "2023-06-26T21:38:44.421Z"
   },
   {
    "duration": 13,
    "start_time": "2023-06-26T21:38:44.425Z"
   },
   {
    "duration": 23,
    "start_time": "2023-06-26T21:38:44.440Z"
   },
   {
    "duration": 9,
    "start_time": "2023-06-26T21:38:44.465Z"
   },
   {
    "duration": 319,
    "start_time": "2023-06-26T21:38:44.476Z"
   },
   {
    "duration": 19,
    "start_time": "2023-06-26T21:38:44.796Z"
   },
   {
    "duration": 24,
    "start_time": "2023-06-26T21:38:44.817Z"
   },
   {
    "duration": 159,
    "start_time": "2023-06-26T21:38:44.843Z"
   },
   {
    "duration": 8,
    "start_time": "2023-06-26T21:38:45.004Z"
   },
   {
    "duration": 39,
    "start_time": "2023-06-26T21:38:45.014Z"
   },
   {
    "duration": 71,
    "start_time": "2023-06-26T21:38:45.055Z"
   },
   {
    "duration": 276,
    "start_time": "2023-06-26T21:38:45.128Z"
   },
   {
    "duration": 370,
    "start_time": "2023-06-26T21:38:45.406Z"
   },
   {
    "duration": 51,
    "start_time": "2023-06-26T21:38:45.778Z"
   },
   {
    "duration": 309,
    "start_time": "2023-06-26T21:38:45.831Z"
   },
   {
    "duration": 6,
    "start_time": "2023-06-26T21:38:46.142Z"
   },
   {
    "duration": 51,
    "start_time": "2023-06-26T21:38:46.152Z"
   },
   {
    "duration": 9,
    "start_time": "2023-06-26T21:38:46.205Z"
   },
   {
    "duration": 8,
    "start_time": "2023-06-26T21:38:46.216Z"
   },
   {
    "duration": 1240,
    "start_time": "2023-06-28T22:22:29.472Z"
   },
   {
    "duration": 1848,
    "start_time": "2023-06-28T22:22:30.714Z"
   },
   {
    "duration": 3,
    "start_time": "2023-06-28T22:22:32.564Z"
   },
   {
    "duration": 108,
    "start_time": "2023-06-28T22:22:32.571Z"
   },
   {
    "duration": 42,
    "start_time": "2023-06-28T22:22:32.681Z"
   },
   {
    "duration": 243,
    "start_time": "2023-06-28T22:22:32.725Z"
   },
   {
    "duration": 16,
    "start_time": "2023-06-28T22:22:32.970Z"
   },
   {
    "duration": 1032,
    "start_time": "2023-06-28T22:22:32.988Z"
   },
   {
    "duration": 5,
    "start_time": "2023-06-28T22:22:34.021Z"
   },
   {
    "duration": 108,
    "start_time": "2023-06-28T22:22:34.029Z"
   },
   {
    "duration": 119,
    "start_time": "2023-06-28T22:22:34.138Z"
   },
   {
    "duration": 80,
    "start_time": "2023-06-28T22:22:34.259Z"
   },
   {
    "duration": 6,
    "start_time": "2023-06-28T22:22:34.341Z"
   },
   {
    "duration": 187,
    "start_time": "2023-06-28T22:22:34.369Z"
   },
   {
    "duration": 2161,
    "start_time": "2023-06-28T22:22:34.557Z"
   },
   {
    "duration": 34,
    "start_time": "2023-06-28T22:22:36.719Z"
   },
   {
    "duration": 327,
    "start_time": "2023-06-28T22:22:36.755Z"
   },
   {
    "duration": 340,
    "start_time": "2023-06-28T22:22:37.089Z"
   },
   {
    "duration": 13,
    "start_time": "2023-06-28T22:22:37.431Z"
   },
   {
    "duration": 382,
    "start_time": "2023-06-28T22:22:37.446Z"
   },
   {
    "duration": 0,
    "start_time": "2023-06-28T22:22:37.830Z"
   },
   {
    "duration": 0,
    "start_time": "2023-06-28T22:22:37.831Z"
   },
   {
    "duration": 0,
    "start_time": "2023-06-28T22:22:37.832Z"
   },
   {
    "duration": 0,
    "start_time": "2023-06-28T22:22:37.833Z"
   },
   {
    "duration": 0,
    "start_time": "2023-06-28T22:22:37.834Z"
   },
   {
    "duration": 0,
    "start_time": "2023-06-28T22:22:37.835Z"
   },
   {
    "duration": 0,
    "start_time": "2023-06-28T22:22:37.836Z"
   },
   {
    "duration": 0,
    "start_time": "2023-06-28T22:22:37.837Z"
   },
   {
    "duration": 0,
    "start_time": "2023-06-28T22:22:37.837Z"
   },
   {
    "duration": 0,
    "start_time": "2023-06-28T22:22:37.839Z"
   },
   {
    "duration": 0,
    "start_time": "2023-06-28T22:22:37.840Z"
   },
   {
    "duration": 0,
    "start_time": "2023-06-28T22:22:37.841Z"
   },
   {
    "duration": 0,
    "start_time": "2023-06-28T22:22:37.842Z"
   },
   {
    "duration": 0,
    "start_time": "2023-06-28T22:22:37.872Z"
   },
   {
    "duration": 0,
    "start_time": "2023-06-28T22:22:37.873Z"
   },
   {
    "duration": 0,
    "start_time": "2023-06-28T22:22:37.874Z"
   },
   {
    "duration": 0,
    "start_time": "2023-06-28T22:22:37.875Z"
   },
   {
    "duration": 0,
    "start_time": "2023-06-28T22:22:37.877Z"
   },
   {
    "duration": 0,
    "start_time": "2023-06-28T22:22:37.878Z"
   },
   {
    "duration": 0,
    "start_time": "2023-06-28T22:22:37.880Z"
   },
   {
    "duration": 0,
    "start_time": "2023-06-28T22:22:37.883Z"
   },
   {
    "duration": 0,
    "start_time": "2023-06-28T22:22:37.884Z"
   },
   {
    "duration": 0,
    "start_time": "2023-06-28T22:22:37.884Z"
   },
   {
    "duration": 0,
    "start_time": "2023-06-28T22:22:37.887Z"
   },
   {
    "duration": 0,
    "start_time": "2023-06-28T22:22:37.888Z"
   },
   {
    "duration": 0,
    "start_time": "2023-06-28T22:22:37.889Z"
   },
   {
    "duration": 0,
    "start_time": "2023-06-28T22:22:37.890Z"
   },
   {
    "duration": 399,
    "start_time": "2023-06-28T22:24:28.051Z"
   },
   {
    "duration": 1209,
    "start_time": "2023-06-28T22:24:45.494Z"
   },
   {
    "duration": 638,
    "start_time": "2023-06-28T22:24:46.705Z"
   },
   {
    "duration": 4,
    "start_time": "2023-06-28T22:24:47.345Z"
   },
   {
    "duration": 45,
    "start_time": "2023-06-28T22:24:47.351Z"
   },
   {
    "duration": 4,
    "start_time": "2023-06-28T22:24:47.397Z"
   },
   {
    "duration": 210,
    "start_time": "2023-06-28T22:24:47.403Z"
   },
   {
    "duration": 4,
    "start_time": "2023-06-28T22:24:47.615Z"
   },
   {
    "duration": 1044,
    "start_time": "2023-06-28T22:24:47.621Z"
   },
   {
    "duration": 9,
    "start_time": "2023-06-28T22:24:48.668Z"
   },
   {
    "duration": 68,
    "start_time": "2023-06-28T22:24:48.680Z"
   },
   {
    "duration": 146,
    "start_time": "2023-06-28T22:24:48.750Z"
   },
   {
    "duration": 88,
    "start_time": "2023-06-28T22:24:48.898Z"
   },
   {
    "duration": 7,
    "start_time": "2023-06-28T22:24:48.988Z"
   },
   {
    "duration": 252,
    "start_time": "2023-06-28T22:24:48.997Z"
   },
   {
    "duration": 2100,
    "start_time": "2023-06-28T22:24:49.251Z"
   },
   {
    "duration": 42,
    "start_time": "2023-06-28T22:24:51.352Z"
   },
   {
    "duration": 288,
    "start_time": "2023-06-28T22:24:51.395Z"
   },
   {
    "duration": 330,
    "start_time": "2023-06-28T22:24:51.687Z"
   },
   {
    "duration": 12,
    "start_time": "2023-06-28T22:24:52.018Z"
   },
   {
    "duration": 404,
    "start_time": "2023-06-28T22:24:52.031Z"
   },
   {
    "duration": 158,
    "start_time": "2023-06-28T22:24:52.436Z"
   },
   {
    "duration": 35,
    "start_time": "2023-06-28T22:24:52.595Z"
   },
   {
    "duration": 17,
    "start_time": "2023-06-28T22:24:52.632Z"
   },
   {
    "duration": 34,
    "start_time": "2023-06-28T22:24:52.650Z"
   },
   {
    "duration": 7,
    "start_time": "2023-06-28T22:24:52.685Z"
   },
   {
    "duration": 24,
    "start_time": "2023-06-28T22:24:52.693Z"
   },
   {
    "duration": 28,
    "start_time": "2023-06-28T22:24:52.718Z"
   },
   {
    "duration": 3,
    "start_time": "2023-06-28T22:24:52.749Z"
   },
   {
    "duration": 37,
    "start_time": "2023-06-28T22:24:52.754Z"
   },
   {
    "duration": 34,
    "start_time": "2023-06-28T22:24:52.793Z"
   },
   {
    "duration": 82,
    "start_time": "2023-06-28T22:24:52.829Z"
   },
   {
    "duration": 10,
    "start_time": "2023-06-28T22:24:52.912Z"
   },
   {
    "duration": 298,
    "start_time": "2023-06-28T22:24:52.923Z"
   },
   {
    "duration": 17,
    "start_time": "2023-06-28T22:24:53.223Z"
   },
   {
    "duration": 51,
    "start_time": "2023-06-28T22:24:53.242Z"
   },
   {
    "duration": 138,
    "start_time": "2023-06-28T22:24:53.294Z"
   },
   {
    "duration": 7,
    "start_time": "2023-06-28T22:24:53.434Z"
   },
   {
    "duration": 35,
    "start_time": "2023-06-28T22:24:53.443Z"
   },
   {
    "duration": 62,
    "start_time": "2023-06-28T22:24:53.480Z"
   },
   {
    "duration": 275,
    "start_time": "2023-06-28T22:24:53.544Z"
   },
   {
    "duration": 422,
    "start_time": "2023-06-28T22:24:53.821Z"
   },
   {
    "duration": 55,
    "start_time": "2023-06-28T22:24:54.245Z"
   },
   {
    "duration": 403,
    "start_time": "2023-06-28T22:24:54.301Z"
   },
   {
    "duration": 4,
    "start_time": "2023-06-28T22:24:54.706Z"
   },
   {
    "duration": 9,
    "start_time": "2023-06-28T22:24:54.711Z"
   },
   {
    "duration": 11,
    "start_time": "2023-06-28T22:24:54.721Z"
   },
   {
    "duration": 42,
    "start_time": "2023-06-28T22:24:54.733Z"
   }
  ],
  "kernelspec": {
   "display_name": "Python 3 (ipykernel)",
   "language": "python",
   "name": "python3"
  },
  "language_info": {
   "codemirror_mode": {
    "name": "ipython",
    "version": 3
   },
   "file_extension": ".py",
   "mimetype": "text/x-python",
   "name": "python",
   "nbconvert_exporter": "python",
   "pygments_lexer": "ipython3",
   "version": "3.9.13"
  },
  "toc": {
   "base_numbering": 1,
   "nav_menu": {},
   "number_sections": true,
   "sideBar": true,
   "skip_h1_title": true,
   "title_cell": "Table of Contents",
   "title_sidebar": "Contents",
   "toc_cell": false,
   "toc_position": {},
   "toc_section_display": true,
   "toc_window_display": false
  }
 },
 "nbformat": 4,
 "nbformat_minor": 5
}
